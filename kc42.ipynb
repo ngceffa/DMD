{
 "cells": [
  {
   "cell_type": "code",
   "execution_count": 1,
   "metadata": {},
   "outputs": [],
   "source": [
    "import dmd_with_power_control_single_task as DMD\n",
    "import imageio\n",
    "import numpy as np\n",
    "import time\n",
    "from glob import glob\n",
    "import os\n",
    "import importlib\n",
    "importlib.reload(DMD)\n",
    "import napari as nap"
   ]
  },
  {
   "cell_type": "code",
   "execution_count": 2,
   "metadata": {},
   "outputs": [
    {
     "name": "stdout",
     "output_type": "stream",
     "text": [
      "Loading library: C:/Program Files/ALP-4.3/ALP-4.3 API/x64/alp4395.dll\n",
      "DMD found, resolution = 1920 x 1200.\n",
      "DMD patterns folder already exists.\n"
     ]
    },
    {
     "name": "stderr",
     "output_type": "stream",
     "text": [
      "c:\\Users\\Light Sheet User\\Documents\\GitHub\\DMD\\dmd_with_power_control_single_task.py:42: ResourceWarning: unclosed file <_io.BufferedReader name='C:\\\\\\\\Users\\\\\\\\Light Sheet User\\\\\\\\Desktop\\\\\\\\DMD_parameters.pickled'>\n",
      "  self.parameters = pickle.load(open(general_parameters_folder, 'rb'))\n",
      "ResourceWarning: Enable tracemalloc to get the object allocation traceback\n"
     ]
    }
   ],
   "source": [
    "XP_FOLDER = r'D:\\Data\\kc42' # \n",
    "TARGET_FOLDER = XP_FOLDER + r'\\3_488_20240629_121633' # *D:\\Data\\kc42\\\n",
    "GENERAL_PARAMETERS = r'C:\\\\Users\\\\Light Sheet User\\\\Desktop\\\\DMD_parameters.pickled'\n",
    "\n",
    "mirrors = DMD.dmd(XP_FOLDER, TARGET_FOLDER, GENERAL_PARAMETERS)\n",
    "# Prints basic information about the DMD.\n",
    "mirrors.idle()\n",
    "mirrors.select_ROIs()"
   ]
  },
  {
   "cell_type": "code",
   "execution_count": 3,
   "metadata": {},
   "outputs": [
    {
     "name": "stdout",
     "output_type": "stream",
     "text": [
      "Found 1 ROI(s)\n"
     ]
    }
   ],
   "source": [
    "mirrors.import_N_rois(exp='3_1')"
   ]
  },
  {
   "cell_type": "code",
   "execution_count": 6,
   "metadata": {},
   "outputs": [
    {
     "name": "stderr",
     "output_type": "stream",
     "text": [
      "C:\\Users\\Light Sheet User\\AppData\\Local\\Temp\\ipykernel_11996\\1032064100.py:9: DeprecationWarning: Starting with ImageIO v3 the behavior of this function will switch to that of iio.v3.imread. To keep the current behavior (and make this warning disappear) use `import imageio.v2 as imageio` or call `imageio.v2.imread` directly.\n",
      "  img1 = imageio.imread(masks_path + '\\\\mask_1.png') # odour1\n"
     ]
    },
    {
     "name": "stdout",
     "output_type": "stream",
     "text": [
      "DMD ON,  input voltage 2.000000 \n",
      "\n",
      "DMD ON,  input voltage 2.000000 \n",
      "\n",
      "DMD ON,  input voltage 2.000000 \n",
      "\n"
     ]
    }
   ],
   "source": [
    "masks_path = r'D:\\Data\\kc42\\excitation_patterns\\3_1'\n",
    "\n",
    "# The path to the current acquisition folder is needed in order to save the sequence of projections.\n",
    "current_acquisition = r'\\3_3_20240629_140924' #D:\\Data\\kc42\\\n",
    "protocol_name = r\"/3_3\"\n",
    "images_folder = mirrors.xp_folder + current_acquisition\n",
    "\n",
    "\n",
    "img1 = imageio.imread(masks_path + '\\\\mask_1.png') # odour1\n",
    "\n",
    "start = time.time()\n",
    "\n",
    "power = 2. # changed from 2\n",
    "\n",
    "on_time = 60\n",
    "off_time = 120\n",
    "\n",
    "for i in range(3):\n",
    "    mirrors.project(img1, power); time.sleep(on_time); mirrors.idle(); time.sleep(off_time)\n",
    "\n",
    "# SAVE THE PROTOCOL\n",
    "filenames_camera_0 = r'\\SPC00_TM*_ANG000_CM0_CHN00_PH0.stack'\n",
    "all_volumes = sorted(glob(images_folder + filenames_camera_0))\n",
    "for num, volume in enumerate(all_volumes):\n",
    "    current = os.path.getctime(volume)\n",
    "    if current - start > 0:\n",
    "        break\n",
    "\n",
    "np.savez(images_folder + protocol_name,\\\n",
    "         TM=num, images=[\"1\", \"dark\",\"1\", \"dark\",\"1\", \"dark\"\n",
    "                         ], \\\n",
    "                durations=[on_time, off_time, on_time, off_time, \n",
    "                           on_time, off_time]\n",
    "                ) # 7.5 mins"
   ]
  },
  {
   "cell_type": "code",
   "execution_count": 5,
   "metadata": {},
   "outputs": [
    {
     "name": "stderr",
     "output_type": "stream",
     "text": [
      "C:\\Users\\Light Sheet User\\AppData\\Local\\Temp\\ipykernel_21544\\3046032960.py:9: DeprecationWarning: Starting with ImageIO v3 the behavior of this function will switch to that of iio.v3.imread. To keep the current behavior (and make this warning disappear) use `import imageio.v2 as imageio` or call `imageio.v2.imread` directly.\n",
      "  img1 = imageio.imread(masks_path + '\\\\mask_1.png') # odour1\n"
     ]
    },
    {
     "name": "stdout",
     "output_type": "stream",
     "text": [
      "DMD ON,  input voltage 2.000000 \n",
      "\n",
      "DMD ON,  input voltage 2.000000 \n",
      "\n",
      "DMD ON,  input voltage 2.000000 \n",
      "\n",
      "DMD ON,  input voltage 2.000000 \n",
      "\n",
      "DMD ON,  input voltage 2.000000 \n",
      "\n"
     ]
    }
   ],
   "source": [
    "masks_path = r'D:\\Data\\kc42\\excitation_patterns\\2_1'\n",
    "\n",
    "# The path to the current acquisition folder is needed in order to save the sequence of projections.\n",
    "current_acquisition = r'\\2_2_20240628_114908' #D:\\Data\\kc42\\\n",
    "protocol_name = r\"/2_2\"\n",
    "images_folder = mirrors.xp_folder + current_acquisition\n",
    "\n",
    "\n",
    "img1 = imageio.imread(masks_path + '\\\\mask_1.png') # odour1\n",
    "\n",
    "start = time.time()\n",
    "\n",
    "power = 2. # changed from 2\n",
    "\n",
    "on_time = 60\n",
    "off_time = 100\n",
    "\n",
    "for i in range(5):\n",
    "    mirrors.project(img1, power); time.sleep(on_time); mirrors.idle(); time.sleep(off_time)\n",
    "\n",
    "# SAVE THE PROTOCOL\n",
    "filenames_camera_0 = r'\\SPC00_TM*_ANG000_CM0_CHN00_PH0.stack'\n",
    "all_volumes = sorted(glob(images_folder + filenames_camera_0))\n",
    "for num, volume in enumerate(all_volumes):\n",
    "    current = os.path.getctime(volume)\n",
    "    if current - start > 0:\n",
    "        break\n",
    "\n",
    "np.savez(images_folder + protocol_name,\\\n",
    "         TM=num, images=[\"1\", \"dark\",\"1\", \"dark\",\"1\", \"dark\",\"1\", \"dark\",\"1\", \"dark\",\n",
    "                         ], \\\n",
    "                durations=[on_time, off_time, on_time, off_time, \n",
    "                           on_time, off_time, on_time, off_time,\n",
    "                           on_time, off_time\n",
    "                           ]\n",
    "                ) # 15 mins"
   ]
  },
  {
   "cell_type": "markdown",
   "metadata": {},
   "source": [
    "SAM's"
   ]
  },
  {
   "cell_type": "code",
   "execution_count": 5,
   "metadata": {},
   "outputs": [
    {
     "name": "stderr",
     "output_type": "stream",
     "text": [
      "C:\\Users\\Light Sheet User\\AppData\\Local\\Temp\\ipykernel_24208\\1672739287.py:9: DeprecationWarning: Starting with ImageIO v3 the behavior of this function will switch to that of iio.v3.imread. To keep the current behavior (and make this warning disappear) use `import imageio.v2 as imageio` or call `imageio.v2.imread` directly.\n",
      "  img1 = imageio.imread(masks_path + '\\\\mask_1.png') # odour1\n",
      "C:\\Users\\Light Sheet User\\AppData\\Local\\Temp\\ipykernel_24208\\1672739287.py:10: DeprecationWarning: Starting with ImageIO v3 the behavior of this function will switch to that of iio.v3.imread. To keep the current behavior (and make this warning disappear) use `import imageio.v2 as imageio` or call `imageio.v2.imread` directly.\n",
      "  img2 = imageio.imread(masks_path + '\\\\mask_2.png') # odour2\n",
      "C:\\Users\\Light Sheet User\\AppData\\Local\\Temp\\ipykernel_24208\\1672739287.py:11: DeprecationWarning: Starting with ImageIO v3 the behavior of this function will switch to that of iio.v3.imread. To keep the current behavior (and make this warning disappear) use `import imageio.v2 as imageio` or call `imageio.v2.imread` directly.\n",
      "  img3 = imageio.imread(masks_path + '\\\\mask_3.png') # pain\n"
     ]
    },
    {
     "name": "stdout",
     "output_type": "stream",
     "text": [
      "DMD ON,  input voltage 2.200000 \n",
      "\n",
      "DMD ON,  input voltage 2.200000 \n",
      "\n",
      "DMD ON,  input voltage 2.200000 \n",
      "\n",
      "DMD ON,  input voltage 2.200000 \n",
      "\n",
      "DMD ON,  input voltage 2.200000 \n",
      "\n",
      "DMD ON,  input voltage 2.200000 \n",
      "\n",
      "DMD ON,  input voltage 2.200000 \n",
      "\n",
      "DMD ON,  input voltage 2.200000 \n",
      "\n",
      "DMD ON,  input voltage 2.200000 \n",
      "\n",
      "DMD ON,  input voltage 2.200000 \n",
      "\n",
      "DMD ON,  input voltage 2.200000 \n",
      "\n",
      "DMD ON,  input voltage 2.200000 \n",
      "\n",
      "DMD ON,  input voltage 2.200000 \n",
      "\n",
      "DMD ON,  input voltage 2.200000 \n",
      "\n",
      "DMD ON,  input voltage 2.200000 \n",
      "\n",
      "DMD ON,  input voltage 2.200000 \n",
      "\n",
      "DMD ON,  input voltage 2.200000 \n",
      "\n",
      "DMD ON,  input voltage 2.200000 \n",
      "\n",
      "DMD ON,  input voltage 2.200000 \n",
      "\n",
      "DMD ON,  input voltage 2.200000 \n",
      "\n",
      "DMD ON,  input voltage 2.200000 \n",
      "\n",
      "DMD ON,  input voltage 2.200000 \n",
      "\n",
      "DMD ON,  input voltage 2.200000 \n",
      "\n",
      "DMD ON,  input voltage 2.200000 \n",
      "\n",
      "DMD ON,  input voltage 2.200000 \n",
      "\n",
      "DMD ON,  input voltage 2.200000 \n",
      "\n",
      "DMD ON,  input voltage 2.200000 \n",
      "\n",
      "DMD ON,  input voltage 2.200000 \n",
      "\n",
      "DMD ON,  input voltage 2.200000 \n",
      "\n",
      "DMD ON,  input voltage 2.200000 \n",
      "\n",
      "DMD ON,  input voltage 2.200000 \n",
      "\n",
      "DMD ON,  input voltage 2.200000 \n",
      "\n",
      "DMD ON,  input voltage 2.200000 \n",
      "\n",
      "DMD ON,  input voltage 2.200000 \n",
      "\n",
      "DMD ON,  input voltage 2.200000 \n",
      "\n",
      "DMD ON,  input voltage 2.200000 \n",
      "\n",
      "DMD ON,  input voltage 2.200000 \n",
      "\n",
      "DMD ON,  input voltage 2.200000 \n",
      "\n",
      "DMD ON,  input voltage 2.200000 \n",
      "\n",
      "DMD ON,  input voltage 2.200000 \n",
      "\n",
      "DMD ON,  input voltage 2.200000 \n",
      "\n",
      "DMD ON,  input voltage 2.200000 \n",
      "\n"
     ]
    }
   ],
   "source": [
    "masks_path = r'D:\\Data\\d1\\excitation_patterns\\03_1'\n",
    "\n",
    "# The path to the current acquisition folder is needed in order to save the sequence of projections.\n",
    "current_acquisition = r'\\03_2_20240622_124949' # D:\\Data\\d1\n",
    "protocol_name = r\"/03_2\"\n",
    "images_folder = mirrors.xp_folder + current_acquisition\n",
    "\n",
    "\n",
    "img1 = imageio.imread(masks_path + '\\\\mask_1.png') # odour1\n",
    "img2 = imageio.imread(masks_path + '\\\\mask_2.png') # odour2\n",
    "img3 = imageio.imread(masks_path + '\\\\mask_3.png') # pain\n",
    "\n",
    "# tot = mirrors.sum_patterns([img2, img3]) # odour 1 + pain\n",
    "odpun = mirrors.sum_patterns([img1, img3]) # odour 1 + pain\n",
    "\n",
    "start = time.time()\n",
    "\n",
    "power = 2.2 # changed from 2\n",
    "\n",
    "on_time = 10\n",
    "off_time = 30\n",
    "train_off_time = 10 # changed from 10\n",
    "rep_dead_time = 20\n",
    "\n",
    "for i in range(2):\n",
    "    mirrors.project(img1, power); time.sleep(2*on_time); mirrors.idle(); time.sleep(off_time)\n",
    "    mirrors.project(img2, power); time.sleep(2*on_time); mirrors.idle(); time.sleep(off_time)\n",
    "\n",
    "mirrors.project(img1, power); time.sleep(2*on_time); mirrors.idle(); time.sleep(off_time)\n",
    "mirrors.project(img2, power); time.sleep(2*on_time); mirrors.idle(); time.sleep(60)\n",
    "\n",
    "for i in range(9):\n",
    "    mirrors.project(img1, power); time.sleep(on_time); \n",
    "    mirrors.project(odpun, power); time.sleep(on_time); mirrors.idle(); time.sleep(train_off_time)\n",
    "    mirrors.project(img2, power); time.sleep(2*on_time); mirrors.idle(); time.sleep(rep_dead_time)\n",
    "\n",
    "mirrors.project(img1, power); time.sleep(on_time); \n",
    "mirrors.project(odpun, power); time.sleep(on_time); mirrors.idle(); time.sleep(train_off_time)\n",
    "mirrors.project(img2, power); time.sleep(2*on_time); mirrors.idle(); time.sleep(60)\n",
    "\n",
    "for i in range(3):\n",
    "    mirrors.project(img1, power); time.sleep(2*on_time); mirrors.idle(); time.sleep(off_time)\n",
    "    mirrors.project(img2, power); time.sleep(2*on_time); mirrors.idle(); time.sleep(off_time)\n",
    "\n",
    "\n",
    "# SAVE THE PROTOCOL\n",
    "filenames_camera_0 = r'\\SPC00_TM*_ANG000_CM0_CHN00_PH0.stack'\n",
    "all_volumes = sorted(glob(images_folder + filenames_camera_0))\n",
    "for num, volume in enumerate(all_volumes):\n",
    "    current = os.path.getctime(volume)\n",
    "    if current - start > 0:\n",
    "        break\n",
    "\n",
    "np.savez(images_folder + protocol_name,\\\n",
    "         TM=num, images=[\"1\", \"dark\", \"2\", \"dark\", \"1\", \"dark\", \"2\", \"dark\", \"1\", \"dark\", \"2\", \"dark\",\n",
    "                         \"1\", \"1pun\", \"dark\", \"2\", \"dark\", \"1\", \"1pun\", \"dark\", \"2\", \"dark\",\n",
    "                        \"1\", \"1pun\", \"dark\", \"2\", \"dark\", \"1\", \"1pun\", \"dark\", \"2\", \"dark\",\n",
    "                        \"1\", \"1pun\", \"dark\", \"2\", \"dark\", \"1\", \"1pun\", \"dark\", \"2\", \"dark\",\n",
    "                        \"1\", \"1pun\", \"dark\", \"2\", \"dark\", \"1\", \"1pun\", \"dark\", \"2\", \"dark\",\n",
    "                        \"1\", \"1pun\", \"dark\", \"2\", \"dark\", \"1\", \"1pun\", \"dark\", \"2\", \"dark\",\n",
    "                         \"1\", \"dark\", \"2\", \"dark\", \"1\", \"dark\", \"2\", \"dark\", \"1\", \"dark\", \"2\", \"dark\",\n",
    "                         ], \\\n",
    "                durations=[2*on_time, off_time, 2*on_time, off_time, \n",
    "                           2*on_time, off_time, 2*on_time, off_time,\n",
    "                           2*on_time, off_time, 2*on_time, 60,\n",
    "                           on_time, on_time, train_off_time, 2*on_time, rep_dead_time,\n",
    "                           on_time, on_time, train_off_time, 2*on_time, rep_dead_time,\n",
    "                           on_time, on_time, train_off_time, 2*on_time, rep_dead_time,\n",
    "                           on_time, on_time, train_off_time, 2*on_time, rep_dead_time,\n",
    "                           on_time, on_time, train_off_time, 2*on_time, rep_dead_time,\n",
    "                           on_time, on_time, train_off_time, 2*on_time, rep_dead_time,\n",
    "                           on_time, on_time, train_off_time, 2*on_time, rep_dead_time,\n",
    "                           on_time, on_time, train_off_time, 2*on_time, rep_dead_time,\n",
    "                           on_time, on_time, train_off_time, 2*on_time, rep_dead_time,\n",
    "                           on_time, on_time, train_off_time, 2*on_time, 60,\n",
    "                           2*on_time, off_time, 2*on_time, off_time, \n",
    "                           2*on_time, off_time, 2*on_time, off_time,\n",
    "                           2*on_time, off_time, 2*on_time, off_time,\n",
    "                           ]\n",
    "                ) # 22 mins 51 sec"
   ]
  }
 ],
 "metadata": {
  "kernelspec": {
   "display_name": "Python 3",
   "language": "python",
   "name": "python3"
  },
  "language_info": {
   "codemirror_mode": {
    "name": "ipython",
    "version": 3
   },
   "file_extension": ".py",
   "mimetype": "text/x-python",
   "name": "python",
   "nbconvert_exporter": "python",
   "pygments_lexer": "ipython3",
   "version": "3.10.12"
  }
 },
 "nbformat": 4,
 "nbformat_minor": 2
}
