{
 "cells": [
  {
   "cell_type": "code",
   "execution_count": 1,
   "metadata": {},
   "outputs": [],
   "source": [
    "import dmd_with_power_control_single_task as DMD\n",
    "import imageio\n",
    "import numpy as np\n",
    "import time\n",
    "from glob import glob\n",
    "import os\n",
    "import importlib\n",
    "importlib.reload(DMD)\n",
    "import napari as nap"
   ]
  },
  {
   "cell_type": "code",
   "execution_count": 2,
   "metadata": {},
   "outputs": [
    {
     "name": "stdout",
     "output_type": "stream",
     "text": [
      "Loading library: C:/Program Files/ALP-4.3/ALP-4.3 API/x64/alp4395.dll\n",
      "DMD found, resolution = 1920 x 1200.\n",
      "DMD patterns folder already exists.\n"
     ]
    },
    {
     "name": "stderr",
     "output_type": "stream",
     "text": [
      "c:\\Users\\Light Sheet User\\Documents\\GitHub\\DMD\\dmd_with_power_control_single_task.py:42: ResourceWarning: unclosed file <_io.BufferedReader name='C:\\\\\\\\Users\\\\\\\\Light Sheet User\\\\\\\\Desktop\\\\\\\\DMD_parameters.pickled'>\n",
      "  self.parameters = pickle.load(open(general_parameters_folder, 'rb'))\n",
      "ResourceWarning: Enable tracemalloc to get the object allocation traceback\n"
     ]
    }
   ],
   "source": [
    "XP_FOLDER = r'D:\\Data\\DAN-habituation' # \n",
    "TARGET_FOLDER = XP_FOLDER + r'\\5_1__mVenus_20240714_144457' \n",
    "GENERAL_PARAMETERS = r'C:\\\\Users\\\\Light Sheet User\\\\Desktop\\\\DMD_parameters.pickled'\n",
    "\n",
    "mirrors = DMD.dmd(XP_FOLDER, TARGET_FOLDER, GENERAL_PARAMETERS)\n",
    "# Prints basic information about the DMD.\n",
    "mirrors.idle()"
   ]
  },
  {
   "cell_type": "markdown",
   "metadata": {},
   "source": [
    "SELECT ROIs"
   ]
  },
  {
   "cell_type": "code",
   "execution_count": 3,
   "metadata": {},
   "outputs": [],
   "source": [
    "mirrors.select_ROIs()"
   ]
  },
  {
   "cell_type": "markdown",
   "metadata": {},
   "source": [
    "IMPORT the ROIs for usage"
   ]
  },
  {
   "cell_type": "code",
   "execution_count": 4,
   "metadata": {},
   "outputs": [
    {
     "name": "stdout",
     "output_type": "stream",
     "text": [
      "Found 2 ROI(s)\n"
     ]
    }
   ],
   "source": [
    "mirrors.import_N_rois(exp='5_1')"
   ]
  },
  {
   "cell_type": "markdown",
   "metadata": {},
   "source": [
    "Habituation Protocol - CS1, CS2, and 20 minutes of habituation for CS1"
   ]
  },
  {
   "cell_type": "code",
   "execution_count": 5,
   "metadata": {},
   "outputs": [
    {
     "name": "stderr",
     "output_type": "stream",
     "text": [
      "C:\\Users\\Light Sheet User\\AppData\\Local\\Temp\\ipykernel_13532\\2088900266.py:9: DeprecationWarning: Starting with ImageIO v3 the behavior of this function will switch to that of iio.v3.imread. To keep the current behavior (and make this warning disappear) use `import imageio.v2 as imageio` or call `imageio.v2.imread` directly.\n",
      "  img1 = imageio.imread(masks_path + '\\\\mask_1.png') # odour1\n",
      "C:\\Users\\Light Sheet User\\AppData\\Local\\Temp\\ipykernel_13532\\2088900266.py:10: DeprecationWarning: Starting with ImageIO v3 the behavior of this function will switch to that of iio.v3.imread. To keep the current behavior (and make this warning disappear) use `import imageio.v2 as imageio` or call `imageio.v2.imread` directly.\n",
      "  img2 = imageio.imread(masks_path + '\\\\mask_2.png') # odour2\n"
     ]
    },
    {
     "name": "stdout",
     "output_type": "stream",
     "text": [
      "DMD ON,  input voltage 2.000000 \n",
      "\n",
      "DMD ON,  input voltage 2.000000 \n",
      "\n",
      "DMD ON,  input voltage 2.000000 \n",
      "\n",
      "DMD ON,  input voltage 2.000000 \n",
      "\n",
      "DMD ON,  input voltage 2.000000 \n",
      "\n",
      "DMD ON,  input voltage 2.000000 \n",
      "\n",
      "DMD ON,  input voltage 2.000000 \n",
      "\n",
      "DMD ON,  input voltage 2.000000 \n",
      "\n",
      "DMD ON,  input voltage 2.000000 \n",
      "\n",
      "DMD ON,  input voltage 2.000000 \n",
      "\n",
      "DMD ON,  input voltage 2.000000 \n",
      "\n",
      "DMD ON,  input voltage 2.000000 \n",
      "\n",
      "DMD ON,  input voltage 2.000000 \n",
      "\n"
     ]
    }
   ],
   "source": [
    "masks_path = r'D:\\Data\\DAN-habituation\\excitation_patterns\\5_1'\n",
    "\n",
    "# The path to the current acquisition folder is needed in order to save the sequence of projections.\n",
    "current_acquisition = r'\\5_1__DAN_20240714_144634' # D:\\Data\\OR83b_ppk72__20xpair_half\\14_1__DAN_20240625_151102\n",
    "protocol_name = r\"/5_1\"\n",
    "images_folder = mirrors.xp_folder + current_acquisition\n",
    "\n",
    "\n",
    "img1 = imageio.imread(masks_path + '\\\\mask_1.png') # odour1\n",
    "img2 = imageio.imread(masks_path + '\\\\mask_2.png') # odour2\n",
    "\n",
    "start = time.time()\n",
    "\n",
    "power = 2. # changed from 2\n",
    "\n",
    "on_time = 20\n",
    "off_time = 30\n",
    "\n",
    "habituation_time = 20 * 60\n",
    "\n",
    "for i in range(2):\n",
    "    mirrors.project(img1, power); time.sleep(on_time); mirrors.idle(); time.sleep(off_time)\n",
    "    mirrors.project(img2, power); time.sleep(on_time); mirrors.idle(); time.sleep(off_time)\n",
    "\n",
    "mirrors.project(img1, power); time.sleep(on_time); mirrors.idle(); time.sleep(off_time)\n",
    "mirrors.project(img2, power); time.sleep(on_time); mirrors.idle(); time.sleep(60)\n",
    "\n",
    "mirrors.project(img1, power); time.sleep(habituation_time); mirrors.idle(); time.sleep(60)\n",
    "\n",
    "for i in range(3):\n",
    "    mirrors.project(img1, power); time.sleep(on_time); mirrors.idle(); time.sleep(off_time)\n",
    "    mirrors.project(img2, power); time.sleep(on_time); mirrors.idle(); time.sleep(off_time)\n",
    "\n",
    "\n",
    "# SAVE THE PROTOCOL\n",
    "filenames_camera_0 = r'\\SPC00_TM*_ANG000_CM0_CHN00_PH0.stack'\n",
    "all_volumes = sorted(glob(images_folder + filenames_camera_0))\n",
    "for num, volume in enumerate(all_volumes):\n",
    "    current = os.path.getctime(volume)\n",
    "    if current - start > 0:\n",
    "        break\n",
    "\n",
    "np.savez(images_folder + protocol_name,\\\n",
    "         TM=num, \\\n",
    "         images=[\"1\", \"dark\", \"2\", \"dark\", \"1\", \"dark\", \"2\", \"dark\", \"1\", \"dark\", \"2\", \"dark\",\n",
    "                         \"1\", \"dark\",\n",
    "                         \"1\", \"dark\", \"2\", \"dark\", \"1\", \"dark\", \"2\", \"dark\", \"1\", \"dark\", \"2\", \"dark\",\n",
    "                         ], \\\n",
    "        durations=[on_time, off_time, on_time, off_time, \n",
    "                    on_time, off_time, on_time, off_time,\n",
    "                    on_time, off_time, on_time, 60,\n",
    "                    habituation_time, 60,\n",
    "                    on_time, off_time, on_time, off_time, \n",
    "                    on_time, off_time, on_time, off_time,\n",
    "                    on_time, off_time, on_time, off_time,\n",
    "                    ]\n",
    "                ) # 31.5 mins"
   ]
  },
  {
   "cell_type": "markdown",
   "metadata": {},
   "source": [
    "Habituation Post-Test (After 5 minutes):"
   ]
  },
  {
   "cell_type": "code",
   "execution_count": 6,
   "metadata": {},
   "outputs": [
    {
     "name": "stderr",
     "output_type": "stream",
     "text": [
      "C:\\Users\\Light Sheet User\\AppData\\Local\\Temp\\ipykernel_13532\\3554503331.py:9: DeprecationWarning: Starting with ImageIO v3 the behavior of this function will switch to that of iio.v3.imread. To keep the current behavior (and make this warning disappear) use `import imageio.v2 as imageio` or call `imageio.v2.imread` directly.\n",
      "  img1 = imageio.imread(masks_path + '\\\\mask_1.png') # odour1\n",
      "C:\\Users\\Light Sheet User\\AppData\\Local\\Temp\\ipykernel_13532\\3554503331.py:10: DeprecationWarning: Starting with ImageIO v3 the behavior of this function will switch to that of iio.v3.imread. To keep the current behavior (and make this warning disappear) use `import imageio.v2 as imageio` or call `imageio.v2.imread` directly.\n",
      "  img2 = imageio.imread(masks_path + '\\\\mask_2.png') # odour2\n"
     ]
    },
    {
     "name": "stdout",
     "output_type": "stream",
     "text": [
      "DMD ON,  input voltage 2.000000 \n",
      "\n",
      "DMD ON,  input voltage 2.000000 \n",
      "\n",
      "DMD ON,  input voltage 2.000000 \n",
      "\n",
      "DMD ON,  input voltage 2.000000 \n",
      "\n",
      "DMD ON,  input voltage 2.000000 \n",
      "\n",
      "DMD ON,  input voltage 2.000000 \n",
      "\n"
     ]
    }
   ],
   "source": [
    "masks_path = r'D:\\Data\\DAN-habituation\\excitation_patterns\\5_1'\n",
    "\n",
    "# The path to the current acquisition folder is needed in order to save the sequence of projections.\n",
    "current_acquisition = r'\\5_2__DAN_20240714_153048' # D:\\Data\\OR83b_ppk72__20xpair_half\\14_1__DAN_20240625_151102\n",
    "protocol_name = r\"/5_2\"\n",
    "images_folder = mirrors.xp_folder + current_acquisition\n",
    "\n",
    "\n",
    "img1 = imageio.imread(masks_path + '\\\\mask_1.png') # odour1\n",
    "img2 = imageio.imread(masks_path + '\\\\mask_2.png') # odour2\n",
    "\n",
    "start = time.time()\n",
    "\n",
    "power = 2. # changed from 2\n",
    "\n",
    "on_time = 20\n",
    "off_time = 30\n",
    "\n",
    "for i in range(2):\n",
    "    mirrors.project(img1, power); time.sleep(on_time); mirrors.idle(); time.sleep(off_time)\n",
    "    mirrors.project(img2, power); time.sleep(on_time); mirrors.idle(); time.sleep(off_time)\n",
    "\n",
    "mirrors.project(img1, power); time.sleep(on_time); mirrors.idle(); time.sleep(off_time)\n",
    "mirrors.project(img2, power); time.sleep(on_time); mirrors.idle(); time.sleep(60)\n",
    "\n",
    "\n",
    "# SAVE THE PROTOCOL\n",
    "filenames_camera_0 = r'\\SPC00_TM*_ANG000_CM0_CHN00_PH0.stack'\n",
    "all_volumes = sorted(glob(images_folder + filenames_camera_0))\n",
    "for num, volume in enumerate(all_volumes):\n",
    "    current = os.path.getctime(volume)\n",
    "    if current - start > 0:\n",
    "        break\n",
    "\n",
    "np.savez(images_folder + protocol_name,\\\n",
    "         TM=num, \\\n",
    "         images=[\"1\", \"dark\", \"2\", \"dark\", \"1\", \"dark\", \"2\", \"dark\", \"1\", \"dark\", \"2\", \"dark\",\n",
    "                         ], \\\n",
    "        durations=[on_time, off_time, on_time, off_time, \n",
    "                    on_time, off_time, on_time, off_time,\n",
    "                    on_time, off_time, on_time, 60,\n",
    "                    ]\n",
    "                ) # 5.5 mins\n"
   ]
  },
  {
   "cell_type": "code",
   "execution_count": 1,
   "metadata": {},
   "outputs": [
    {
     "name": "stdout",
     "output_type": "stream",
     "text": [
      "5.5\n"
     ]
    }
   ],
   "source": [
    "on_time = 20\n",
    "off_time = 30\n",
    "\n",
    "habituation_time = 20 * 60\n",
    "\n",
    "durations=[on_time, off_time, on_time, off_time, \n",
    "                           on_time, off_time, on_time, off_time,\n",
    "                           on_time, off_time, on_time, 60,\n",
    "                           ]\n",
    "\n",
    "t = 0\n",
    "for i in durations:\n",
    "    t+= i\n",
    "\n",
    "\n",
    "print(t/60)"
   ]
  },
  {
   "cell_type": "code",
   "execution_count": 6,
   "metadata": {},
   "outputs": [],
   "source": [
    "import glob\n",
    "import numpy as np\n",
    "\n",
    "on_time = 20\n",
    "off_time = 30\n",
    "\n",
    "habituation_time = 20 * 60\n",
    "\n",
    "num = 460\n",
    "\n",
    "images_folder = r\"D:\\Data\\DAN-habituation\\1_1__DAN_20240707_145931\"\n",
    "protocol_name = r\"/1_1\"\n",
    "\n",
    "# # SAVE THE PROTOCOL\n",
    "# filenames_camera_0 = r'\\SPC00_TM*_ANG000_CM0_CHN00_PH0.stack'\n",
    "# all_volumes = sorted(glob(images_folder + filenames_camera_0))\n",
    "# for num, volume in enumerate(all_volumes):\n",
    "#     current = os.path.getctime(volume)\n",
    "#     if current - start > 0:\n",
    "#         break\n",
    "\n",
    "np.savez(images_folder + protocol_name,\\\n",
    "         TM=num, \\\n",
    "         images=[\"1\", \"dark\", \"2\", \"dark\", \"1\", \"dark\", \"2\", \"dark\", \n",
    "                         \"1\", \"dark\",\n",
    "                         \"1\", \"dark\", \"2\", \"dark\", \"1\", \"dark\", \"2\", \"dark\", \"1\", \"dark\", \"2\", \"dark\",\n",
    "                         ], \\\n",
    "        durations=[on_time, off_time, on_time, off_time, \n",
    "                    on_time, off_time, on_time, off_time,\n",
    "                    habituation_time, 60,\n",
    "                    on_time, off_time, on_time, off_time, \n",
    "                    on_time, off_time, on_time, off_time,\n",
    "                    on_time, off_time, on_time, off_time,\n",
    "                    ]\n",
    "                ) "
   ]
  }
 ],
 "metadata": {
  "kernelspec": {
   "display_name": "Python 3",
   "language": "python",
   "name": "python3"
  },
  "language_info": {
   "codemirror_mode": {
    "name": "ipython",
    "version": 3
   },
   "file_extension": ".py",
   "mimetype": "text/x-python",
   "name": "python",
   "nbconvert_exporter": "python",
   "pygments_lexer": "ipython3",
   "version": "3.10.12"
  }
 },
 "nbformat": 4,
 "nbformat_minor": 2
}
