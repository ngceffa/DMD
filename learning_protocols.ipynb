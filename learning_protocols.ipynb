{
 "cells": [
  {
   "cell_type": "code",
   "execution_count": 1,
   "metadata": {},
   "outputs": [],
   "source": [
    "import dmd_with_power_control_single_task as DMD\n",
    "import imageio\n",
    "import numpy as np\n",
    "import time\n",
    "from glob import glob\n",
    "import os\n",
    "import importlib\n",
    "importlib.reload(DMD)\n",
    "import napari as nap"
   ]
  },
  {
   "cell_type": "code",
   "execution_count": 2,
   "metadata": {},
   "outputs": [
    {
     "name": "stdout",
     "output_type": "stream",
     "text": [
      "Loading library: C:/Program Files/ALP-4.3/ALP-4.3 API/x64/alp4395.dll\n",
      "DMD found, resolution = 1920 x 1200.\n",
      "DMD patterns folder already exists.\n"
     ]
    },
    {
     "name": "stderr",
     "output_type": "stream",
     "text": [
      "c:\\Users\\Light Sheet User\\Documents\\GitHub\\DMD\\dmd_with_power_control_single_task.py:42: ResourceWarning: unclosed file <_io.BufferedReader name='C:\\\\\\\\Users\\\\\\\\Light Sheet User\\\\\\\\Desktop\\\\\\\\DMD_parameters.pickled'>\n",
      "  self.parameters = pickle.load(open(general_parameters_folder, 'rb'))\n",
      "ResourceWarning: Enable tracemalloc to get the object allocation traceback\n"
     ]
    }
   ],
   "source": [
    "XP_FOLDER = r'D:\\Data\\G1-2_72F11_ppk' # **** D:\\Data\\G1-2_72F11_ppk\\\n",
    "TARGET_FOLDER = XP_FOLDER + r'\\16_mvenus_20240303_143116' # ***D:\\Data\\G1-2_72F11_ppk\\16_mvenus_20240303_143116\n",
    "GENERAL_PARAMETERS = r'C:\\\\Users\\\\Light Sheet User\\\\Desktop\\\\DMD_parameters.pickled'\n",
    "\n",
    "mirrors = DMD.dmd(XP_FOLDER, TARGET_FOLDER, GENERAL_PARAMETERS)\n",
    "# Prints basic information about the DMD.\n",
    "\n",
    "mirrors.idle()"
   ]
  },
  {
   "cell_type": "markdown",
   "metadata": {},
   "source": [
    "SELECT ROIs"
   ]
  },
  {
   "cell_type": "code",
   "execution_count": 7,
   "metadata": {},
   "outputs": [],
   "source": [
    "mirrors.select_ROIs()"
   ]
  },
  {
   "cell_type": "markdown",
   "metadata": {},
   "source": [
    "IMPORT THE ROIs for usage"
   ]
  },
  {
   "cell_type": "code",
   "execution_count": 9,
   "metadata": {},
   "outputs": [
    {
     "name": "stdout",
     "output_type": "stream",
     "text": [
      "Found 3 ROI(s)\n"
     ]
    }
   ],
   "source": [
    "mirrors.import_N_rois(exp='16_3')"
   ]
  },
  {
   "cell_type": "code",
   "execution_count": 14,
   "metadata": {},
   "outputs": [
    {
     "name": "stderr",
     "output_type": "stream",
     "text": [
      "C:\\Users\\Light Sheet User\\AppData\\Local\\Temp\\ipykernel_15632\\4171322372.py:9: DeprecationWarning: Starting with ImageIO v3 the behavior of this function will switch to that of iio.v3.imread. To keep the current behavior (and make this warning disappear) use `import imageio.v2 as imageio` or call `imageio.v2.imread` directly.\n",
      "  img2 = imageio.imread(masks_path + '\\\\mask_1.png') # odour1\n",
      "C:\\Users\\Light Sheet User\\AppData\\Local\\Temp\\ipykernel_15632\\4171322372.py:10: DeprecationWarning: Starting with ImageIO v3 the behavior of this function will switch to that of iio.v3.imread. To keep the current behavior (and make this warning disappear) use `import imageio.v2 as imageio` or call `imageio.v2.imread` directly.\n",
      "  img1 = imageio.imread(masks_path + '\\\\mask_2.png') # odour2\n",
      "C:\\Users\\Light Sheet User\\AppData\\Local\\Temp\\ipykernel_15632\\4171322372.py:11: DeprecationWarning: Starting with ImageIO v3 the behavior of this function will switch to that of iio.v3.imread. To keep the current behavior (and make this warning disappear) use `import imageio.v2 as imageio` or call `imageio.v2.imread` directly.\n",
      "  img3 = imageio.imread(masks_path + '\\\\mask_3.png') # pain\n"
     ]
    },
    {
     "name": "stdout",
     "output_type": "stream",
     "text": [
      "DMD ON,  input voltage 2.000000 \n",
      "\n",
      "DMD ON,  input voltage 2.000000 \n",
      "\n",
      "DMD ON,  input voltage 2.000000 \n",
      "\n",
      "DMD ON,  input voltage 2.000000 \n",
      "\n",
      "DMD ON,  input voltage 2.000000 \n",
      "\n",
      "DMD ON,  input voltage 2.000000 \n",
      "\n",
      "DMD ON,  input voltage 2.000000 \n",
      "\n",
      "DMD ON,  input voltage 2.000000 \n",
      "\n",
      "DMD ON,  input voltage 2.000000 \n",
      "\n",
      "DMD ON,  input voltage 2.000000 \n",
      "\n",
      "DMD ON,  input voltage 2.000000 \n",
      "\n",
      "DMD ON,  input voltage 2.000000 \n",
      "\n",
      "DMD ON,  input voltage 2.000000 \n",
      "\n",
      "DMD ON,  input voltage 2.000000 \n",
      "\n",
      "DMD ON,  input voltage 2.000000 \n",
      "\n",
      "DMD ON,  input voltage 2.000000 \n",
      "\n",
      "DMD ON,  input voltage 2.000000 \n",
      "\n",
      "DMD ON,  input voltage 2.000000 \n",
      "\n",
      "DMD ON,  input voltage 2.000000 \n",
      "\n",
      "DMD ON,  input voltage 2.000000 \n",
      "\n",
      "DMD ON,  input voltage 2.000000 \n",
      "\n",
      "DMD ON,  input voltage 2.000000 \n",
      "\n",
      "DMD ON,  input voltage 2.000000 \n",
      "\n",
      "DMD ON,  input voltage 2.000000 \n",
      "\n",
      "DMD ON,  input voltage 2.000000 \n",
      "\n",
      "DMD ON,  input voltage 2.000000 \n",
      "\n",
      "DMD ON,  input voltage 2.000000 \n",
      "\n",
      "DMD ON,  input voltage 2.000000 \n",
      "\n",
      "DMD ON,  input voltage 2.000000 \n",
      "\n",
      "DMD ON,  input voltage 2.000000 \n",
      "\n",
      "DMD ON,  input voltage 2.000000 \n",
      "\n",
      "DMD ON,  input voltage 2.000000 \n",
      "\n",
      "DMD ON,  input voltage 2.000000 \n",
      "\n",
      "DMD ON,  input voltage 2.000000 \n",
      "\n",
      "DMD ON,  input voltage 2.000000 \n",
      "\n",
      "DMD ON,  input voltage 2.000000 \n",
      "\n",
      "DMD ON,  input voltage 2.000000 \n",
      "\n",
      "DMD ON,  input voltage 2.000000 \n",
      "\n",
      "DMD ON,  input voltage 2.000000 \n",
      "\n",
      "DMD ON,  input voltage 2.000000 \n",
      "\n",
      "DMD ON,  input voltage 2.000000 \n",
      "\n",
      "DMD ON,  input voltage 2.000000 \n",
      "\n",
      "DMD ON,  input voltage 2.000000 \n",
      "\n",
      "DMD ON,  input voltage 2.000000 \n",
      "\n",
      "DMD ON,  input voltage 2.000000 \n",
      "\n",
      "DMD ON,  input voltage 2.000000 \n",
      "\n",
      "DMD ON,  input voltage 2.000000 \n",
      "\n",
      "DMD ON,  input voltage 2.000000 \n",
      "\n"
     ]
    },
    {
     "ename": "KeyboardInterrupt",
     "evalue": "",
     "output_type": "error",
     "traceback": [
      "\u001b[1;31m---------------------------------------------------------------------------\u001b[0m",
      "\u001b[1;31mKeyboardInterrupt\u001b[0m                         Traceback (most recent call last)",
      "Cell \u001b[1;32mIn[14], line 95\u001b[0m\n\u001b[0;32m     93\u001b[0m mirrors\u001b[38;5;241m.\u001b[39mproject(img2, power); time\u001b[38;5;241m.\u001b[39msleep(on_time); mirrors\u001b[38;5;241m.\u001b[39midle(); time\u001b[38;5;241m.\u001b[39msleep(off_time)\n\u001b[0;32m     94\u001b[0m mirrors\u001b[38;5;241m.\u001b[39mproject(img1, power); time\u001b[38;5;241m.\u001b[39msleep(on_time); mirrors\u001b[38;5;241m.\u001b[39midle(); time\u001b[38;5;241m.\u001b[39msleep(off_time)\n\u001b[1;32m---> 95\u001b[0m mirrors\u001b[38;5;241m.\u001b[39mproject(img2, power); time\u001b[38;5;241m.\u001b[39msleep(on_time); mirrors\u001b[38;5;241m.\u001b[39midle(); \u001b[43mtime\u001b[49m\u001b[38;5;241;43m.\u001b[39;49m\u001b[43msleep\u001b[49m\u001b[43m(\u001b[49m\u001b[38;5;241;43m120\u001b[39;49m\u001b[43m)\u001b[49m\n\u001b[0;32m     98\u001b[0m \u001b[38;5;66;03m# SAVE THE PROTOCOL\u001b[39;00m\n\u001b[0;32m     99\u001b[0m filenames_camera_0 \u001b[38;5;241m=\u001b[39m \u001b[38;5;124mr\u001b[39m\u001b[38;5;124m'\u001b[39m\u001b[38;5;124m\\\u001b[39m\u001b[38;5;124mSPC00_TM*_ANG000_CM0_CHN00_PH0.stack\u001b[39m\u001b[38;5;124m'\u001b[39m\n",
      "\u001b[1;31mKeyboardInterrupt\u001b[0m: "
     ]
    }
   ],
   "source": [
    "masks_path = r'D:\\Data\\G1-2_72F11_ppk\\excitation_patterns\\16_3'\n",
    "\n",
    "# The path to the current acquisition folder is needed in order to save the sequence of projections.\n",
    "current_acquisition = r'\\16_5_20240303_162851' # <--D:\\Data\\G1-2_72F11_ppk\\\n",
    "protocol_name = r\"/16_5\"\n",
    "images_folder = mirrors.xp_folder + current_acquisition\n",
    "\n",
    "\n",
    "img2 = imageio.imread(masks_path + '\\\\mask_1.png') # odour1\n",
    "img1 = imageio.imread(masks_path + '\\\\mask_2.png') # odour2\n",
    "img3 = imageio.imread(masks_path + '\\\\mask_3.png') # pain\n",
    "\n",
    "tot = mirrors.sum_patterns([img1, img3]) # odour 1 + pain\n",
    "od = mirrors.sum_patterns([img1, img2]) # odour total\n",
    "# tot = mirrors.sum_patterns([img1, img3]) # odour 1 + pain\n",
    "\n",
    "start = time.time()\n",
    "\n",
    "power = 2 # changed from 2\n",
    "\n",
    "on_time = 10\n",
    "off_time = 50\n",
    "train_off_time = 10 # changed from 5\n",
    "\n",
    "# start test\n",
    "mirrors.project(img1, power); time.sleep(on_time); mirrors.idle(); time.sleep(off_time)\n",
    "mirrors.project(img2, power); time.sleep(on_time); mirrors.idle(); time.sleep(off_time)\n",
    "mirrors.project(img1, power); time.sleep(on_time); mirrors.idle(); time.sleep(off_time)\n",
    "mirrors.project(img2, power); time.sleep(on_time); mirrors.idle(); time.sleep(120)\n",
    "\n",
    "mirrors.project(tot, power); time.sleep(on_time); mirrors.idle(); time.sleep(train_off_time)\n",
    "mirrors.project(img2, power); time.sleep(on_time); mirrors.idle(); time.sleep(train_off_time)\n",
    "\n",
    "mirrors.project(tot, power); time.sleep(on_time); mirrors.idle(); time.sleep(train_off_time)\n",
    "mirrors.project(img2, power); time.sleep(on_time); mirrors.idle(); time.sleep(train_off_time)\n",
    "\n",
    "mirrors.project(tot, power); time.sleep(on_time); mirrors.idle(); time.sleep(train_off_time)\n",
    "mirrors.project(img2, power); time.sleep(on_time); mirrors.idle(); time.sleep(train_off_time)\n",
    "\n",
    "mirrors.project(tot, power); time.sleep(on_time); mirrors.idle(); time.sleep(train_off_time)\n",
    "mirrors.project(img2, power); time.sleep(on_time); mirrors.idle(); time.sleep(train_off_time)\n",
    "\n",
    "mirrors.project(tot, power); time.sleep(on_time); mirrors.idle(); time.sleep(train_off_time)\n",
    "mirrors.project(img2, power); time.sleep(on_time); mirrors.idle(); time.sleep(train_off_time)\n",
    "\n",
    "mirrors.project(tot, power); time.sleep(on_time); mirrors.idle(); time.sleep(train_off_time)\n",
    "mirrors.project(img2, power); time.sleep(on_time); mirrors.idle(); time.sleep(train_off_time)\n",
    "\n",
    "mirrors.project(tot, power); time.sleep(on_time); mirrors.idle(); time.sleep(train_off_time)\n",
    "mirrors.project(img2, power); time.sleep(on_time); mirrors.idle(); time.sleep(train_off_time)\n",
    "\n",
    "mirrors.project(tot, power); time.sleep(on_time); mirrors.idle(); time.sleep(train_off_time)\n",
    "mirrors.project(img2, power); time.sleep(on_time); mirrors.idle(); time.sleep(train_off_time)\n",
    "\n",
    "mirrors.project(tot, power); time.sleep(on_time); mirrors.idle(); time.sleep(train_off_time)\n",
    "mirrors.project(img2, power); time.sleep(on_time); mirrors.idle(); time.sleep(train_off_time)\n",
    "\n",
    "mirrors.project(tot, power); time.sleep(on_time); mirrors.idle(); time.sleep(train_off_time)\n",
    "mirrors.project(img2, power); time.sleep(on_time); mirrors.idle(); time.sleep(train_off_time)\n",
    "\n",
    "mirrors.project(tot, power); time.sleep(on_time); mirrors.idle(); time.sleep(train_off_time)\n",
    "mirrors.project(img2, power); time.sleep(on_time); mirrors.idle(); time.sleep(train_off_time)\n",
    "\n",
    "mirrors.project(tot, power); time.sleep(on_time); mirrors.idle(); time.sleep(train_off_time)\n",
    "mirrors.project(img2, power); time.sleep(on_time); mirrors.idle(); time.sleep(train_off_time)\n",
    "\n",
    "mirrors.project(tot, power); time.sleep(on_time); mirrors.idle(); time.sleep(train_off_time)\n",
    "mirrors.project(img2, power); time.sleep(on_time); mirrors.idle(); time.sleep(train_off_time)\n",
    "\n",
    "mirrors.project(tot, power); time.sleep(on_time); mirrors.idle(); time.sleep(train_off_time)\n",
    "mirrors.project(img2, power); time.sleep(on_time); mirrors.idle(); time.sleep(train_off_time)\n",
    "\n",
    "mirrors.project(tot, power); time.sleep(on_time); mirrors.idle(); time.sleep(train_off_time)\n",
    "mirrors.project(img2, power); time.sleep(on_time); mirrors.idle(); time.sleep(train_off_time)\n",
    "\n",
    "mirrors.project(tot, power); time.sleep(on_time); mirrors.idle(); time.sleep(train_off_time)\n",
    "mirrors.project(img2, power); time.sleep(on_time); mirrors.idle(); time.sleep(train_off_time)\n",
    "\n",
    "mirrors.project(tot, power); time.sleep(on_time); mirrors.idle(); time.sleep(train_off_time)\n",
    "mirrors.project(img2, power); time.sleep(on_time); mirrors.idle(); time.sleep(train_off_time)\n",
    "\n",
    "mirrors.project(tot, power); time.sleep(on_time); mirrors.idle(); time.sleep(train_off_time)\n",
    "mirrors.project(img2, power); time.sleep(on_time); mirrors.idle(); time.sleep(train_off_time)\n",
    "\n",
    "mirrors.project(tot, power); time.sleep(on_time); mirrors.idle(); time.sleep(train_off_time)\n",
    "mirrors.project(img2, power); time.sleep(on_time); mirrors.idle(); time.sleep(train_off_time)\n",
    "\n",
    "mirrors.project(tot, power); time.sleep(on_time); mirrors.idle(); time.sleep(train_off_time)\n",
    "mirrors.project(img2, power); time.sleep(on_time); mirrors.idle(); time.sleep(120)\n",
    "\n",
    "# end test\n",
    "mirrors.project(img1, power); time.sleep(on_time); mirrors.idle(); time.sleep(off_time)\n",
    "mirrors.project(img2, power); time.sleep(on_time); mirrors.idle(); time.sleep(off_time)\n",
    "mirrors.project(img1, power); time.sleep(on_time); mirrors.idle(); time.sleep(off_time)\n",
    "mirrors.project(img2, power); time.sleep(on_time); mirrors.idle(); time.sleep(120)\n",
    "\n",
    "\n",
    "# SAVE THE PROTOCOL\n",
    "filenames_camera_0 = r'\\SPC00_TM*_ANG000_CM0_CHN00_PH0.stack'\n",
    "all_volumes = sorted(glob(images_folder + filenames_camera_0))\n",
    "for num, volume in enumerate(all_volumes):\n",
    "    current = os.path.getctime(volume)\n",
    "    if current - start > 0:\n",
    "        break\n",
    "\n",
    "np.savez(images_folder + protocol_name,\\\n",
    "         TM=num, images=[\"1\", \"dark\", \"2\", \"dark\", \"1\", \"dark\", \"2\", \"dark\",\n",
    "                         \"1pun\", \"dark\", \"2\", \"dark\", \"1pun\", \"dark\", \"2\", \"dark\", \"1pun\", \"dark\", \"2\", \"dark\", \"1pun\", \"dark\", \"2\", \"dark\", \"1pun\", \"dark\", \"2\", \"dark\",\n",
    "                         \"1pun\", \"dark\", \"2\", \"dark\", \"1pun\", \"dark\", \"2\", \"dark\", \"1pun\", \"dark\", \"2\", \"dark\", \"1pun\", \"dark\", \"2\", \"dark\", \"1pun\", \"dark\", \"2\", \"dark\",\n",
    "                         \"1pun\", \"dark\", \"2\", \"dark\", \"1pun\", \"dark\", \"2\", \"dark\", \"1pun\", \"dark\", \"2\", \"dark\", \"1pun\", \"dark\", \"2\", \"dark\", \"1pun\", \"dark\", \"2\", \"dark\",\n",
    "                         \"1pun\", \"dark\", \"2\", \"dark\", \"1pun\", \"dark\", \"2\", \"dark\", \"1pun\", \"dark\", \"2\", \"dark\", \"1pun\", \"dark\", \"2\", \"dark\", \"1pun\", \"dark\", \"2\", \"dark\",\n",
    "                         \"1\", \"dark\", \"2\", \"dark\", \"1\", \"dark\", \"2\", \"dark\",\n",
    "                         ], \\\n",
    "                durations=[10, 50, 10, 50, 10, 50, 10, 120,\n",
    "                           10, train_off_time, 10, train_off_time, 10, train_off_time, 10, train_off_time, 10, train_off_time, 10, train_off_time, 10, train_off_time, 10, train_off_time, 10, train_off_time, 10, train_off_time,\n",
    "                           10, train_off_time, 10, train_off_time, 10, train_off_time, 10, train_off_time, 10, train_off_time, 10, train_off_time, 10, train_off_time, 10, train_off_time, 10, train_off_time, 10, train_off_time,\n",
    "                           10, train_off_time, 10, train_off_time, 10, train_off_time, 10, train_off_time, 10, train_off_time, 10, train_off_time, 10, train_off_time, 10, train_off_time, 10, train_off_time, 10, train_off_time,\n",
    "                           10, train_off_time, 10, train_off_time, 10, train_off_time, 10, train_off_time, 10, train_off_time, 10, train_off_time, 10, train_off_time, 10, train_off_time, 10, train_off_time, 10, 120,\n",
    "                           10, 50, 10, 50, 10, 50, 10, 120]\n",
    "                ) # 22.3 mins\n",
    "\n"
   ]
  },
  {
   "cell_type": "code",
   "execution_count": 13,
   "metadata": {},
   "outputs": [],
   "source": [
    "mirrors.idle()"
   ]
  },
  {
   "cell_type": "code",
   "execution_count": 15,
   "metadata": {},
   "outputs": [
    {
     "data": {
      "text/plain": [
       "25.5"
      ]
     },
     "execution_count": 15,
     "metadata": {},
     "output_type": "execute_result"
    }
   ],
   "source": [
    "train_off_time = 10\n",
    "durations=[10, 50, 10, 50, 10, 50, 10, 120,\n",
    "                           10, train_off_time, 10, train_off_time, 10, train_off_time, 10, train_off_time, 10, train_off_time, 10, train_off_time, 10, train_off_time, 10, train_off_time, 10, train_off_time, 10, train_off_time,\n",
    "                           10, train_off_time, 10, train_off_time, 10, train_off_time, 10, train_off_time, 10, train_off_time, 10, train_off_time, 10, train_off_time, 10, train_off_time, 10, train_off_time, 10, train_off_time,\n",
    "                           10, train_off_time, 10, train_off_time, 10, train_off_time, 10, train_off_time, 10, train_off_time, 10, train_off_time, 10, train_off_time, 10, train_off_time, 10, train_off_time, 10, train_off_time,\n",
    "                           10, train_off_time, 10, train_off_time, 10, train_off_time, 10, train_off_time, 10, train_off_time, 10, train_off_time, 10, train_off_time, 10, train_off_time, 10, train_off_time, 10, 120,\n",
    "                            10, 50, 10, 50, 10, 50, 10, 120]\n",
    "\n",
    "np.sum(np.asarray(durations))/60"
   ]
  },
  {
   "cell_type": "code",
   "execution_count": 16,
   "metadata": {},
   "outputs": [
    {
     "name": "stderr",
     "output_type": "stream",
     "text": [
      "C:\\Users\\Light Sheet User\\AppData\\Local\\Temp\\ipykernel_15632\\779283475.py:10: DeprecationWarning: Starting with ImageIO v3 the behavior of this function will switch to that of iio.v3.imread. To keep the current behavior (and make this warning disappear) use `import imageio.v2 as imageio` or call `imageio.v2.imread` directly.\n",
      "  img1 = imageio.imread(masks_path + '\\\\mask_1.png') # odour1\n",
      "C:\\Users\\Light Sheet User\\AppData\\Local\\Temp\\ipykernel_15632\\779283475.py:11: DeprecationWarning: Starting with ImageIO v3 the behavior of this function will switch to that of iio.v3.imread. To keep the current behavior (and make this warning disappear) use `import imageio.v2 as imageio` or call `imageio.v2.imread` directly.\n",
      "  img2 = imageio.imread(masks_path + '\\\\mask_2.png') # odour2\n",
      "C:\\Users\\Light Sheet User\\AppData\\Local\\Temp\\ipykernel_15632\\779283475.py:12: DeprecationWarning: Starting with ImageIO v3 the behavior of this function will switch to that of iio.v3.imread. To keep the current behavior (and make this warning disappear) use `import imageio.v2 as imageio` or call `imageio.v2.imread` directly.\n",
      "  img3 = imageio.imread(masks_path + '\\\\mask_3.png') # pain\n"
     ]
    },
    {
     "name": "stdout",
     "output_type": "stream",
     "text": [
      "DMD ON,  input voltage 2.000000 \n",
      "\n",
      "DMD ON,  input voltage 2.000000 \n",
      "\n",
      "DMD ON,  input voltage 2.000000 \n",
      "\n",
      "DMD ON,  input voltage 2.000000 \n",
      "\n",
      "DMD ON,  input voltage 2.000000 \n",
      "\n",
      "DMD ON,  input voltage 2.000000 \n",
      "\n",
      "DMD ON,  input voltage 2.000000 \n",
      "\n",
      "DMD ON,  input voltage 2.000000 \n",
      "\n"
     ]
    }
   ],
   "source": [
    "#only test \n",
    "masks_path = r'D:\\Data\\G1-2_72F11_ppk\\excitation_patterns\\16_3'\n",
    "\n",
    "# The path to the current acquisition folder is needed in order to save the sequence of projections.\n",
    "current_acquisition = r'\\16_7_20240303_165717' # <--D:\\Data\\G1-2_72F11_ppk\\\n",
    "protocol_name = r\"/16_7\"\n",
    "images_folder = mirrors.xp_folder + current_acquisition\n",
    "\n",
    "\n",
    "img1 = imageio.imread(masks_path + '\\\\mask_1.png') # odour1\n",
    "img2 = imageio.imread(masks_path + '\\\\mask_2.png') # odour2\n",
    "img3 = imageio.imread(masks_path + '\\\\mask_3.png') # pain\n",
    "\n",
    "tot = mirrors.sum_patterns([img1, img3]) # odour 1 + pain\n",
    "od = mirrors.sum_patterns([img1, img2]) # odour total\n",
    "# tot = mirrors.sum_patterns([img1, img3]) # odour 1 + pain\n",
    "\n",
    "start = time.time()\n",
    "\n",
    "power = 2 # changed from 2\n",
    "\n",
    "on_time = 10\n",
    "off_time = 50\n",
    "train_off_time = 5\n",
    "\n",
    "# start test\n",
    "mirrors.project(img1, power); time.sleep(on_time); mirrors.idle(); time.sleep(off_time)\n",
    "mirrors.project(img2, power); time.sleep(on_time); mirrors.idle(); time.sleep(off_time)\n",
    "mirrors.project(img1, power); time.sleep(on_time); mirrors.idle(); time.sleep(off_time)\n",
    "mirrors.project(img2, power); time.sleep(on_time); mirrors.idle(); time.sleep(off_time)\n",
    "mirrors.project(img1, power); time.sleep(on_time); mirrors.idle(); time.sleep(off_time)\n",
    "mirrors.project(img2, power); time.sleep(on_time); mirrors.idle(); time.sleep(off_time)\n",
    "mirrors.project(img1, power); time.sleep(on_time); mirrors.idle(); time.sleep(off_time)\n",
    "mirrors.project(img2, power); time.sleep(on_time); mirrors.idle(); time.sleep(off_time)\n",
    "\n",
    "\n",
    "# SAVE THE PROTOCOL\n",
    "filenames_camera_0 = r'\\SPC00_TM*_ANG000_CM0_CHN00_PH0.stack'\n",
    "all_volumes = sorted(glob(images_folder + filenames_camera_0))\n",
    "for num, volume in enumerate(all_volumes):\n",
    "    current = os.path.getctime(volume)\n",
    "    if current - start > 0:\n",
    "        break\n",
    "\n",
    "np.savez(images_folder + protocol_name,\\\n",
    "         TM=num, images=[\"1\", \"dark\", \"2\", \"dark\", \"1\", \"dark\", \"2\", \"dark\",\n",
    "                         \"1\", \"dark\", \"2\", \"dark\", \"1\", \"dark\", \"2\", \"dark\"\n",
    "                         ], \\\n",
    "                durations=[10, 50, 10, 50, 10, 50, 10, 50,\n",
    "                           10, 50, 10, 50, 10, 50, 10, 50,\n",
    "                        ]\n",
    "                ) # 8 mins\n"
   ]
  }
 ],
 "metadata": {
  "kernelspec": {
   "display_name": "Python 3",
   "language": "python",
   "name": "python3"
  },
  "language_info": {
   "codemirror_mode": {
    "name": "ipython",
    "version": 3
   },
   "file_extension": ".py",
   "mimetype": "text/x-python",
   "name": "python",
   "nbconvert_exporter": "python",
   "pygments_lexer": "ipython3",
   "version": "3.10.12"
  }
 },
 "nbformat": 4,
 "nbformat_minor": 2
}
