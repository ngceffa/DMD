{
 "cells": [
  {
   "cell_type": "code",
   "execution_count": 1,
   "metadata": {},
   "outputs": [],
   "source": [
    "import dmd_with_power_control_single_task as DMD\n",
    "import imageio\n",
    "import numpy as np\n",
    "import time\n",
    "from glob import glob\n",
    "import os\n",
    "import importlib\n",
    "importlib.reload(DMD)\n",
    "import napari as nap"
   ]
  },
  {
   "cell_type": "code",
   "execution_count": 2,
   "metadata": {},
   "outputs": [
    {
     "name": "stdout",
     "output_type": "stream",
     "text": [
      "Loading library: C:/Program Files/ALP-4.3/ALP-4.3 API/x64/alp4395.dll\n",
      "DMD found, resolution = 1920 x 1200.\n",
      "DMD patterns folder already exists.\n"
     ]
    },
    {
     "name": "stderr",
     "output_type": "stream",
     "text": [
      "c:\\Users\\Light Sheet User\\Documents\\GitHub\\DMD\\dmd_with_power_control_single_task.py:42: ResourceWarning: unclosed file <_io.BufferedReader name='C:\\\\\\\\Users\\\\\\\\Light Sheet User\\\\\\\\Desktop\\\\\\\\DMD_parameters.pickled'>\n",
      "  self.parameters = pickle.load(open(general_parameters_folder, 'rb'))\n",
      "ResourceWarning: Enable tracemalloc to get the object allocation traceback\n"
     ]
    }
   ],
   "source": [
    "XP_FOLDER = r'D:\\Data\\laura' # \n",
    "TARGET_FOLDER = XP_FOLDER + r'\\5_target_20240705_155748' # *D:\\Data\\laura\\\n",
    "GENERAL_PARAMETERS = r'C:\\\\Users\\\\Light Sheet User\\\\Desktop\\\\DMD_parameters.pickled'\n",
    "\n",
    "mirrors = DMD.dmd(XP_FOLDER, TARGET_FOLDER, GENERAL_PARAMETERS)\n",
    "# Prints basic information about the DMD.\n",
    "mirrors.idle()\n",
    "mirrors.select_ROIs()"
   ]
  },
  {
   "cell_type": "code",
   "execution_count": 3,
   "metadata": {},
   "outputs": [
    {
     "name": "stdout",
     "output_type": "stream",
     "text": [
      "Found 1 ROI(s)\n"
     ]
    }
   ],
   "source": [
    "mirrors.import_N_rois(exp='5_2')"
   ]
  },
  {
   "cell_type": "code",
   "execution_count": 4,
   "metadata": {},
   "outputs": [
    {
     "name": "stderr",
     "output_type": "stream",
     "text": [
      "C:\\Users\\Light Sheet User\\AppData\\Local\\Temp\\ipykernel_15336\\2111076039.py:9: DeprecationWarning: Starting with ImageIO v3 the behavior of this function will switch to that of iio.v3.imread. To keep the current behavior (and make this warning disappear) use `import imageio.v2 as imageio` or call `imageio.v2.imread` directly.\n",
      "  img1 = imageio.imread(masks_path + '\\\\mask_1.png') # odour1\n"
     ]
    },
    {
     "name": "stdout",
     "output_type": "stream",
     "text": [
      "DMD ON,  input voltage 1.000000 \n",
      "\n",
      "DMD ON,  input voltage 1.000000 \n",
      "\n",
      "DMD ON,  input voltage 1.000000 \n",
      "\n",
      "DMD ON,  input voltage 1.000000 \n",
      "\n",
      "DMD ON,  input voltage 1.000000 \n",
      "\n",
      "DMD ON,  input voltage 1.000000 \n",
      "\n",
      "DMD ON,  input voltage 1.000000 \n",
      "\n",
      "DMD ON,  input voltage 1.000000 \n",
      "\n",
      "DMD ON,  input voltage 1.000000 \n",
      "\n",
      "DMD ON,  input voltage 1.000000 \n",
      "\n"
     ]
    }
   ],
   "source": [
    "masks_path = r'D:\\Data\\laura\\excitation_patterns\\5_2'\n",
    "\n",
    "# The path to the current acquisition folder is needed in order to save the sequence of projections.\n",
    "current_acquisition = r'\\5_5_20240705_172121' #D:\\Data\\laura\\\n",
    "protocol_name = r\"/5_5\"\n",
    "images_folder = mirrors.xp_folder + current_acquisition\n",
    "\n",
    "\n",
    "img1 = imageio.imread(masks_path + '\\\\mask_1.png') # odour1\n",
    "\n",
    "\n",
    "start = time.time()\n",
    "\n",
    "power = 1. # changed from 2\n",
    "\n",
    "on_time = 5\n",
    "off_time = 60\n",
    "\n",
    "for i in range(10):\n",
    "    mirrors.project(img1, power); time.sleep(on_time); mirrors.idle(); time.sleep(off_time)\n",
    "\n",
    "\n",
    "# SAVE THE PROTOCOL\n",
    "filenames_camera_0 = r'\\SPC00_TM*_ANG000_CM0_CHN00_PH0.stack'\n",
    "all_volumes = sorted(glob(images_folder + filenames_camera_0))\n",
    "for num, volume in enumerate(all_volumes):\n",
    "    current = os.path.getctime(volume)\n",
    "    if current - start > 0:\n",
    "        break\n",
    "\n",
    "np.savez(images_folder + protocol_name,\\\n",
    "         TM=num, images=[\"1\", \"dark\", \"1\", \"dark\", \"1\", \"dark\", \"1\", \"dark\", \"1\", \"dark\",  \n",
    "                         \"1\", \"dark\", \"1\", \"dark\", \"1\", \"dark\", \"1\", \"dark\", \"1\", \"dark\",  \n",
    "\n",
    "                        \n",
    "                         ], \\\n",
    "                durations=[ on_time, off_time, on_time, off_time, on_time, off_time, on_time, off_time, on_time, off_time, \n",
    "                           on_time, off_time, on_time, off_time, on_time, off_time, on_time, off_time, on_time, off_time, \n",
    "\n",
    "                           ]\n",
    "                ) # 11:35 min"
   ]
  },
  {
   "cell_type": "code",
   "execution_count": null,
   "metadata": {},
   "outputs": [],
   "source": []
  }
 ],
 "metadata": {
  "kernelspec": {
   "display_name": "Python 3",
   "language": "python",
   "name": "python3"
  },
  "language_info": {
   "codemirror_mode": {
    "name": "ipython",
    "version": 3
   },
   "file_extension": ".py",
   "mimetype": "text/x-python",
   "name": "python",
   "nbconvert_exporter": "python",
   "pygments_lexer": "ipython3",
   "version": "3.10.12"
  }
 },
 "nbformat": 4,
 "nbformat_minor": 2
}
