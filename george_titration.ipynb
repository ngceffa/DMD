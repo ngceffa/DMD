{
 "cells": [
  {
   "cell_type": "code",
   "execution_count": 1,
   "metadata": {},
   "outputs": [],
   "source": [
    "import dmd_with_power_control_single_task as DMD\n",
    "import imageio\n",
    "import numpy as np\n",
    "import time\n",
    "from glob import glob\n",
    "import os\n",
    "import importlib\n",
    "importlib.reload(DMD)\n",
    "import napari as nap"
   ]
  },
  {
   "cell_type": "code",
   "execution_count": 2,
   "metadata": {},
   "outputs": [
    {
     "name": "stdout",
     "output_type": "stream",
     "text": [
      "Loading library: C:/Program Files/ALP-4.3/ALP-4.3 API/x64/alp4395.dll\n",
      "DMD found, resolution = 1920 x 1200.\n",
      "DMD patterns folder already exists.\n"
     ]
    },
    {
     "name": "stderr",
     "output_type": "stream",
     "text": [
      "c:\\Users\\Light Sheet User\\Documents\\GitHub\\DMD\\dmd_with_power_control_single_task.py:43: ResourceWarning: unclosed file <_io.BufferedReader name='C:\\\\\\\\Users\\\\\\\\Light Sheet User\\\\\\\\Desktop\\\\\\\\DMD_parameters.pickled'>\n",
      "  self.parameters = pickle.load(open(general_parameters_folder, 'rb'))\n",
      "ResourceWarning: Enable tracemalloc to get the object allocation traceback\n"
     ]
    }
   ],
   "source": [
    "XP_FOLDER = r'D:\\Data\\power_titration_george' # \n",
    "TARGET_FOLDER = XP_FOLDER + r'\\8_1__mVenus_20241120_165306' # D:\\Data\\time_titration_george\\1_1__mVenus_20241117_150924\n",
    "GENERAL_PARAMETERS = r'C:\\\\Users\\\\Light Sheet User\\\\Desktop\\\\DMD_parameters.pickled'\n",
    "\n",
    "mirrors = DMD.dmd(XP_FOLDER, TARGET_FOLDER, GENERAL_PARAMETERS)\n",
    "# Prints basic information about the DMD.\n",
    "mirrors.idle()"
   ]
  },
  {
   "cell_type": "markdown",
   "metadata": {},
   "source": [
    "SELECT ROIs"
   ]
  },
  {
   "cell_type": "code",
   "execution_count": 3,
   "metadata": {},
   "outputs": [],
   "source": [
    "mirrors.select_ROIs()"
   ]
  },
  {
   "cell_type": "markdown",
   "metadata": {},
   "source": [
    "IMPORT the ROIs for USAGE"
   ]
  },
  {
   "cell_type": "code",
   "execution_count": 4,
   "metadata": {},
   "outputs": [
    {
     "name": "stdout",
     "output_type": "stream",
     "text": [
      "Found 2 ROI(s)\n"
     ]
    }
   ],
   "source": [
    "mirrors.import_N_rois(exp='8_1')"
   ]
  },
  {
   "cell_type": "code",
   "execution_count": 5,
   "metadata": {},
   "outputs": [
    {
     "name": "stdout",
     "output_type": "stream",
     "text": [
      "DMD ON,  input voltage 0.100000 \n",
      "\n"
     ]
    },
    {
     "name": "stderr",
     "output_type": "stream",
     "text": [
      "C:\\Users\\Light Sheet User\\AppData\\Local\\Temp\\ipykernel_25012\\670401117.py:2: DeprecationWarning: Starting with ImageIO v3 the behavior of this function will switch to that of iio.v3.imread. To keep the current behavior (and make this warning disappear) use `import imageio.v2 as imageio` or call `imageio.v2.imread` directly.\n",
      "  img1 = imageio.imread(masks_path + '\\\\mask_1.png') # odor\n"
     ]
    }
   ],
   "source": [
    "masks_path = r'D:\\Data\\time_titration_george\\excitation_patterns\\test_dmd'\n",
    "img1 = imageio.imread(masks_path + '\\\\mask_1.png') # odor\n",
    "\n",
    "mirrors.project(img1, 0.1)"
   ]
  },
  {
   "cell_type": "code",
   "execution_count": 6,
   "metadata": {},
   "outputs": [],
   "source": [
    "mirrors.idle()"
   ]
  },
  {
   "cell_type": "markdown",
   "metadata": {},
   "source": [
    "POWER TITRATION"
   ]
  },
  {
   "cell_type": "code",
   "execution_count": 5,
   "metadata": {},
   "outputs": [
    {
     "name": "stderr",
     "output_type": "stream",
     "text": [
      "C:\\Users\\Light Sheet User\\AppData\\Local\\Temp\\ipykernel_27924\\3025996532.py:8: DeprecationWarning: Starting with ImageIO v3 the behavior of this function will switch to that of iio.v3.imread. To keep the current behavior (and make this warning disappear) use `import imageio.v2 as imageio` or call `imageio.v2.imread` directly.\n",
      "  img1 = imageio.imread(masks_path + '\\\\mask_1.png') # odor\n",
      "C:\\Users\\Light Sheet User\\AppData\\Local\\Temp\\ipykernel_27924\\3025996532.py:9: DeprecationWarning: Starting with ImageIO v3 the behavior of this function will switch to that of iio.v3.imread. To keep the current behavior (and make this warning disappear) use `import imageio.v2 as imageio` or call `imageio.v2.imread` directly.\n",
      "  img2 = imageio.imread(masks_path + '\\\\mask_2.png') # pain\n"
     ]
    },
    {
     "name": "stdout",
     "output_type": "stream",
     "text": [
      "DMD ON,  input voltage 0.100000 \n",
      "\n",
      "DMD ON,  input voltage 0.100000 \n",
      "\n",
      "DMD ON,  input voltage 0.100000 \n",
      "\n",
      "DMD ON,  input voltage 0.125000 \n",
      "\n",
      "DMD ON,  input voltage 0.125000 \n",
      "\n",
      "DMD ON,  input voltage 0.125000 \n",
      "\n",
      "DMD ON,  input voltage 0.150000 \n",
      "\n",
      "DMD ON,  input voltage 0.150000 \n",
      "\n",
      "DMD ON,  input voltage 0.150000 \n",
      "\n",
      "DMD ON,  input voltage 0.175000 \n",
      "\n",
      "DMD ON,  input voltage 0.175000 \n",
      "\n",
      "DMD ON,  input voltage 0.175000 \n",
      "\n",
      "DMD ON,  input voltage 0.200000 \n",
      "\n",
      "DMD ON,  input voltage 0.200000 \n",
      "\n",
      "DMD ON,  input voltage 0.200000 \n",
      "\n",
      "DMD ON,  input voltage 0.100000 \n",
      "\n",
      "DMD ON,  input voltage 0.100000 \n",
      "\n",
      "DMD ON,  input voltage 0.100000 \n",
      "\n",
      "DMD ON,  input voltage 0.125000 \n",
      "\n",
      "DMD ON,  input voltage 0.125000 \n",
      "\n",
      "DMD ON,  input voltage 0.125000 \n",
      "\n",
      "DMD ON,  input voltage 0.150000 \n",
      "\n",
      "DMD ON,  input voltage 0.150000 \n",
      "\n",
      "DMD ON,  input voltage 0.150000 \n",
      "\n",
      "DMD ON,  input voltage 0.175000 \n",
      "\n",
      "DMD ON,  input voltage 0.175000 \n",
      "\n",
      "DMD ON,  input voltage 0.175000 \n",
      "\n",
      "DMD ON,  input voltage 0.200000 \n",
      "\n",
      "DMD ON,  input voltage 0.200000 \n",
      "\n",
      "DMD ON,  input voltage 0.200000 \n",
      "\n"
     ]
    }
   ],
   "source": [
    "masks_path = r'D:\\Data\\power_titration_george\\excitation_patterns\\8_1'\n",
    "\n",
    "# The path to the current acquisition folder is needed in order to save the sequence of projections.\n",
    "current_acquisition = r'\\8_1__DAN_20241120_165817' # D:\\Data\\g12\\\n",
    "protocol_name = r\"/8_1\"\n",
    "images_folder = mirrors.xp_folder + current_acquisition\n",
    "\n",
    "img1 = imageio.imread(masks_path + '\\\\mask_1.png') # odor\n",
    "img2 = imageio.imread(masks_path + '\\\\mask_2.png') # pain\n",
    "\n",
    "start = time.time()\n",
    "\n",
    "powers = [0.100, 0.125, 0.150, 0.175, 0.200] # powers without filter (0.1 w/o filter == 2.0 w/ filter)\n",
    "steps = []\n",
    "\n",
    "odor_on_time = 15\n",
    "pun_on_time = 10\n",
    "off_time = 45\n",
    "\n",
    "steps.append(time.time())\n",
    "for i in range(len(powers)):\n",
    "    mirrors.project(img1, powers[i]); time.sleep(odor_on_time); mirrors.idle(); time.sleep(off_time)\n",
    "    mirrors.project(img1, powers[i]); time.sleep(odor_on_time); mirrors.idle(); time.sleep(off_time)\n",
    "    mirrors.project(img1, powers[i]); time.sleep(odor_on_time); mirrors.idle(); time.sleep(off_time)\n",
    "\n",
    "steps.append(time.time())\n",
    "\n",
    "for i in range(len(powers)):\n",
    "    mirrors.project(img2, powers[i]); time.sleep(pun_on_time); mirrors.idle(); time.sleep(off_time)\n",
    "    mirrors.project(img2, powers[i]); time.sleep(pun_on_time); mirrors.idle(); time.sleep(off_time)\n",
    "    mirrors.project(img2, powers[i]); time.sleep(pun_on_time); mirrors.idle(); time.sleep(off_time)\n",
    "\n",
    "steps.append(time.time())\n",
    "\n",
    "# SAVE THE PROTOCOL\n",
    "filenames_camera_0 = r'\\SPC00_TM*_ANG000_CM0_CHN00_PH0.stack'\n",
    "all_volumes = sorted(glob(images_folder + filenames_camera_0))\n",
    "for num, volume in enumerate(all_volumes):\n",
    "    current = os.path.getctime(volume)\n",
    "    if current - start > 0:\n",
    "        break\n",
    "\n",
    "timesteps=[]\n",
    "for t in steps:\n",
    "    for num, volume in enumerate(all_volumes):\n",
    "        current = os.path.getctime(volume)\n",
    "        if current - t > 0:\n",
    "            timesteps.append(num)\n",
    "            break\n",
    "\n",
    "np.savez(images_folder + protocol_name,\\\n",
    "         TM=timesteps, images=[\"1\", \"dark\", \"1\", \"dark\", \"1\", \"dark\",\n",
    "                        \"1\", \"dark\", \"1\", \"dark\", \"1\", \"dark\",\n",
    "                        \"1\", \"dark\", \"1\", \"dark\", \"1\", \"dark\",\n",
    "                        \"1\", \"dark\", \"1\", \"dark\", \"1\", \"dark\",\n",
    "                        \"1\", \"dark\", \"1\", \"dark\", \"1\", \"dark\",\n",
    "                        \"pun\", \"dark\", \"pun\", \"dark\", \"pun\", \"dark\",\n",
    "                        \"pun\", \"dark\", \"pun\", \"dark\", \"pun\", \"dark\",\n",
    "                        \"pun\", \"dark\", \"pun\", \"dark\", \"pun\", \"dark\",\n",
    "                        \"pun\", \"dark\", \"pun\", \"dark\", \"pun\", \"dark\",\n",
    "                        \"pun\", \"dark\", \"pun\", \"dark\", \"pun\", \"dark\",\n",
    "                         ], \\\n",
    "                durations=[odor_on_time, off_time, odor_on_time, off_time, odor_on_time, off_time, \n",
    "                           odor_on_time, off_time, odor_on_time, off_time, odor_on_time, off_time, \n",
    "                           odor_on_time, off_time, odor_on_time, off_time, odor_on_time, off_time, \n",
    "                           odor_on_time, off_time, odor_on_time, off_time, odor_on_time, off_time, \n",
    "                           odor_on_time, off_time, odor_on_time, off_time, odor_on_time, off_time, \n",
    "                           pun_on_time, off_time, pun_on_time, off_time, pun_on_time, off_time, \n",
    "                           pun_on_time, off_time, pun_on_time, off_time, pun_on_time, off_time, \n",
    "                           pun_on_time, off_time, pun_on_time, off_time, pun_on_time, off_time, \n",
    "                           pun_on_time, off_time, pun_on_time, off_time, pun_on_time, off_time, \n",
    "                           pun_on_time, off_time, pun_on_time, off_time, pun_on_time, off_time, \n",
    "                           ]\n",
    "                ) # 28.75 mins"
   ]
  },
  {
   "cell_type": "markdown",
   "metadata": {},
   "source": [
    "Time Titration"
   ]
  },
  {
   "cell_type": "code",
   "execution_count": 5,
   "metadata": {},
   "outputs": [
    {
     "name": "stderr",
     "output_type": "stream",
     "text": [
      "C:\\Users\\Light Sheet User\\AppData\\Local\\Temp\\ipykernel_24528\\3576001331.py:8: DeprecationWarning: Starting with ImageIO v3 the behavior of this function will switch to that of iio.v3.imread. To keep the current behavior (and make this warning disappear) use `import imageio.v2 as imageio` or call `imageio.v2.imread` directly.\n",
      "  img1 = imageio.imread(masks_path + '\\\\mask_1.png') # odor 1\n",
      "C:\\Users\\Light Sheet User\\AppData\\Local\\Temp\\ipykernel_24528\\3576001331.py:9: DeprecationWarning: Starting with ImageIO v3 the behavior of this function will switch to that of iio.v3.imread. To keep the current behavior (and make this warning disappear) use `import imageio.v2 as imageio` or call `imageio.v2.imread` directly.\n",
      "  img2 = imageio.imread(masks_path + '\\\\mask_2.png') # odor 2\n"
     ]
    },
    {
     "name": "stdout",
     "output_type": "stream",
     "text": [
      "DMD ON,  input voltage 0.100000 \n",
      "\n",
      "DMD ON,  input voltage 0.100000 \n",
      "\n",
      "DMD ON,  input voltage 0.100000 \n",
      "\n",
      "DMD ON,  input voltage 0.100000 \n",
      "\n",
      "DMD ON,  input voltage 0.100000 \n",
      "\n",
      "DMD ON,  input voltage 0.100000 \n",
      "\n",
      "DMD ON,  input voltage 0.100000 \n",
      "\n",
      "DMD ON,  input voltage 0.100000 \n",
      "\n",
      "DMD ON,  input voltage 0.100000 \n",
      "\n",
      "DMD ON,  input voltage 0.100000 \n",
      "\n",
      "DMD ON,  input voltage 0.100000 \n",
      "\n",
      "DMD ON,  input voltage 0.100000 \n",
      "\n",
      "DMD ON,  input voltage 0.100000 \n",
      "\n",
      "DMD ON,  input voltage 0.100000 \n",
      "\n",
      "DMD ON,  input voltage 0.100000 \n",
      "\n",
      "DMD ON,  input voltage 0.100000 \n",
      "\n",
      "DMD ON,  input voltage 0.100000 \n",
      "\n",
      "DMD ON,  input voltage 0.100000 \n",
      "\n"
     ]
    }
   ],
   "source": [
    "masks_path = r'D:\\Data\\time_titration_george\\excitation_patterns\\8_1'\n",
    "\n",
    "# The path to the current acquisition folder is needed in order to save the sequence of projections.\n",
    "current_acquisition = r'\\8_1__DAN_20241120_145626' # D:\\Data\\g12\\\n",
    "protocol_name = r\"/8_1\"\n",
    "images_folder = mirrors.xp_folder + current_acquisition\n",
    "\n",
    "img1 = imageio.imread(masks_path + '\\\\mask_1.png') # odor 1\n",
    "img2 = imageio.imread(masks_path + '\\\\mask_2.png') # odor 2\n",
    "\n",
    "start = time.time()\n",
    "\n",
    "power = 0.1 # powers without filter (0.1 w/o filter == 2.0 w/ filter)\n",
    "steps = []\n",
    "\n",
    "odor_on_time = 15\n",
    "isi_times = [45, 60, 75]\n",
    "buffer_off_time = 90\n",
    "\n",
    "steps.append(time.time())\n",
    "for i in range(len(isi_times)):\n",
    "    mirrors.project(img1, power); time.sleep(odor_on_time); mirrors.idle(); time.sleep(isi_times[i])\n",
    "    mirrors.project(img2, power); time.sleep(odor_on_time); mirrors.idle(); time.sleep(isi_times[i])\n",
    "    mirrors.project(img1, power); time.sleep(odor_on_time); mirrors.idle(); time.sleep(isi_times[i])\n",
    "    mirrors.project(img2, power); time.sleep(odor_on_time); mirrors.idle(); time.sleep(isi_times[i])\n",
    "    mirrors.project(img1, power); time.sleep(odor_on_time); mirrors.idle(); time.sleep(isi_times[i])\n",
    "    mirrors.project(img2, power); time.sleep(odor_on_time); mirrors.idle(); time.sleep(buffer_off_time)\n",
    "    steps.append(time.time())\n",
    "\n",
    "\n",
    "# SAVE THE PROTOCOL\n",
    "filenames_camera_0 = r'\\SPC00_TM*_ANG000_CM0_CHN00_PH0.stack'\n",
    "all_volumes = sorted(glob(images_folder + filenames_camera_0))\n",
    "for num, volume in enumerate(all_volumes):\n",
    "    current = os.path.getctime(volume)\n",
    "    if current - start > 0:\n",
    "        break\n",
    "\n",
    "timesteps=[]\n",
    "for t in steps:\n",
    "    for num, volume in enumerate(all_volumes):\n",
    "        current = os.path.getctime(volume)\n",
    "        if current - t > 0:\n",
    "            timesteps.append(num)\n",
    "            break\n",
    "\n",
    "np.savez(images_folder + protocol_name,\\\n",
    "         TM=timesteps, images=[\"1\", \"dark\", \"2\", \"dark\", \"1\", \"dark\", \"2\", \"dark\", \"1\", \"dark\", \"2\", \"dark\", \n",
    "                                \"1\", \"dark\", \"2\", \"dark\", \"1\", \"dark\", \"2\", \"dark\", \"1\", \"dark\", \"2\", \"dark\", \n",
    "                                \"1\", \"dark\", \"2\", \"dark\", \"1\", \"dark\", \"2\", \"dark\", \"1\", \"dark\", \"2\", \"dark\", \n",
    "                         ], \\\n",
    "                durations=[odor_on_time, isi_times[0], odor_on_time, isi_times[0], odor_on_time, isi_times[0], odor_on_time, isi_times[0], odor_on_time, isi_times[0], odor_on_time, buffer_off_time,\n",
    "                           odor_on_time, isi_times[1], odor_on_time, isi_times[1], odor_on_time, isi_times[1], odor_on_time, isi_times[1], odor_on_time, isi_times[1], odor_on_time, buffer_off_time,\n",
    "                           odor_on_time, isi_times[2], odor_on_time, isi_times[2], odor_on_time, isi_times[2], odor_on_time, isi_times[2], odor_on_time, isi_times[2], odor_on_time, buffer_off_time,\n",
    "                           ]\n",
    "                ) # 24 mins"
   ]
  },
  {
   "cell_type": "markdown",
   "metadata": {},
   "source": [
    "Time Calculation"
   ]
  },
  {
   "cell_type": "code",
   "execution_count": 9,
   "metadata": {},
   "outputs": [
    {
     "name": "stdout",
     "output_type": "stream",
     "text": [
      "24.0\n"
     ]
    }
   ],
   "source": [
    "odor_on_time = 15\n",
    "isi_times = [45, 60, 75]\n",
    "buffer_off_time = 90\n",
    "\n",
    "durations=[odor_on_time, isi_times[0], odor_on_time, isi_times[0], odor_on_time, isi_times[0], odor_on_time, isi_times[0], odor_on_time, isi_times[0], odor_on_time, buffer_off_time,\n",
    "                           odor_on_time, isi_times[1], odor_on_time, isi_times[1], odor_on_time, isi_times[1], odor_on_time, isi_times[1], odor_on_time, isi_times[1], odor_on_time, buffer_off_time,\n",
    "                           odor_on_time, isi_times[2], odor_on_time, isi_times[2], odor_on_time, isi_times[2], odor_on_time, isi_times[2], odor_on_time, isi_times[2], odor_on_time, buffer_off_time,\n",
    "                         \n",
    "                           ]\n",
    "t = 0\n",
    "for i in durations:\n",
    "    t+= i\n",
    "\n",
    "\n",
    "print(t/60)"
   ]
  }
 ],
 "metadata": {
  "kernelspec": {
   "display_name": "Python 3",
   "language": "python",
   "name": "python3"
  },
  "language_info": {
   "codemirror_mode": {
    "name": "ipython",
    "version": 3
   },
   "file_extension": ".py",
   "mimetype": "text/x-python",
   "name": "python",
   "nbconvert_exporter": "python",
   "pygments_lexer": "ipython3",
   "version": "3.10.12"
  }
 },
 "nbformat": 4,
 "nbformat_minor": 2
}
