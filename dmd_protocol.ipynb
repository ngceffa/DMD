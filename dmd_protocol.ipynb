{
 "cells": [
  {
   "cell_type": "markdown",
   "metadata": {},
   "source": [
    " ##### IMPORTS"
   ]
  },
  {
   "cell_type": "code",
   "execution_count": 1,
   "metadata": {},
   "outputs": [],
   "source": [
    "from dmd_control import dmd\n",
    "import imageio\n",
    "import numpy as np\n",
    "import time\n",
    "from glob import glob\n",
    "import os"
   ]
  },
  {
   "cell_type": "code",
   "execution_count": 2,
   "metadata": {},
   "outputs": [],
   "source": [
    "XP_FOLDER = r'D:\\Data\\Or42b_57C10__Chronos-mVenus_rGECO'\n",
    "TARGET_FOLDER = XP_FOLDER + r'\\2_488_20230829_164410'\n",
    "GENERAL_PARAMETERS = r'C:\\\\Users\\\\Light Sheet User\\\\Desktop\\\\DMD_parameters.pickled'"
   ]
  },
  {
   "cell_type": "code",
   "execution_count": 3,
   "metadata": {},
   "outputs": [
    {
     "name": "stdout",
     "output_type": "stream",
     "text": [
      "Loading library: C:/Program Files/ALP-4.3/ALP-4.3 API/x64/alp4395.dll\n",
      "DMD found, resolution = 1920 x 1200.\n",
      "DMD patterns folder already exists.\n"
     ]
    }
   ],
   "source": [
    "mirrors = dmd(XP_FOLDER, TARGET_FOLDER, GENERAL_PARAMETERS)\n",
    "# Prints basic information about the DMD."
   ]
  },
  {
   "cell_type": "markdown",
   "metadata": {},
   "source": [
    "##### Calibration procedure:"
   ]
  },
  {
   "cell_type": "markdown",
   "metadata": {},
   "source": [
    "- project the *calibration_mask*;\n",
    "- save the image through the Labview code;\n",
    "- run the *find_affine* method.\n",
    "\n",
    "The affine transorm parameters are saved for future use."
   ]
  },
  {
   "cell_type": "code",
   "execution_count": 4,
   "metadata": {},
   "outputs": [],
   "source": [
    "mirrors.project(mirrors.calibration_mask)"
   ]
  },
  {
   "cell_type": "markdown",
   "metadata": {},
   "source": [
    "Save the calibration image. Usually choosing the same folder as **mirrors.parameters['params_folder']** is a good choice to keep things tidy.\n",
    "Then plug it in the following method and run it to compute the afffine transform parameters."
   ]
  },
  {
   "cell_type": "code",
   "execution_count": null,
   "metadata": {},
   "outputs": [],
   "source": [
    "calibration_image = \\\n",
    "    r'C:\\Users\\Light Sheet User\\Documents\\GitHub\\DMD\\camera_DMD_calibration.png'\n",
    "mirrors.find_affine(calibration_image)"
   ]
  },
  {
   "cell_type": "markdown",
   "metadata": {},
   "source": [
    "#### ROI selection"
   ]
  },
  {
   "cell_type": "markdown",
   "metadata": {},
   "source": [
    "Use the following method to select ROIs to be stimulated by the DMD.\n",
    "It is supposed to read rectangular ROIs, where you start drawing from top left corner to bottom right corner of the ROI. Different geometries are not implemented and may result in random or no pattern at all."
   ]
  },
  {
   "cell_type": "code",
   "execution_count": 4,
   "metadata": {},
   "outputs": [],
   "source": [
    "mirrors.select_ROIs()"
   ]
  },
  {
   "cell_type": "markdown",
   "metadata": {},
   "source": [
    "Once the wanted ROIs are drawn, import them within the class. They are stored in order in the \"rois\" list and saved as .png using the save_dir attribute."
   ]
  },
  {
   "cell_type": "code",
   "execution_count": 5,
   "metadata": {},
   "outputs": [
    {
     "name": "stdout",
     "output_type": "stream",
     "text": [
      "Found 4 ROI(s)\n"
     ]
    }
   ],
   "source": [
    "mirrors.import_N_rois(exp='3_test')"
   ]
  },
  {
   "cell_type": "markdown",
   "metadata": {},
   "source": [
    "In case you plan to project two patterns at the same time, use the method \"sum_patterns\", passing a list of pattrerns to be summed as numpy matrices. It will return a new matrix that can be used for projection or for a protocol."
   ]
  },
  {
   "cell_type": "markdown",
   "metadata": {},
   "source": [
    "### PROTOCOL:\n",
    "Load the images you want to use, and input how long each image should be displayed."
   ]
  },
  {
   "cell_type": "code",
   "execution_count": 8,
   "metadata": {},
   "outputs": [
    {
     "name": "stderr",
     "output_type": "stream",
     "text": [
      "C:\\Users\\Light Sheet User\\AppData\\Local\\Temp\\ipykernel_12892\\2800038550.py:1: DeprecationWarning: Starting with ImageIO v3 the behavior of this function will switch to that of iio.v3.imread. To keep the current behavior (and make this warning disappear) use `import imageio.v2 as imageio` or call `imageio.v2.imread` directly.\n",
      "  img1 = imageio.imread(mirrors.save_dir + '\\\\mask_1.png')\n",
      "C:\\Users\\Light Sheet User\\AppData\\Local\\Temp\\ipykernel_12892\\2800038550.py:2: DeprecationWarning: Starting with ImageIO v3 the behavior of this function will switch to that of iio.v3.imread. To keep the current behavior (and make this warning disappear) use `import imageio.v2 as imageio` or call `imageio.v2.imread` directly.\n",
      "  img2 = imageio.imread(mirrors.save_dir + '\\\\mask_2.png')\n",
      "C:\\Users\\Light Sheet User\\AppData\\Local\\Temp\\ipykernel_12892\\2800038550.py:3: DeprecationWarning: Starting with ImageIO v3 the behavior of this function will switch to that of iio.v3.imread. To keep the current behavior (and make this warning disappear) use `import imageio.v2 as imageio` or call `imageio.v2.imread` directly.\n",
      "  img3 = imageio.imread(mirrors.save_dir + '\\\\mask_3.png')\n",
      "C:\\Users\\Light Sheet User\\AppData\\Local\\Temp\\ipykernel_12892\\2800038550.py:4: DeprecationWarning: Starting with ImageIO v3 the behavior of this function will switch to that of iio.v3.imread. To keep the current behavior (and make this warning disappear) use `import imageio.v2 as imageio` or call `imageio.v2.imread` directly.\n",
      "  img4 = imageio.imread(mirrors.save_dir + '\\\\mask_4.png')\n"
     ]
    }
   ],
   "source": [
    "img1 = imageio.imread(mirrors.save_dir + '\\\\mask_1.png')\n",
    "img2 = imageio.imread(mirrors.save_dir + '\\\\mask_2.png')\n",
    "img3 = imageio.imread(mirrors.save_dir + '\\\\mask_3.png')\n",
    "img4 = imageio.imread(mirrors.save_dir + '\\\\mask_4.png')\n",
    "\n",
    "img_seq = [img1, mirrors.dark,\n",
    "            img2, mirrors.dark,\n",
    "             img3, mirrors.dark,\n",
    "              img4, mirrors.dark,\n",
    "               img3, mirrors.dark,\n",
    "                img1, mirrors.dark]\n",
    "img_seq_names = ['od1', 'dark',\n",
    "                'od2', 'dark',\n",
    "                 'od3', 'dark',\n",
    "                 'od4', 'dark',\n",
    "                 'od3', 'dark',\n",
    "                 'od1', 'dark'] # for saving later\n",
    "img_times = [5, 5,\n",
    "             5, 5,\n",
    "             5, 5,\n",
    "             5, 5,\n",
    "             5, 5,\n",
    "             5, 5] # in seconds\n",
    "reps = 2 # whole sequence repetition\n",
    "start = time.time()\n",
    "mirrors.sequence_of_single_images(img_seq, img_times, reps)\n",
    "mirrors.idle()\n",
    "\n",
    "# SAVE THE PROTOCOL\n",
    "# The path to the current acquisition folder is needed in order to save the sequence of projections.\n",
    "images_folder = mirrors.xp_folder + r'\\2_2_20230829_171405' # <-- HERE\n",
    "filenames_camera_0 = r'\\SPC00_TM*_ANG000_CM0_CHN00_PH0.stack'\n",
    "all_volumes = sorted(glob(images_folder + filenames_camera_0))\n",
    "for num, volume in enumerate(all_volumes):\n",
    "    current = os.path.getctime(volume)\n",
    "    if current - start > 0:\n",
    "        break\n",
    "\n",
    "np.savez(images_folder + \"triggers_2_numpy\", \n",
    "         TM=num, images=img_seq_names, durations=img_times)\n",
    "\n",
    "# HOW TO READ IT:\n",
    "# a = np.load(images_folder + \"triggers_numpy.npz\")\n",
    "# lst = a.files\n",
    "# for item in lst:\n",
    "#     print(item)\n",
    "#     print(a[item])"
   ]
  },
  {
   "cell_type": "code",
   "execution_count": 9,
   "metadata": {},
   "outputs": [
    {
     "name": "stdout",
     "output_type": "stream",
     "text": [
      "TM\n",
      "558\n",
      "images\n",
      "['od1' 'dark' 'od2' 'dark' 'od3' 'dark' 'od4' 'dark' 'od3' 'dark' 'od1'\n",
      " 'dark']\n",
      "durations\n",
      "[5 5 5 5 5 5 5 5 5 5 5 5]\n"
     ]
    }
   ],
   "source": [
    "a = np.load(images_folder + \"triggers_numpy.npz\")\n",
    "lst = a.files\n",
    "for item in lst:\n",
    "    print(item)\n",
    "    print(a[item])"
   ]
  },
  {
   "cell_type": "markdown",
   "metadata": {},
   "source": [
    "### Close the DMD when done."
   ]
  },
  {
   "cell_type": "code",
   "execution_count": null,
   "metadata": {},
   "outputs": [],
   "source": [
    "mirrors.close()"
   ]
  }
 ],
 "metadata": {
  "kernelspec": {
   "display_name": "LS_2",
   "language": "python",
   "name": "python3"
  },
  "language_info": {
   "codemirror_mode": {
    "name": "ipython",
    "version": 3
   },
   "file_extension": ".py",
   "mimetype": "text/x-python",
   "name": "python",
   "nbconvert_exporter": "python",
   "pygments_lexer": "ipython3",
   "version": "3.10.12"
  },
  "orig_nbformat": 4
 },
 "nbformat": 4,
 "nbformat_minor": 2
}
