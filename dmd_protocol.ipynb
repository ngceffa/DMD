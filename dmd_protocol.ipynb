{
 "cells": [
  {
   "cell_type": "markdown",
   "metadata": {},
   "source": [
    " ##### IMPORTS"
   ]
  },
  {
   "cell_type": "code",
   "execution_count": 1,
   "metadata": {},
   "outputs": [],
   "source": [
    "import dmd_with_power_control_single_task as DMD\n",
    "import imageio\n",
    "import numpy as np\n",
    "import time\n",
    "from glob import glob\n",
    "import os\n",
    "import importlib\n",
    "importlib.reload(DMD)\n",
    "import napari as nap"
   ]
  },
  {
   "cell_type": "code",
   "execution_count": 2,
   "metadata": {},
   "outputs": [
    {
     "name": "stdout",
     "output_type": "stream",
     "text": [
      "Loading library: C:/Program Files/ALP-4.3/ALP-4.3 API/x64/alp4395.dll\n",
      "DMD found, resolution = 1920 x 1200.\n",
      "DMD patterns folder already exists.\n"
     ]
    },
    {
     "name": "stderr",
     "output_type": "stream",
     "text": [
      "c:\\Users\\Light Sheet User\\Documents\\GitHub\\DMD\\dmd_with_power_control_single_task.py:43: ResourceWarning: unclosed file <_io.BufferedReader name='C:\\\\\\\\Users\\\\\\\\Light Sheet User\\\\\\\\Desktop\\\\\\\\DMD_parameters.pickled'>\n",
      "  self.parameters = pickle.load(open(general_parameters_folder, 'rb'))\n",
      "ResourceWarning: Enable tracemalloc to get the object allocation traceback\n"
     ]
    }
   ],
   "source": [
    "XP_FOLDER = r'D:\\Data\\PAN\\3_target_20240801_111628' # **** D:\\Data\\G1-2_72F11_ppk\\12_mvenus_20240301_172158\n",
    "TARGET_FOLDER = XP_FOLDER + r'\\test' # ***D:\\Data\\PAN\\\n",
    "GENERAL_PARAMETERS = r'C:\\\\Users\\\\Light Sheet User\\\\Desktop\\\\DMD_parameters.pickled'\n",
    "mirrors = DMD.dmd(XP_FOLDER, TARGET_FOLDER, GENERAL_PARAMETERS)\n",
    "# Prints basic information about the DMD."
   ]
  },
  {
   "cell_type": "code",
   "execution_count": 3,
   "metadata": {},
   "outputs": [],
   "source": [
    "mirrors.project_grid()"
   ]
  },
  {
   "cell_type": "code",
   "execution_count": 5,
   "metadata": {},
   "outputs": [
    {
     "name": "stdout",
     "output_type": "stream",
     "text": [
      "DMD ON,  input voltage 0.030000 \n",
      "\n"
     ]
    }
   ],
   "source": [
    "mirrors.project(mirrors.grid_mask,  .03)"
   ]
  },
  {
   "cell_type": "code",
   "execution_count": 6,
   "metadata": {},
   "outputs": [],
   "source": [
    "mirrors.idle()"
   ]
  },
  {
   "cell_type": "code",
   "execution_count": 5,
   "metadata": {},
   "outputs": [
    {
     "data": {
      "image/png": "[encoded data removed]",
      "text/plain": [
       "<Figure size 432x288 with 1 Axes>"
      ]
     },
     "metadata": {
      "needs_background": "light"
     },
     "output_type": "display_data"
    }
   ],
   "source": [
    "import matplotlib.pyplot as plt\n",
    "plt.imshow(mirrors.grid_mask)\n",
    "plt.show()"
   ]
  },
  {
   "cell_type": "code",
   "execution_count": 7,
   "metadata": {},
   "outputs": [],
   "source": [
    "mirrors.idle()"
   ]
  },
  {
   "cell_type": "code",
   "execution_count": 11,
   "metadata": {},
   "outputs": [
    {
     "name": "stdout",
     "output_type": "stream",
     "text": [
      "1115.6 1200.8\n",
      "[[600 960]\n",
      " [600 960]\n",
      " [600 960]\n",
      " [600 960]\n",
      " [600 960]]\n",
      "[[815 175]\n",
      " [507 182]\n",
      " [617 539]\n",
      " [356 339]\n",
      " [283 -31]]\n"
     ]
    }
   ],
   "source": [
    "calibration_image = r'C:\\Users\\Light Sheet User\\Documents\\GitHub\\DMD\\camera_DMD_calibration.png'\n",
    "mirrors.find_affine_2(calibration_image, show=True)"
   ]
  },
  {
   "cell_type": "code",
   "execution_count": 8,
   "metadata": {},
   "outputs": [
    {
     "name": "stdout",
     "output_type": "stream",
     "text": [
      "\n",
      "DMD halted.\n",
      "DMD closed.\n",
      "\n",
      "DND laer off.\n",
      "\n"
     ]
    }
   ],
   "source": [
    "mirrors.close()"
   ]
  },
  {
   "cell_type": "code",
   "execution_count": 3,
   "metadata": {},
   "outputs": [
    {
     "name": "stderr",
     "output_type": "stream",
     "text": [
      "C:\\Users\\Light Sheet User\\AppData\\Local\\Temp\\ipykernel_22612\\3235376734.py:1: DeprecationWarning: Starting with ImageIO v3 the behavior of this function will switch to that of iio.v3.imread. To keep the current behavior (and make this warning disappear) use `import imageio.v2 as imageio` or call `imageio.v2.imread` directly.\n",
      "  image = imageio.imread(r'C:\\Users\\Light Sheet User\\Documents\\SiMView Configuration\\DMD Images\\Letter_R.png')\n"
     ]
    }
   ],
   "source": [
    "image = imageio.imread(r'C:\\Users\\Light Sheet User\\Documents\\SiMView Configuration\\DMD Images\\Letter_R.png')\n",
    "tot = np.zeros((image.shape), dtype=np.uint8)"
   ]
  },
  {
   "cell_type": "code",
   "execution_count": 4,
   "metadata": {},
   "outputs": [
    {
     "name": "stdout",
     "output_type": "stream",
     "text": [
      "DMD ON,  input voltage 0.100000 \n",
      "\n"
     ]
    }
   ],
   "source": [
    "mirrors.project(image, 0.1)"
   ]
  },
  {
   "cell_type": "code",
   "execution_count": 5,
   "metadata": {},
   "outputs": [],
   "source": [
    "mirrors.idle()"
   ]
  },
  {
   "cell_type": "code",
   "execution_count": 16,
   "metadata": {},
   "outputs": [
    {
     "name": "stdout",
     "output_type": "stream",
     "text": [
      "\n",
      "DMD halted.\n",
      "DMD closed.\n",
      "\n",
      "DND laer off.\n",
      "\n"
     ]
    }
   ],
   "source": [
    "mirrors.idle()\n",
    "mirrors.close()"
   ]
  },
  {
   "cell_type": "markdown",
   "metadata": {},
   "source": [
    "##### Calibration procedure:"
   ]
  },
  {
   "cell_type": "markdown",
   "metadata": {},
   "source": [
    "- project the *calibration_mask*;\n",
    "- save the image through the Labview code;\n",
    "- run the *find_affine* method.\n",
    "\n",
    "The affine transorm parameters are saved for future use."
   ]
  },
  {
   "cell_type": "code",
   "execution_count": 6,
   "metadata": {},
   "outputs": [
    {
     "name": "stdout",
     "output_type": "stream",
     "text": [
      "DMD ON,  input voltage 1.000000 \n",
      "\n"
     ]
    }
   ],
   "source": [
    "mirrors.project(mirrors.calibration_mask, 1.)"
   ]
  },
  {
   "cell_type": "code",
   "execution_count": 7,
   "metadata": {},
   "outputs": [],
   "source": [
    "mirrors.idle()"
   ]
  },
  {
   "cell_type": "code",
   "execution_count": 10,
   "metadata": {},
   "outputs": [
    {
     "data": {
      "text/plain": [
       "'D:\\\\DMD_transform_parameters'"
      ]
     },
     "execution_count": 10,
     "metadata": {},
     "output_type": "execute_result"
    }
   ],
   "source": [
    "mirrors.parameters['params_folder']"
   ]
  },
  {
   "cell_type": "markdown",
   "metadata": {},
   "source": [
    "Save the calibration image. Usually choosing the same folder as **mirrors.parameters['params_folder']** is a good choice to keep things tidy.\n",
    "Then plug it in the following method and run it to compute the afffine transform parameters."
   ]
  },
  {
   "cell_type": "code",
   "execution_count": 8,
   "metadata": {},
   "outputs": [
    {
     "name": "stderr",
     "output_type": "stream",
     "text": [
      "c:\\Users\\Light Sheet User\\.conda\\envs\\light-sheet\\lib\\site-packages\\imageio\\plugins\\pillow.py:297: UserWarning: Loading 16-bit (uint16) PNG as int32 due to limitations in pillow's PNG decoder. This will be fixed in a future version of pillow which will make this warning dissapear.\n",
      "  warnings.warn(\n"
     ]
    },
    {
     "name": "stdout",
     "output_type": "stream",
     "text": [
      "1197.0 762.0\n",
      "626.0 940.0\n"
     ]
    },
    {
     "data": {
      "image/png": "[encoded data removed]",
      "text/plain": [
       "<Figure size 432x288 with 1 Axes>"
      ]
     },
     "metadata": {
      "needs_background": "light"
     },
     "output_type": "display_data"
    },
    {
     "data": {
      "image/png": "[encoded data removed]",
      "text/plain": [
       "<Figure size 432x288 with 1 Axes>"
      ]
     },
     "metadata": {
      "needs_background": "light"
     },
     "output_type": "display_data"
    },
    {
     "name": "stdout",
     "output_type": "stream",
     "text": [
      "[[ 0.7084092  -0.70580196]\n",
      " [ 0.70580196  0.7084092 ]]\n"
     ]
    }
   ],
   "source": [
    "calibration_image = \\\n",
    "    r'C:\\Users\\Light Sheet User\\Documents\\GitHub\\DMD\\camera_DMD_calibration.png'\n",
    "mirrors.find_affine(calibration_image, show=True)"
   ]
  },
  {
   "cell_type": "code",
   "execution_count": 12,
   "metadata": {},
   "outputs": [
    {
     "name": "stdout",
     "output_type": "stream",
     "text": [
      "\n",
      "DMD halted.\n",
      "DMD closed.\n",
      "\n",
      "DND laer off.\n",
      "\n"
     ]
    }
   ],
   "source": [
    "mirrors.close()"
   ]
  },
  {
   "cell_type": "code",
   "execution_count": 12,
   "metadata": {},
   "outputs": [
    {
     "name": "stdout",
     "output_type": "stream",
     "text": [
      "44.416666666666664\n"
     ]
    }
   ],
   "source": [
    "on_time = 15\n",
    "off_time = 45\n",
    "\n",
    "durations=[on_time, off_time, on_time, off_time,\n",
    "                           on_time, off_time, on_time, off_time,\n",
    "                           on_time, off_time, on_time, 60,\n",
    "                           15, 5, 10, 5, 15, 45, 15, 5, 10, 5, 15,45,15, 5, 10, 5, 15,45,15, 5, 10, 5, 15,45,15, 5, 10, 5, 15,45,\n",
    "                           15, 5, 10, 5, 15,45,15, 5, 10, 5, 15,45,15, 5, 10, 5, 15,45,15, 5, 10, 5, 15,45,15, 5, 10, 5, 15,45,\n",
    "                           15, 5, 10, 5, 15,45,15, 5, 10, 5, 15,45,15, 5, 10, 5, 15,45,15, 5, 10, 5, 15,45,15, 5, 10, 5, 15,45,\n",
    "                           15, 5, 10, 5, 15,45,15, 5, 10, 5, 15,45,15, 5, 10, 5, 15,45,15, 5, 10, 5, 15,45,15, 5, 10, 5, 15,60,\n",
    "                           on_time, off_time, on_time, off_time,\n",
    "                           on_time, off_time, on_time, off_time,\n",
    "                           on_time, off_time, on_time, 60,]\n",
    "tot = 0\n",
    "for time in durations: tot += time\n",
    "\n",
    "print(tot/60)"
   ]
  },
  {
   "cell_type": "code",
   "execution_count": 4,
   "metadata": {},
   "outputs": [
    {
     "name": "stdout",
     "output_type": "stream",
     "text": [
      "[2, 4, 3, 1, 2, 1, 3, 4, 4, 2, 1, 3, 4, 3, 1, 2]\n"
     ]
    }
   ],
   "source": [
    "from random import shuffle\n",
    "part = [1,2,3,4]\n",
    "total_shuf = []\n",
    "for i in range(4):\n",
    "    shuffle(part)\n",
    "    total_shuf += part\n",
    "    part=[1,2,3, 4]\n",
    "print(total_shuf)"
   ]
  },
  {
   "cell_type": "markdown",
   "metadata": {},
   "source": [
    "#### ROI selection"
   ]
  },
  {
   "cell_type": "markdown",
   "metadata": {},
   "source": [
    "Use the following method to select ROIs to be stimulated by the DMD.\n",
    "It is supposed to read rectangular ROIs, where you start drawing from top left corner to bottom right corner of the ROI. Different geometries are not implemented and may result in random or no pattern at all."
   ]
  },
  {
   "cell_type": "code",
   "execution_count": 9,
   "metadata": {},
   "outputs": [],
   "source": [
    "mirrors.select_ROIs()"
   ]
  },
  {
   "cell_type": "markdown",
   "metadata": {},
   "source": [
    "Once the wanted ROIs are drawn, import them within the class. They are stored in order in the \"rois\" list and saved as .png using the save_dir attribute."
   ]
  },
  {
   "cell_type": "code",
   "execution_count": 10,
   "metadata": {},
   "outputs": [
    {
     "name": "stdout",
     "output_type": "stream",
     "text": [
      "Found 1 ROI(s)\n"
     ]
    }
   ],
   "source": [
    "mirrors.import_N_rois(exp='test')"
   ]
  },
  {
   "cell_type": "code",
   "execution_count": 13,
   "metadata": {},
   "outputs": [
    {
     "name": "stdout",
     "output_type": "stream",
     "text": [
      "DMD ON,  input voltage 0.500000 \n",
      "\n"
     ]
    },
    {
     "name": "stderr",
     "output_type": "stream",
     "text": [
      "C:\\Users\\Light Sheet User\\AppData\\Local\\Temp\\ipykernel_24252\\4073100696.py:1: DeprecationWarning: Starting with ImageIO v3 the behavior of this function will switch to that of iio.v3.imread. To keep the current behavior (and make this warning disappear) use `import imageio.v2 as imageio` or call `imageio.v2.imread` directly.\n",
      "  img1 = imageio.imread(\"D:\\\\Data\\\\panDAN_OR_72F11_ppk__george\\\\excitation_patterns\\\\test\\\\mask_1.png\")\n"
     ]
    }
   ],
   "source": [
    "img1 = imageio.imread(\"D:\\\\Data\\\\panDAN_OR_72F11_ppk__george\\\\excitation_patterns\\\\test\\\\mask_1.png\")\n",
    "mirrors.project(img1, 0.5)"
   ]
  },
  {
   "cell_type": "code",
   "execution_count": 16,
   "metadata": {},
   "outputs": [],
   "source": [
    "mirrors.idle()"
   ]
  },
  {
   "cell_type": "code",
   "execution_count": 15,
   "metadata": {},
   "outputs": [
    {
     "name": "stdout",
     "output_type": "stream",
     "text": [
      "DMD ON,  input voltage 0.500000 \n",
      "\n"
     ]
    },
    {
     "name": "stderr",
     "output_type": "stream",
     "text": [
      "C:\\Users\\Light Sheet User\\AppData\\Local\\Temp\\ipykernel_5008\\783320522.py:1: DeprecationWarning: Starting with ImageIO v3 the behavior of this function will switch to that of iio.v3.imread. To keep the current behavior (and make this warning disappear) use `import imageio.v2 as imageio` or call `imageio.v2.imread` directly.\n",
      "  img1 = imageio.imread(mirrors.save_dir + '\\\\mask_1.png')\n"
     ]
    }
   ],
   "source": [
    "img1 = imageio.imread(mirrors.save_dir + '\\\\mask_1.png')\n",
    "mirrors.project(img1, 0.5)"
   ]
  },
  {
   "cell_type": "markdown",
   "metadata": {},
   "source": [
    "In case you plan to project two patterns at the same time, use the method \"sum_patterns\", passing a list of pattrerns to be summed as numpy matrices. It will return a new matrix that can be used for projection or for a protocol."
   ]
  },
  {
   "cell_type": "markdown",
   "metadata": {},
   "source": [
    "Random slopes"
   ]
  },
  {
   "cell_type": "code",
   "execution_count": 11,
   "metadata": {},
   "outputs": [
    {
     "name": "stderr",
     "output_type": "stream",
     "text": [
      "C:\\Users\\Light Sheet User\\AppData\\Local\\Temp\\ipykernel_23884\\4039362099.py:4: DeprecationWarning: Starting with ImageIO v3 the behavior of this function will switch to that of iio.v3.imread. To keep the current behavior (and make this warning disappear) use `import imageio.v2 as imageio` or call `imageio.v2.imread` directly.\n",
      "  img1 = imageio.imread(masks_path + '\\\\mask_1.png')\n",
      "C:\\Users\\Light Sheet User\\AppData\\Local\\Temp\\ipykernel_23884\\4039362099.py:5: DeprecationWarning: Starting with ImageIO v3 the behavior of this function will switch to that of iio.v3.imread. To keep the current behavior (and make this warning disappear) use `import imageio.v2 as imageio` or call `imageio.v2.imread` directly.\n",
      "  img2 = imageio.imread(masks_path + '\\\\mask_2.png')\n"
     ]
    },
    {
     "name": "stdout",
     "output_type": "stream",
     "text": [
      "[1, 2, 4, 3, 3, 1, 2, 4, 4, 3, 1, 2, 2, 1, 4, 3]\n"
     ]
    }
   ],
   "source": [
    "masks_path = r'D:\\Data\\KCs_slopes_fast\\excitation_patterns\\9_1'\n",
    "\n",
    "\n",
    "img1 = imageio.imread(masks_path + '\\\\mask_1.png')\n",
    "img2 = imageio.imread(masks_path + '\\\\mask_2.png')\n",
    "tot = mirrors.sum_patterns([img1, img2])\n",
    "\n",
    "start = time.time()\n",
    "\n",
    "mirrors.project_random_slopes_seqence(img2, 1.5, '9_1')\n",
    "\n",
    "# mirrors.power_titration(tot, 20, 30, 5, 1, [.005, 0.3])\n",
    "\n",
    "# The path to the current acquisition folder is needed in order to save the sequence of projections.\n",
    "current_acquisition = r'\\9_1_20240229_113310' # <-- HD:\\Data\\G1-2_72F11_ppk\\\n",
    "protocol_name = r\"/9_1\"\n",
    "images_folder = mirrors.xp_folder + current_acquisition \n",
    "\n",
    "\n",
    "# SAVE THE PROTOCOL\n",
    "filenames_camera_0 = r'\\SPC00_TM*_ANG000_CM0_CHN00_PH0.stack'\n",
    "all_volumes = sorted(glob(images_folder + filenames_camera_0))\n",
    "for num, volume in enumerate(all_volumes):\n",
    "    current = os.path.getctime(volume)\n",
    "    if current - start > 0:\n",
    "        break\n",
    "\n",
    "# np.savez(images_folder + protocol_name,\\\n",
    "#          TM=num, images=[\"1\", \"dark\", \"1\", \"dark\", \"1\", \"dark\", \"1\", \"dark\", \n",
    "#                          \"1\", \"dark\", \"1\", \"dark\", \"1\", \"dark\", \"1\", \"dark\", \n",
    "#                          \"1\", \"dark\", \"1\", \"dark\", \"1\", \"dark\", \"1\", \"dark\", \n",
    "#                          \"1\", \"dark\", \"1\", \"dark\", \"1\", \"dark\", \"1\", \"dark\"\n",
    "#                          ], \\\n",
    "#                          durations=[10, 50, 10, 50, 10, 50, 10, 50,\n",
    "#                                     10, 50, 10, 50, 10, 50, 10, 50,\n",
    "#                                     10, 50, 10, 50, 10, 50, 10, 50,\n",
    "#                                     10, 50, 10, 50, 10, 50, 10, 50])\n",
    "np.savetxt(images_folder + protocol_name, [num])\n"
   ]
  },
  {
   "cell_type": "code",
   "execution_count": 22,
   "metadata": {},
   "outputs": [],
   "source": [
    "np.savetxt(images_folder + protocol_name, [num])"
   ]
  },
  {
   "cell_type": "code",
   "execution_count": 10,
   "metadata": {},
   "outputs": [],
   "source": [
    "mirrors.idle()"
   ]
  },
  {
   "cell_type": "markdown",
   "metadata": {},
   "source": [
    "MBONs"
   ]
  },
  {
   "cell_type": "code",
   "execution_count": 8,
   "metadata": {},
   "outputs": [
    {
     "name": "stderr",
     "output_type": "stream",
     "text": [
      "C:\\Users\\Light Sheet User\\AppData\\Local\\Temp\\ipykernel_10880\\1167028650.py:4: DeprecationWarning: Starting with ImageIO v3 the behavior of this function will switch to that of iio.v3.imread. To keep the current behavior (and make this warning disappear) use `import imageio.v2 as imageio` or call `imageio.v2.imread` directly.\n",
      "  img2 = imageio.imread(masks_path + '\\\\mask_1.png') # odour1\n",
      "C:\\Users\\Light Sheet User\\AppData\\Local\\Temp\\ipykernel_10880\\1167028650.py:5: DeprecationWarning: Starting with ImageIO v3 the behavior of this function will switch to that of iio.v3.imread. To keep the current behavior (and make this warning disappear) use `import imageio.v2 as imageio` or call `imageio.v2.imread` directly.\n",
      "  img1 = imageio.imread(masks_path + '\\\\mask_2.png') # odour2\n",
      "C:\\Users\\Light Sheet User\\AppData\\Local\\Temp\\ipykernel_10880\\1167028650.py:6: DeprecationWarning: Starting with ImageIO v3 the behavior of this function will switch to that of iio.v3.imread. To keep the current behavior (and make this warning disappear) use `import imageio.v2 as imageio` or call `imageio.v2.imread` directly.\n",
      "  img3 = imageio.imread(masks_path + '\\\\mask_3.png') # pain\n"
     ]
    },
    {
     "name": "stdout",
     "output_type": "stream",
     "text": [
      "DMD ON,  input voltage 2.000000 \n",
      "\n",
      "DMD ON,  input voltage 2.000000 \n",
      "\n",
      "DMD ON,  input voltage 2.000000 \n",
      "\n",
      "DMD ON,  input voltage 2.000000 \n",
      "\n",
      "DMD ON,  input voltage 2.000000 \n",
      "\n",
      "DMD ON,  input voltage 2.000000 \n",
      "\n",
      "DMD ON,  input voltage 2.000000 \n",
      "\n",
      "DMD ON,  input voltage 2.000000 \n",
      "\n",
      "DMD ON,  input voltage 2.000000 \n",
      "\n",
      "DMD ON,  input voltage 2.000000 \n",
      "\n",
      "DMD ON,  input voltage 2.000000 \n",
      "\n",
      "DMD ON,  input voltage 2.000000 \n",
      "\n",
      "DMD ON,  input voltage 2.000000 \n",
      "\n",
      "DMD ON,  input voltage 2.000000 \n",
      "\n",
      "DMD ON,  input voltage 2.000000 \n",
      "\n",
      "DMD ON,  input voltage 2.000000 \n",
      "\n",
      "DMD ON,  input voltage 2.000000 \n",
      "\n",
      "DMD ON,  input voltage 2.000000 \n",
      "\n",
      "DMD ON,  input voltage 2.000000 \n",
      "\n",
      "DMD ON,  input voltage 2.000000 \n",
      "\n",
      "DMD ON,  input voltage 2.000000 \n",
      "\n",
      "DMD ON,  input voltage 2.000000 \n",
      "\n",
      "DMD ON,  input voltage 2.000000 \n",
      "\n",
      "DMD ON,  input voltage 2.000000 \n",
      "\n",
      "DMD ON,  input voltage 2.000000 \n",
      "\n",
      "DMD ON,  input voltage 2.000000 \n",
      "\n",
      "DMD ON,  input voltage 2.000000 \n",
      "\n"
     ]
    }
   ],
   "source": [
    "masks_path = r'D:\\Data\\G1-2_72F11_ppk\\excitation_patterns\\12_1' #\n",
    "\n",
    "\n",
    "img2 = imageio.imread(masks_path + '\\\\mask_1.png') # odour1\n",
    "img1 = imageio.imread(masks_path + '\\\\mask_2.png') # odour2\n",
    "img3 = imageio.imread(masks_path + '\\\\mask_3.png') # pain\n",
    "\n",
    "tot = mirrors.sum_patterns([img1, img3]) # odour 1 + pain\n",
    "od = mirrors.sum_patterns([img1, img2]) # odour total\n",
    "# tot = mirrors.sum_patterns([img1, img3]) # odour 1 + pain\n",
    "\n",
    "start = time.time()\n",
    "\n",
    "power = 2 # changed from 2\n",
    "\n",
    "on_time = 10\n",
    "off_time = 50\n",
    "\n",
    "# start test\n",
    "mirrors.project(img1, power)\n",
    "time.sleep(on_time)\n",
    "mirrors.idle()\n",
    "time.sleep(off_time)\n",
    "mirrors.project(img3, power)\n",
    "time.sleep(on_time)\n",
    "mirrors.idle()\n",
    "time.sleep(off_time)\n",
    "mirrors.project(img2, power)\n",
    "time.sleep(on_time)\n",
    "mirrors.idle()\n",
    "time.sleep(off_time)\n",
    "\n",
    "\n",
    "mirrors.project(tot, power)\n",
    "time.sleep(on_time)\n",
    "mirrors.idle()\n",
    "time.sleep(off_time)\n",
    "mirrors.project(img2, power)\n",
    "time.sleep(on_time)\n",
    "mirrors.idle()\n",
    "time.sleep(off_time)\n",
    "mirrors.project(tot, power)\n",
    "time.sleep(on_time)\n",
    "mirrors.idle()\n",
    "time.sleep(off_time)\n",
    "mirrors.project(img2, power)\n",
    "time.sleep(on_time)\n",
    "mirrors.idle()\n",
    "time.sleep(off_time)\n",
    "mirrors.project(tot, power)\n",
    "time.sleep(on_time)\n",
    "mirrors.idle()\n",
    "time.sleep(off_time)\n",
    "mirrors.project(img2, power)\n",
    "time.sleep(on_time)\n",
    "mirrors.idle()\n",
    "time.sleep(off_time)\n",
    "mirrors.project(tot, power)\n",
    "time.sleep(on_time)\n",
    "mirrors.idle()\n",
    "time.sleep(off_time)\n",
    "mirrors.project(img2, power)\n",
    "time.sleep(on_time)\n",
    "mirrors.idle()\n",
    "time.sleep(off_time)\n",
    "mirrors.project(tot, power)\n",
    "time.sleep(on_time)\n",
    "mirrors.idle()\n",
    "time.sleep(off_time)\n",
    "mirrors.project(img2, power)\n",
    "time.sleep(on_time)\n",
    "mirrors.idle()\n",
    "time.sleep(off_time)\n",
    "mirrors.project(tot, power)\n",
    "time.sleep(on_time)\n",
    "mirrors.idle()\n",
    "time.sleep(off_time)\n",
    "mirrors.project(img2, power)\n",
    "time.sleep(on_time)\n",
    "mirrors.idle()\n",
    "time.sleep(off_time)\n",
    "mirrors.project(tot, power)\n",
    "time.sleep(on_time)\n",
    "mirrors.idle()\n",
    "time.sleep(off_time)\n",
    "mirrors.project(img2, power)\n",
    "time.sleep(on_time)\n",
    "mirrors.idle()\n",
    "time.sleep(off_time)\n",
    "mirrors.project(tot, power)\n",
    "time.sleep(on_time)\n",
    "mirrors.idle()\n",
    "time.sleep(off_time)\n",
    "mirrors.project(img2, power)\n",
    "time.sleep(on_time)\n",
    "mirrors.idle()\n",
    "time.sleep(off_time)\n",
    "mirrors.project(tot, power)\n",
    "time.sleep(on_time)\n",
    "mirrors.idle()\n",
    "time.sleep(off_time)\n",
    "mirrors.project(img2, power)\n",
    "time.sleep(on_time)\n",
    "mirrors.idle()\n",
    "time.sleep(off_time)\n",
    "mirrors.project(tot, power)\n",
    "time.sleep(on_time)\n",
    "mirrors.idle()\n",
    "time.sleep(off_time)\n",
    "mirrors.project(img2, power)\n",
    "time.sleep(on_time)\n",
    "mirrors.idle()\n",
    "time.sleep(off_time)\n",
    "\n",
    "\n",
    "# end testod\n",
    "mirrors.project(img1, power)\n",
    "time.sleep(on_time)\n",
    "mirrors.idle()\n",
    "time.sleep(off_time)\n",
    "mirrors.project(img2, power)\n",
    "time.sleep(on_time)\n",
    "mirrors.idle()\n",
    "time.sleep(off_time)\n",
    "mirrors.project(img1, power)\n",
    "time.sleep(on_time)\n",
    "mirrors.idle()\n",
    "time.sleep(off_time)\n",
    "mirrors.project(img2, power)\n",
    "time.sleep(on_time)\n",
    "mirrors.idle()\n",
    "time.sleep(off_time)\n",
    "\n",
    "\n",
    "\n",
    "\n",
    "# The path to the current acquisition folder is needed in order to save the sequence of projections.\n",
    "current_acquisition = r'\\12_2_20240301_175719' # <-- D:\\Data\\G1-2_72F11_ppk\\\n",
    "protocol_name = r\"/12_2\"\n",
    "images_folder = mirrors.xp_folder + current_acquisition \n",
    "\n",
    "\n",
    "# SAVE THE PROTOCOL\n",
    "filenames_camera_0 = r'\\SPC00_TM*_ANG000_CM0_CHN00_PH0.stack'\n",
    "all_volumes = sorted(glob(images_folder + filenames_camera_0))\n",
    "for num, volume in enumerate(all_volumes):\n",
    "    current = os.path.getctime(volume)\n",
    "    if current - start > 0:\n",
    "        break\n",
    "\n",
    "np.savez(images_folder + protocol_name,\\\n",
    "         TM=num, images=[\"1\", \"dark\", \"pun\", \"dark\", \"2\", \"dark\",\n",
    "                         \"1pun\", \"dark\", \"2\", \"dark\", \"1pun\", \"dark\", \"2\", \"dark\", \"1pun\", \"dark\", \"2\", \"dark\", \"1pun\", \"dark\", \"2\", \"dark\", \"1pun\", \"dark\", \"2\", \"dark\",\n",
    "                         \"1pun\", \"dark\", \"2\", \"dark\", \"1pun\", \"dark\", \"2\", \"dark\", \"1pun\", \"dark\", \"2\", \"dark\", \"1pun\", \"dark\", \"2\", \"dark\", \"1pun\", \"dark\", \"2\", \"dark\",\n",
    "                         \"1\", \"dark\", \"2\", \"dark\", \"1\", \"dark\", \"2\", \"dark\", \"1\", \"dark\", \"2\", \"dark\"\n",
    "                         ], \\\n",
    "                durations=[10, 50, 10, 50, 10, 50,\n",
    "                           10, 50, 10, 50, 10, 50, 10, 50,10, 50, 10, 50,10, 50, 10, 50,10, 50, 10, 50,\n",
    "                           10, 50, 10, 50,10, 50, 10, 50,10, 50, 10, 50,10, 50, 10, 50,10, 50, 10, 50,\n",
    "                            10, 50, 10, 50, 10, 50, 10, 50, 10, 50, 10, 50]\n",
    "                ) # 27 mins\n"
   ]
  },
  {
   "cell_type": "code",
   "execution_count": 12,
   "metadata": {},
   "outputs": [
    {
     "name": "stderr",
     "output_type": "stream",
     "text": [
      "C:\\Users\\Light Sheet User\\AppData\\Local\\Temp\\ipykernel_10880\\4289779832.py:4: DeprecationWarning: Starting with ImageIO v3 the behavior of this function will switch to that of iio.v3.imread. To keep the current behavior (and make this warning disappear) use `import imageio.v2 as imageio` or call `imageio.v2.imread` directly.\n",
      "  img1 = imageio.imread(masks_path + '\\\\mask_1.png') # odour1\n",
      "C:\\Users\\Light Sheet User\\AppData\\Local\\Temp\\ipykernel_10880\\4289779832.py:5: DeprecationWarning: Starting with ImageIO v3 the behavior of this function will switch to that of iio.v3.imread. To keep the current behavior (and make this warning disappear) use `import imageio.v2 as imageio` or call `imageio.v2.imread` directly.\n",
      "  img2 = imageio.imread(masks_path + '\\\\mask_2.png') # odour2\n",
      "C:\\Users\\Light Sheet User\\AppData\\Local\\Temp\\ipykernel_10880\\4289779832.py:6: DeprecationWarning: Starting with ImageIO v3 the behavior of this function will switch to that of iio.v3.imread. To keep the current behavior (and make this warning disappear) use `import imageio.v2 as imageio` or call `imageio.v2.imread` directly.\n",
      "  img3 = imageio.imread(masks_path + '\\\\mask_3.png') # pain\n"
     ]
    },
    {
     "name": "stdout",
     "output_type": "stream",
     "text": [
      "DMD ON,  input voltage 2.000000 \n",
      "\n",
      "DMD ON,  input voltage 2.000000 \n",
      "\n",
      "DMD ON,  input voltage 2.000000 \n",
      "\n"
     ]
    }
   ],
   "source": [
    "masks_path = r'D:\\Data\\G1-2_72F11_ppk\\excitation_patterns\\12_1' #\n",
    "\n",
    "\n",
    "img1 = imageio.imread(masks_path + '\\\\mask_1.png') # odour1\n",
    "img2 = imageio.imread(masks_path + '\\\\mask_2.png') # odour2\n",
    "img3 = imageio.imread(masks_path + '\\\\mask_3.png') # pain\n",
    "\n",
    "tot = mirrors.sum_patterns([img1, img2, img3]) # odour 1 + pain\n",
    "od = mirrors.sum_patterns([img1, img2]) # odour total\n",
    "# tot = mirrors.sum_patterns([img1, img3]) # odour 1 + pain\n",
    "\n",
    "start = time.time()\n",
    "\n",
    "power = 2 # changed from 2\n",
    "\n",
    "on_time = 10\n",
    "off_time = 50\n",
    "\n",
    "# start test\n",
    "mirrors.project(img3, power)\n",
    "time.sleep(on_time)\n",
    "mirrors.idle()\n",
    "time.sleep(off_time)\n",
    "mirrors.project(img3, power)\n",
    "time.sleep(on_time)\n",
    "mirrors.idle()\n",
    "time.sleep(off_time)\n",
    "mirrors.project(img3, power)\n",
    "time.sleep(on_time)\n",
    "mirrors.idle()\n",
    "time.sleep(off_time)\n",
    "\n",
    "\n",
    "\n",
    "# mirrors.project(tot, power)\n",
    "# time.sleep(on_time)\n",
    "# mirrors.idle()\n",
    "# time.sleep(off_time)\n",
    "\n",
    "# mirrors.project(tot, power)\n",
    "# time.sleep(on_time)\n",
    "# mirrors.idle()\n",
    "# time.sleep(off_time)\n",
    "\n",
    "# mirrors.project(tot, power)\n",
    "# time.sleep(on_time)\n",
    "# mirrors.idle()\n",
    "# time.sleep(off_time)\n",
    "\n",
    "# mirrors.project(tot, power)\n",
    "# time.sleep(on_time)\n",
    "# mirrors.idle()\n",
    "# time.sleep(off_time)\n",
    "\n",
    "# mirrors.project(tot, power)\n",
    "# time.sleep(on_time)\n",
    "# mirrors.idle()\n",
    "# time.sleep(off_time)\n",
    "\n",
    "# mirrors.project(tot, power)\n",
    "# time.sleep(on_time)\n",
    "# mirrors.idle()\n",
    "# time.sleep(off_time)\n",
    "\n",
    "# mirrors.project(tot, power)\n",
    "# time.sleep(on_time)\n",
    "# mirrors.idle()\n",
    "# time.sleep(off_time)\n",
    "\n",
    "# mirrors.project(tot, power)\n",
    "# time.sleep(on_time)\n",
    "# mirrors.idle()\n",
    "# time.sleep(off_time)\n",
    "\n",
    "# mirrors.project(tot, power)\n",
    "# time.sleep(on_time)\n",
    "# mirrors.idle()\n",
    "# time.sleep(off_time)\n",
    "\n",
    "# mirrors.project(tot, power)\n",
    "# time.sleep(on_time)\n",
    "# mirrors.idle()\n",
    "# time.sleep(off_time)\n",
    "\n",
    "# mirrors.project(tot, power)\n",
    "# time.sleep(on_time)\n",
    "# mirrors.idle()\n",
    "# time.sleep(off_time)\n",
    "\n",
    "\n",
    "# # end testod\n",
    "# mirrors.project(od, power)\n",
    "# time.sleep(on_time)\n",
    "# mirrors.idle()\n",
    "# time.sleep(off_time)\n",
    "\n",
    "# mirrors.project(od, power)\n",
    "# time.sleep(on_time)\n",
    "# mirrors.idle()\n",
    "# time.sleep(off_time)\n",
    "\n",
    "# mirrors.project(od, power)\n",
    "# time.sleep(on_time)\n",
    "# mirrors.idle()\n",
    "# time.sleep(off_time)\n",
    "\n",
    "\n",
    "\n",
    "\n",
    "# The path to the current acquisition folder is needed in order to save the sequence of projections.\n",
    "current_acquisition = r'\\12_5_20240301_184842' # <--D:\\Data\\G1-2_72F11_ppk\\\n",
    "protocol_name = r\"/12_5\"\n",
    "images_folder = mirrors.xp_folder + current_acquisition \n",
    "\n",
    "\n",
    "# SAVE THE PROTOCOL\n",
    "filenames_camera_0 = r'\\SPC00_TM*_ANG000_CM0_CHN00_PH0.stack'\n",
    "all_volumes = sorted(glob(images_folder + filenames_camera_0))\n",
    "for num, volume in enumerate(all_volumes):\n",
    "    current = os.path.getctime(volume)\n",
    "    if current - start > 0:\n",
    "        break\n",
    "\n",
    "np.savez(images_folder + protocol_name,\\\n",
    "         TM=num, images=[\"od\", \"dark\",  \"od\", \"dark\", \"od\", \"dark\", \n",
    "                         \"tot\", \"dark\", \"tot\", \"dark\", \"tot\", \"dark\", \"tot\", \"dark\", \"tot\", \"dark\", \n",
    "                         \"tot\", \"dark\", \"tot\", \"dark\", \"tot\", \"dark\", \"tot\", \"dark\", \"tot\", \"dark\", \"tot\", \"dark\", \n",
    "                         \"od\", \"dark\", \"od\", \"dark\", \"od\", \"dark\"\n",
    "                         ], \\\n",
    "                durations=[10, 50, 10, 50, 10, 50,\n",
    "                           10, 50, 10, 50, 10, 50, 10, 50,10, 50, 10, 50,10, 50, 10, 50,10, 50, 10, 50, 10, 50,\n",
    "                            10, 50, 10, 50, 10, 50]\n",
    "                ) # 17 mins\n"
   ]
  },
  {
   "cell_type": "markdown",
   "metadata": {},
   "source": [
    "MBONS2"
   ]
  },
  {
   "cell_type": "code",
   "execution_count": null,
   "metadata": {},
   "outputs": [],
   "source": [
    "masks_path = r'D:\\Data\\G1-2_72F11_ppk\\excitation_patterns\\10_1' #\n",
    "\n",
    "\n",
    "img2 = imageio.imread(masks_path + '\\\\mask_1.png') # odour1\n",
    "img1 = imageio.imread(masks_path + '\\\\mask_2.png') # odour2\n",
    "img3 = imageio.imread(masks_path + '\\\\mask_3.png') # pain\n",
    "\n",
    "tot = mirrors.sum_patterns([img1, img3]) # odour 1 + pain\n",
    "od = mirrors.sum_patterns([img1, img2]) # odour 1 + pain\n",
    "# tot = mirrors.sum_patterns([img1, img3]) # odour 1 + pain\n",
    "\n",
    "start = time.time()\n",
    "\n",
    "power = 2\n",
    "\n",
    "# start test\n",
    "mirrors.project(img1, power)\n",
    "time.sleep(10)\n",
    "mirrors.idle()\n",
    "time.sleep(50)\n",
    "mirrors.project(img2, power)\n",
    "time.sleep(10)\n",
    "mirrors.idle()\n",
    "time.sleep(50)\n",
    "mirrors.project(img3, power)\n",
    "time.sleep(10)\n",
    "mirrors.idle()\n",
    "time.sleep(50)\n",
    "\n",
    "\n",
    "mirrors.project(img1, power); time.sleep(10); mirrors.idle(); time.sleep(5)\n",
    "mirrors.project(img3, power); time.sleep(10); mirrors.idle(); time.sleep(5)\n",
    "mirrors.project(img2, power); time.sleep(10); mirrors.idle(); time.sleep(20)\n",
    "mirrors.project(img1, power); time.sleep(10); mirrors.idle(); time.sleep(5)\n",
    "mirrors.project(img3, power); time.sleep(10); mirrors.idle(); time.sleep(5)\n",
    "mirrors.project(img2, power); time.sleep(10); mirrors.idle(); time.sleep(20)\n",
    "mirrors.project(img1, power); time.sleep(10); mirrors.idle(); time.sleep(5)\n",
    "mirrors.project(img3, power); time.sleep(10); mirrors.idle(); time.sleep(5)\n",
    "mirrors.project(img2, power); time.sleep(10); mirrors.idle(); time.sleep(20)\n",
    "mirrors.project(img1, power); time.sleep(10); mirrors.idle(); time.sleep(5)\n",
    "mirrors.project(img3, power); time.sleep(10); mirrors.idle(); time.sleep(5)\n",
    "mirrors.project(img2, power); time.sleep(10); mirrors.idle(); time.sleep(20)\n",
    "mirrors.project(img1, power); time.sleep(10); mirrors.idle(); time.sleep(5)\n",
    "mirrors.project(img3, power); time.sleep(10); mirrors.idle(); time.sleep(5)\n",
    "mirrors.project(img2, power); time.sleep(10); mirrors.idle(); time.sleep(20)\n",
    "mirrors.project(img1, power); time.sleep(10); mirrors.idle(); time.sleep(5)\n",
    "mirrors.project(img3, power); time.sleep(10); mirrors.idle(); time.sleep(5)\n",
    "mirrors.project(img2, power); time.sleep(10); mirrors.idle(); time.sleep(20)\n",
    "mirrors.project(img1, power); time.sleep(10); mirrors.idle(); time.sleep(5)\n",
    "mirrors.project(img3, power); time.sleep(10); mirrors.idle(); time.sleep(5)\n",
    "mirrors.project(img2, power); time.sleep(10); mirrors.idle(); time.sleep(20)\n",
    "mirrors.project(img1, power); time.sleep(10); mirrors.idle(); time.sleep(5)\n",
    "mirrors.project(img3, power); time.sleep(10); mirrors.idle(); time.sleep(5)\n",
    "mirrors.project(img2, power); time.sleep(10); mirrors.idle(); time.sleep(20)\n",
    "mirrors.project(img1, power); time.sleep(10); mirrors.idle(); time.sleep(5)\n",
    "mirrors.project(img3, power); time.sleep(10); mirrors.idle(); time.sleep(5)\n",
    "mirrors.project(img2, power); time.sleep(10); mirrors.idle(); time.sleep(20)\n",
    "mirrors.project(img1, power); time.sleep(10); mirrors.idle(); time.sleep(5)\n",
    "mirrors.project(img3, power); time.sleep(10); mirrors.idle(); time.sleep(5)\n",
    "mirrors.project(img2, power); time.sleep(10); mirrors.idle(); time.sleep(50)\n",
    "\n",
    "# end test\n",
    "mirrors.project(img1, power)\n",
    "time.sleep(10)\n",
    "mirrors.idle()\n",
    "time.sleep(50)\n",
    "mirrors.project(img2, power)\n",
    "time.sleep(10)\n",
    "mirrors.idle()\n",
    "time.sleep(50)\n",
    "mirrors.project(img3, power)\n",
    "time.sleep(10)\n",
    "mirrors.idle()\n",
    "time.sleep(50)\n",
    "\n",
    "\n",
    "\n",
    "\n",
    "# The path to the current acquisition folder is needed in order to save the sequence of projections.\n",
    "current_acquisition = r'\\10_2_20240229_133634' # <-- D:\\Data\\G1-2_72F11_ppk\\\n",
    "protocol_name = r\"/10_2\"\n",
    "images_folder = mirrors.xp_folder + current_acquisition \n",
    "\n",
    "\n",
    "# SAVE THE PROTOCOL\n",
    "filenames_camera_0 = r'\\SPC00_TM*_ANG000_CM0_CHN00_PH0.stack'\n",
    "all_volumes = sorted(glob(images_folder + filenames_camera_0))\n",
    "for num, volume in enumerate(all_volumes):\n",
    "    current = os.path.getctime(volume)\n",
    "    if current - start > 0:\n",
    "        break\n",
    "\n",
    "np.savez(images_folder + protocol_name,\\\n",
    "         TM=num, images=[\"1\", \"dark\", \"2\", \"dark\", \"pun\", \"dark\",\n",
    "                         \n",
    "                         \"1\", \"dark\", \"pun\", \"dark\", \"2\", \"dark\", \"1\", \"dark\", \"pun\", \"dark\", \"2\", \"dark\", \"1\", \"dark\", \"pun\", \"dark\", \"2\", \"dark\", \n",
    "                         \"1\", \"dark\", \"pun\", \"dark\", \"2\", \"dark\", \"1\", \"dark\", \"pun\", \"dark\", \"2\", \"dark\", \"1\", \"dark\", \"pun\", \"dark\", \"2\", \"dark\", \n",
    "                         \"1\", \"dark\", \"pun\", \"dark\", \"2\", \"dark\", \"1\", \"dark\", \"pun\", \"dark\", \"2\", \"dark\", \"1\", \"dark\", \"pun\", \"dark\", \"2\", \"dark\", \n",
    "                         \"1\", \"dark\", \"pun\", \"dark\", \"2\", \"dark\", \n",
    "\n",
    "                         \"1\", \"dark\", \"2\", \"dark\", \"pun\", \"dark\"\n",
    "                         ], \\\n",
    "                durations=[10, 50, 10, 50, 10, 50,\n",
    "                           10, 5, 10, 5, 10, 20,10, 5, 10, 5, 10, 20,10, 5, 10, 5, 10, 20,10, 5, 10, 5, 10, 20,10, 5, 10, 5, 10, 20,\n",
    "                           10, 5, 10, 5, 10, 20,10, 5, 10, 5, 10, 20,10, 5, 10, 5, 10, 20,10, 5, 10, 5, 10, 20,10, 5, 10, 5, 10, 50,\n",
    "                            10, 50, 10, 50, 10, 50]\n",
    "                ) # 16 mins"
   ]
  },
  {
   "cell_type": "markdown",
   "metadata": {},
   "source": [
    "MBONS faster protocol"
   ]
  },
  {
   "cell_type": "code",
   "execution_count": 10,
   "metadata": {},
   "outputs": [],
   "source": [
    "masks_path = r'D:\\Data\\panDAN_OR_72F11_ppk__george\\excitation_patterns\\1_1' #DD:\\Data\\G1-2_72F11_ppk\\7_1_20240225_135629\n",
    "\n",
    "\n",
    "img1 = imageio.imread(masks_path + '\\\\mask_1.png') # odour1\n",
    "img2 = imageio.imread(masks_path + '\\\\mask_2.png') # odour2\n",
    "\n",
    "\n",
    "img3 = imageio.imread(masks_path + '\\\\mask_3.png') # pain\n",
    "tot = mirrors.sum_patterns([img1, img3]) # odour 1 + pain\n",
    "od = mirrors.sum_patterns([img1, img2]) # odour 1 + pain\n",
    "\n",
    "start = time.time()\n",
    "\n",
    "power = 2\n",
    "stim_duration = 10\n",
    "dark_time = 30\n",
    "\n",
    "# start test\n",
    "mirrors.project(img1, power)\n",
    "time.sleep(10)\n",
    "mirrors.idle()\n",
    "time.sleep(dark_time)\n",
    "mirrors.project(img2, power)\n",
    "time.sleep(stim_duration)\n",
    "mirrors.idle()\n",
    "time.sleep(dark_time)\n",
    "mirrors.project(img3, power)\n",
    "time.sleep(stim_duration)\n",
    "mirrors.idle()\n",
    "time.sleep(dark_time)\n",
    "\n",
    "\n",
    "mirrors.project(tot, power)\n",
    "time.sleep(stim_duration)\n",
    "mirrors.idle()\n",
    "time.sleep(dark_time)\n",
    "mirrors.project(img2, power)\n",
    "time.sleep(stim_duration)\n",
    "mirrors.idle()\n",
    "time.sleep(dark_time)\n",
    "mirrors.project(tot, power)\n",
    "time.sleep(stim_duration)\n",
    "mirrors.idle()\n",
    "time.sleep(dark_time)\n",
    "mirrors.project(img2, power)\n",
    "time.sleep(stim_duration)\n",
    "mirrors.idle()\n",
    "time.sleep(dark_time)\n",
    "mirrors.project(tot, power)\n",
    "time.sleep(stim_duration)\n",
    "mirrors.idle()\n",
    "time.sleep(dark_time)\n",
    "mirrors.project(img2, power)\n",
    "time.sleep(stim_duration)\n",
    "mirrors.idle()\n",
    "time.sleep(dark_time)\n",
    "mirrors.project(tot, power)\n",
    "time.sleep(stim_duration)\n",
    "mirrors.idle()\n",
    "time.sleep(dark_time)\n",
    "mirrors.project(img2, power)\n",
    "time.sleep(stim_duration)\n",
    "mirrors.idle()\n",
    "time.sleep(dark_time)\n",
    "mirrors.project(tot, power)\n",
    "time.sleep(stim_duration)\n",
    "mirrors.idle()\n",
    "time.sleep(dark_time)\n",
    "mirrors.project(img2, power)\n",
    "time.sleep(stim_duration)\n",
    "mirrors.idle()\n",
    "time.sleep(dark_time)\n",
    "mirrors.project(tot, power)\n",
    "time.sleep(stim_duration)\n",
    "mirrors.idle()\n",
    "time.sleep(dark_time)\n",
    "mirrors.project(img2, power)\n",
    "time.sleep(stim_duration)\n",
    "mirrors.idle()\n",
    "time.sleep(dark_time)\n",
    "mirrors.project(tot, power)\n",
    "time.sleep(stim_duration)\n",
    "mirrors.idle()\n",
    "time.sleep(dark_time)\n",
    "mirrors.project(img2, power)\n",
    "time.sleep(stim_duration)\n",
    "mirrors.idle()\n",
    "time.sleep(dark_time)\n",
    "mirrors.project(tot, power)\n",
    "time.sleep(stim_duration)\n",
    "mirrors.idle()\n",
    "time.sleep(dark_time)\n",
    "mirrors.project(img2, power)\n",
    "time.sleep(stim_duration)\n",
    "mirrors.idle()\n",
    "time.sleep(dark_time)\n",
    "mirrors.project(tot, power)\n",
    "time.sleep(stim_duration)\n",
    "mirrors.idle()\n",
    "time.sleep(dark_time)\n",
    "mirrors.project(img2, power)\n",
    "time.sleep(stim_duration)\n",
    "mirrors.idle()\n",
    "time.sleep(dark_time)\n",
    "mirrors.project(tot, power)\n",
    "time.sleep(stim_duration)\n",
    "mirrors.idle()\n",
    "time.sleep(dark_time)\n",
    "mirrors.project(img2, power)\n",
    "time.sleep(stim_duration)\n",
    "mirrors.idle()\n",
    "time.sleep(dark_time)\n",
    "\n",
    "\n",
    "# end testod\n",
    "mirrors.project(img1, power)\n",
    "time.sleep(stim_duration)\n",
    "mirrors.idle()\n",
    "time.sleep(dark_time)\n",
    "mirrors.project(img2, power)\n",
    "time.sleep(stim_duration)\n",
    "mirrors.idle()\n",
    "time.sleep(dark_time)\n",
    "mirrors.project(img3, power)\n",
    "time.sleep(stim_duration)\n",
    "mirrors.idle()\n",
    "time.sleep(dark_time)\n",
    "\n",
    "\n",
    "\n",
    "\n",
    "# The path to the current acquisition folder is needed in order to save the sequence of projections.\n",
    "current_acquisition = r'\\OR83b_ppk72_DAN__1_1_20240415_145920' # <-- D:\\Data\\G1-2_72F11_ppk\\\n",
    "protocol_name = r\"/1_1\"\n",
    "images_folder = mirrors.xp_folder + current_acquisition \n",
    "\n",
    "\n",
    "# SAVE THE PROTOCOL\n",
    "filenames_camera_0 = r'\\SPC00_TM*_ANG000_CM0_CHN00_PH0.stack'\n",
    "all_volumes = sorted(glob(images_folder + filenames_camera_0))\n",
    "for num, volume in enumerate(all_volumes):\n",
    "    current = os.path.getctime(volume)\n",
    "    if current - start > 0:\n",
    "        break\n",
    "\n",
    "np.savez(images_folder + protocol_name,\\\n",
    "         TM=num, images=[\"1\", \"dark\", \"pun\", \"dark\",\n",
    "                         \"1pun\", \"dark\", \"2\", \"dark\", \"1pun\", \"dark\", \"2\", \"dark\", \"1pun\", \"dark\", \"2\", \"dark\", \"1pun\", \"dark\", \"2\", \"dark\", \"1pun\", \"dark\", \"2\", \"dark\",\n",
    "                         \"1pun\", \"dark\", \"2\", \"dark\", \"1pun\", \"dark\", \"2\", \"dark\", \"1pun\", \"dark\", \"2\", \"dark\", \"1pun\", \"dark\", \"2\", \"dark\", \"1pun\", \"dark\", \"2\", \"dark\",\n",
    "                         \"1\", \"dark\", \"pun\", \"dark\"\n",
    "                         ], \\\n",
    "                durations=[stim_duration, dark_time, stim_duration, dark_time, stim_duration, dark_time, \n",
    "                           stim_duration, dark_time, stim_duration, dark_time, stim_duration, dark_time, stim_duration, dark_time, stim_duration, dark_time, \n",
    "                           stim_duration, dark_time, stim_duration, dark_time, stim_duration, dark_time, stim_duration, dark_time, stim_duration, dark_time, \n",
    "                           stim_duration, dark_time, stim_duration, dark_time, stim_duration, dark_time, ]\n",
    "                ) # 26 mins"
   ]
  },
  {
   "cell_type": "code",
   "execution_count": null,
   "metadata": {},
   "outputs": [],
   "source": [
    "\n",
    "# The path to the current acquisition folder is needed in order to save the sequence of projections.\n",
    "current_acquisition = r'\\7_1_20240225_135629' # <-- D:\\Data\\G1-2_72F11_ppk\\\n",
    "protocol_name = r\"/7_1\"\n",
    "images_folder = mirrors.xp_folder + current_acquisition \n",
    "\n",
    "\n",
    "# SAVE THE PROTOCOL\n",
    "filenames_camera_0 = r'\\SPC00_TM*_ANG000_CM0_CHN00_PH0.stack'\n",
    "all_volumes = sorted(glob(images_folder + filenames_camera_0))\n",
    "for num, volume in enumerate(all_volumes):\n",
    "    current = os.path.getctime(volume)\n",
    "    if current - start > 0:\n",
    "        break\n",
    "\n",
    "np.savez(images_folder + protocol_name,\\\n",
    "         TM=num, images=[\"1\", \"dark\", \"pun\", \"dark\",\n",
    "                         \"1pun\", \"dark\", \"2\", \"dark\", \"1pun\", \"dark\", \"2\", \"dark\", \"1pun\", \"dark\", \"2\", \"dark\", \"1pun\", \"dark\", \"2\", \"dark\", \"1pun\", \"dark\", \"2\", \"dark\",\n",
    "                         \"1pun\", \"dark\", \"2\", \"dark\", \"1pun\", \"dark\", \"2\", \"dark\", \"1pun\", \"dark\", \"2\", \"dark\", \"1pun\", \"dark\", \"2\", \"dark\", \"1pun\", \"dark\", \"2\", \"dark\",\n",
    "                         \"1\", \"dark\", \"pun\", \"dark\"\n",
    "                         ], \\\n",
    "                durations=[stim_duration, dark_time, stim_duration, dark_time, stim_duration, dark_time, \n",
    "                           stim_duration, dark_time, stim_duration, dark_time, stim_duration, dark_time, stim_duration, dark_time, stim_duration, dark_time, \n",
    "                           stim_duration, dark_time, stim_duration, dark_time, stim_duration, dark_time, stim_duration, dark_time, stim_duration, dark_time, \n",
    "                           stim_duration, dark_time, stim_duration, dark_time, stim_duration, dark_time, ]\n",
    "                ) # 26 mins"
   ]
  },
  {
   "cell_type": "code",
   "execution_count": 7,
   "metadata": {},
   "outputs": [
    {
     "name": "stderr",
     "output_type": "stream",
     "text": [
      "C:\\Users\\Light Sheet User\\AppData\\Local\\Temp\\ipykernel_3236\\662420112.py:5: DeprecationWarning: Starting with ImageIO v3 the behavior of this function will switch to that of iio.v3.imread. To keep the current behavior (and make this warning disappear) use `import imageio.v2 as imageio` or call `imageio.v2.imread` directly.\n",
      "  img1 = imageio.imread(masks_path + '\\\\mask_1.png') # odour1\n",
      "C:\\Users\\Light Sheet User\\AppData\\Local\\Temp\\ipykernel_3236\\662420112.py:6: DeprecationWarning: Starting with ImageIO v3 the behavior of this function will switch to that of iio.v3.imread. To keep the current behavior (and make this warning disappear) use `import imageio.v2 as imageio` or call `imageio.v2.imread` directly.\n",
      "  img2 = imageio.imread(masks_path + '\\\\mask_2.png') # odour2\n",
      "C:\\Users\\Light Sheet User\\AppData\\Local\\Temp\\ipykernel_3236\\662420112.py:7: DeprecationWarning: Starting with ImageIO v3 the behavior of this function will switch to that of iio.v3.imread. To keep the current behavior (and make this warning disappear) use `import imageio.v2 as imageio` or call `imageio.v2.imread` directly.\n",
      "  img3 = imageio.imread(masks_path + '\\\\mask_2.png') # pain\n"
     ]
    },
    {
     "name": "stdout",
     "output_type": "stream",
     "text": [
      "DMD ON,  input voltage 1.500000 \n",
      "\n",
      "DMD ON,  input voltage 1.500000 \n",
      "\n",
      "DMD ON,  input voltage 1.500000 \n",
      "\n",
      "DMD ON,  input voltage 1.500000 \n",
      "\n",
      "DMD ON,  input voltage 1.500000 \n",
      "\n"
     ]
    }
   ],
   "source": [
    "#jsut test\n",
    "masks_path = r'D:\\Data\\G1-2_72F11_ppk\\excitation_patterns\\4_1' #D:\\Data\\G1-2_72F11_ppk\\\n",
    "\n",
    "\n",
    "img1 = imageio.imread(masks_path + '\\\\mask_1.png') # odour1\n",
    "img2 = imageio.imread(masks_path + '\\\\mask_2.png') # odour2\n",
    "img3 = imageio.imread(masks_path + '\\\\mask_2.png') # ! WRONG!!!!!\n",
    "tot = mirrors.sum_patterns([img1, img3]) # odour 1 + pain\n",
    "\n",
    "start = time.time()\n",
    "\n",
    "power = 1.5\n",
    "\n",
    "# just test\n",
    "mirrors.project(img1, power)\n",
    "time.sleep(10)\n",
    "mirrors.idle()\n",
    "time.sleep(50)\n",
    "mirrors.project(img2, power)\n",
    "time.sleep(10)\n",
    "mirrors.idle()\n",
    "time.sleep(50)\n",
    "mirrors.project(img1, power)\n",
    "time.sleep(10)\n",
    "mirrors.idle()\n",
    "time.sleep(50)\n",
    "mirrors.project(img2, power)\n",
    "time.sleep(10)\n",
    "mirrors.idle()\n",
    "time.sleep(50)\n",
    "mirrors.project(img3, power)\n",
    "time.sleep(10)\n",
    "mirrors.idle()\n",
    "time.sleep(50)\n",
    "\n",
    "\n",
    "\n",
    "\n",
    "# The path to the current acquisition folder is needed in order to save the sequence of projections.\n",
    "current_acquisition = r'\\4_2_20240224_120346' # <-- HD: D:\\Data\\G1-2_72F11_ppk\\3_3_20240223_170232\n",
    "protocol_name = r\"/4_2\"\n",
    "images_folder = mirrors.xp_folder + current_acquisition \n",
    "\n",
    "\n",
    "# SAVE THE PROTOCOL\n",
    "filenames_camera_0 = r'\\SPC00_TM*_ANG000_CM0_CHN00_PH0.stack'\n",
    "all_volumes = sorted(glob(images_folder + filenames_camera_0))\n",
    "for num, volume in enumerate(all_volumes):\n",
    "    current = os.path.getctime(volume)\n",
    "    if current - start > 0:\n",
    "        break\n",
    "\n",
    "np.savez(images_folder + protocol_name,\\\n",
    "         TM=num, images=[\"1\", \"dark\", \"2\", \"dark\",\n",
    "                         \"1pun\", \"dark\", \"2\", \"dark\", \n",
    "                         \"pun\", \"dark\"\n",
    "                         ], \\\n",
    "                durations=[10, 50, 10, 50, 10, 50,\n",
    "                           10, 50, 10, 50]\n",
    "                ) # 5 mins"
   ]
  },
  {
   "cell_type": "code",
   "execution_count": 7,
   "metadata": {},
   "outputs": [],
   "source": [
    "mirrors.idle()"
   ]
  },
  {
   "cell_type": "markdown",
   "metadata": {},
   "source": [
    "NEW TITRATION"
   ]
  },
  {
   "cell_type": "code",
   "execution_count": 8,
   "metadata": {},
   "outputs": [
    {
     "name": "stderr",
     "output_type": "stream",
     "text": [
      "C:\\Users\\Light Sheet User\\AppData\\Local\\Temp\\ipykernel_17868\\3097923787.py:4: DeprecationWarning: Starting with ImageIO v3 the behavior of this function will switch to that of iio.v3.imread. To keep the current behavior (and make this warning disappear) use `import imageio.v2 as imageio` or call `imageio.v2.imread` directly.\n",
      "  img1 = imageio.imread(masks_path + '\\\\mask_1.png')\n",
      "C:\\Users\\Light Sheet User\\AppData\\Local\\Temp\\ipykernel_17868\\3097923787.py:5: DeprecationWarning: Starting with ImageIO v3 the behavior of this function will switch to that of iio.v3.imread. To keep the current behavior (and make this warning disappear) use `import imageio.v2 as imageio` or call `imageio.v2.imread` directly.\n",
      "  img2 = imageio.imread(masks_path + '\\\\mask_2.png')\n"
     ]
    },
    {
     "name": "stdout",
     "output_type": "stream",
     "text": [
      "Powers: [2.] \n",
      "\n",
      "2.0\n",
      "DMD ON,  input voltage 2.000000 \n",
      "\n",
      "DMD OFF,  input voltage 0.000000 \n",
      "\n"
     ]
    },
    {
     "ename": "KeyboardInterrupt",
     "evalue": "",
     "output_type": "error",
     "traceback": [
      "\u001b[1;31m---------------------------------------------------------------------------\u001b[0m",
      "\u001b[1;31mKeyboardInterrupt\u001b[0m                         Traceback (most recent call last)",
      "Cell \u001b[1;32mIn[8], line 14\u001b[0m\n\u001b[0;32m     10\u001b[0m tot \u001b[38;5;241m=\u001b[39m mirrors\u001b[38;5;241m.\u001b[39msum_patterns([img1, img2])\n\u001b[0;32m     12\u001b[0m start \u001b[38;5;241m=\u001b[39m time\u001b[38;5;241m.\u001b[39mtime()\n\u001b[1;32m---> 14\u001b[0m \u001b[43mmirrors\u001b[49m\u001b[38;5;241;43m.\u001b[39;49m\u001b[43mpower_titration\u001b[49m\u001b[43m(\u001b[49m\u001b[43mtot\u001b[49m\u001b[43m,\u001b[49m\u001b[43m \u001b[49m\u001b[38;5;241;43m10\u001b[39;49m\u001b[43m,\u001b[49m\u001b[43m \u001b[49m\u001b[38;5;241;43m60\u001b[39;49m\u001b[43m,\u001b[49m\u001b[43m \u001b[49m\u001b[38;5;241;43m1\u001b[39;49m\u001b[43m,\u001b[49m\u001b[43m \u001b[49m\u001b[38;5;241;43m20\u001b[39;49m\u001b[43m,\u001b[49m\u001b[43m \u001b[49m\u001b[43m[\u001b[49m\u001b[38;5;241;43m2\u001b[39;49m\u001b[43m,\u001b[49m\u001b[43m \u001b[49m\u001b[38;5;241;43m2.1\u001b[39;49m\u001b[43m]\u001b[49m\u001b[43m)\u001b[49m\n\u001b[0;32m     15\u001b[0m \u001b[38;5;66;03m# mirrors.power_titration(img2, 10, 60, 1, 20, [1, 1.1])\u001b[39;00m\n\u001b[0;32m     16\u001b[0m \n\u001b[0;32m     17\u001b[0m \u001b[38;5;66;03m# The path to the current acquisition folder is needed in order to save the sequence of projections.\u001b[39;00m\n\u001b[0;32m     18\u001b[0m current_acquisition \u001b[38;5;241m=\u001b[39m \u001b[38;5;124mr\u001b[39m\u001b[38;5;124m'\u001b[39m\u001b[38;5;130;01m\\\\\u001b[39;00m\u001b[38;5;124mOR83b_KC__george_test__3_1_20240312_154205\u001b[39m\u001b[38;5;124m'\u001b[39m \u001b[38;5;66;03m# <-- HD: D:\\Data\\george_KC_OR_feb_20_2024\\KC_OR_Titration_1_20240220_144244\u001b[39;00m\n",
      "File \u001b[1;32mc:\\Users\\Light Sheet User\\Documents\\GitHub\\DMD\\dmd_with_power_control_single_task.py:267\u001b[0m, in \u001b[0;36mdmd.power_titration\u001b[1;34m(self, image, duration, black_duration, steps, repetitions, pow)\u001b[0m\n\u001b[0;32m    265\u001b[0m \u001b[38;5;28mself\u001b[39m\u001b[38;5;241m.\u001b[39mDMD\u001b[38;5;241m.\u001b[39mRun(loop\u001b[38;5;241m=\u001b[39m\u001b[38;5;28;01mTrue\u001b[39;00m)\n\u001b[0;32m    266\u001b[0m \u001b[38;5;28mself\u001b[39m\u001b[38;5;241m.\u001b[39mpower\u001b[38;5;241m.\u001b[39mconstant(\u001b[38;5;241m0\u001b[39m)\n\u001b[1;32m--> 267\u001b[0m \u001b[43mtime\u001b[49m\u001b[38;5;241;43m.\u001b[39;49m\u001b[43msleep\u001b[49m\u001b[43m(\u001b[49m\u001b[43mblack_duration\u001b[49m\u001b[43m)\u001b[49m\n",
      "\u001b[1;31mKeyboardInterrupt\u001b[0m: "
     ]
    }
   ],
   "source": [
    "masks_path = r'D:\\Data\\Or83b_KC_george_tests\\excitation_patterns\\3_1' # D:\\Data\\george_KC_OR_feb_19_2024\\KC_1_20240219_171538\n",
    "\n",
    "\n",
    "img1 = imageio.imread(masks_path + '\\\\mask_1.png')\n",
    "img2 = imageio.imread(masks_path + '\\\\mask_2.png')\n",
    "# img3 = imageio.imread(masks_path + '\\\\mask_3.png')\n",
    "# img4 = imageio.imread(masks_path + '\\\\mask_4.png')\n",
    "# img5 = imageio.imread(masks_path + '\\\\mask_5.png')\n",
    "# img6 = imageio.imread(masks_path + '\\\\mask_6.png')\n",
    "tot = mirrors.sum_patterns([img1, img2])\n",
    "\n",
    "start = time.time()\n",
    "\n",
    "mirrors.power_titration(tot, 10, 60, 1, 20, [2, 2.1])\n",
    "# mirrors.power_titration(img2, 10, 60, 1, 20, [1, 1.1])\n",
    "\n",
    "# The path to the current acquisition folder is needed in order to save the sequence of projections.\n",
    "current_acquisition = r'\\\\OR83b_KC__george_test__3_1_20240312_154205' # <-- HD: D:\\Data\\george_KC_OR_feb_20_2024\\KC_OR_Titration_1_20240220_144244\n",
    "protocol_name = r\"/3_1\"\n",
    "images_folder = mirrors.xp_folder + current_acquisition \n",
    "\n",
    "\n",
    "# SAVE THE PROTOCOL\n",
    "filenames_camera_0 = r'\\SPC00_TM*_ANG000_CM0_CHN00_PH0.stack'\n",
    "all_volumes = sorted(glob(images_folder + filenames_camera_0))\n",
    "for num, volume in enumerate(all_volumes):\n",
    "    current = os.path.getctime(volume)\n",
    "    if current - start > 0:\n",
    "        break\n",
    "\n",
    "\n",
    "np.savez(images_folder + protocol_name,\\\n",
    "         TM=num, \n",
    "         images=[\"1\", \"dark\",  \"1\", \"dark\",  \"1\", \"dark\", \"1\", \"dark\",  \"1\", \"dark\", \n",
    "                 \"1\", \"dark\",  \"1\", \"dark\",  \"1\", \"dark\", \"1\", \"dark\",  \"1\", \"dark\", \n",
    "                 \"1\", \"dark\",  \"1\", \"dark\",  \"1\", \"dark\", \"1\", \"dark\",  \"1\", \"dark\", \n",
    "                 \"1\", \"dark\",  \"1\", \"dark\",  \"1\", \"dark\", \"1\", \"dark\",  \"1\", \"dark\", \n",
    "                         ], \\\n",
    "                durations=[10, 60, 10, 60, 10, 60, 10, 60, 10, 60,\n",
    "                           10, 60, 10, 60, 10, 60, 10, 60, 10, 60,\n",
    "                           10, 60, 10, 60, 10, 60, 10, 60, 10, 60,\n",
    "                           10, 60, 10, 60, 10, 60, 10, 60, 10, 60])\n",
    "\n",
    "# np.savez(images_folder + protocol_name,\\\n",
    "#          TM=num, images=[\"1\", \"dark\",  \"1\", \"dark\",  \"1\", \"dark\", \n",
    "#                          \"1\", \"dark\",  \"1\", \"dark\",  \"1\", \"dark\", \n",
    "#                          \"1\", \"dark\",  \"1\", \"dark\",  \"1\", \"dark\", \n",
    "#                          \"2\", \"dark\",  \"2\", \"dark\",  \"2\", \"dark\", \n",
    "#                          \"2\", \"dark\",  \"2\", \"dark\",  \"2\", \"dark\", \n",
    "#                          \"2\", \"dark\",  \"2\", \"dark\",  \"2\", \"dark\", \n",
    "#                          \"3\", \"dark\",  \"3\", \"dark\",  \"3\", \"dark\", \n",
    "#                          \"3\", \"dark\",  \"3\", \"dark\",  \"3\", \"dark\", \n",
    "#                          \"3\", \"dark\",  \"3\", \"dark\",  \"3\", \"dark\", \n",
    "#                          \"4\", \"dark\",  \"4\", \"dark\",  \"4\", \"dark\", \n",
    "#                          \"4\", \"dark\",  \"4\", \"dark\",  \"4\", \"dark\", \n",
    "#                          \"4\", \"dark\",  \"4\", \"dark\",  \"4\", \"dark\", \n",
    "                         \n",
    "#                          ], \\\n",
    "#                          durations=[10, 60, 10, 60, 10, 60, \n",
    "#                                     10, 60, 10, 60, 10, 60, \n",
    "#                                     10, 60, 10, 60, 10, 60, \n",
    "#                                     10, 60, 10, 60, 10, 60, \n",
    "#                                     10, 60, 10, 60, 10, 60, \n",
    "#                                     10, 60, 10, 60, 10, 60, \n",
    "#                                     10, 60, 10, 60, 10, 60, \n",
    "#                                     10, 60, 10, 60, 10, 60, \n",
    "#                                     10, 60, 10, 60, 10, 60])"
   ]
  },
  {
   "cell_type": "code",
   "execution_count": 7,
   "metadata": {},
   "outputs": [],
   "source": [
    "mirrors.idle()"
   ]
  },
  {
   "cell_type": "code",
   "execution_count": 12,
   "metadata": {},
   "outputs": [],
   "source": [
    "mirrors.idle()"
   ]
  },
  {
   "cell_type": "code",
   "execution_count": 12,
   "metadata": {},
   "outputs": [],
   "source": [
    "# SAVE THE PROTOCOL\n",
    "filenames_camera_0 = r'\\SPC00_TM*_ANG000_CM0_CHN00_PH0.stack'\n",
    "all_volumes = sorted(glob(images_folder + filenames_camera_0))\n",
    "for num, volume in enumerate(all_volumes):\n",
    "    current = os.path.getctime(volume)\n",
    "    if current - start > 0:\n",
    "        break\n",
    "\n",
    "\n",
    "np.savez(images_folder + protocol_name,\\\n",
    "         TM=num, images=[\"1\", \"dark\",  \"1\", \"dark\",  \"1\", \"dark\", \n",
    "                         \"1\", \"dark\",  \"1\", \"dark\", \n",
    "                         \"2\", \"dark\",  \"2\", \"dark\",  \"2\", \"dark\", \n",
    "                         \"2\", \"dark\",  \"2\", \"dark\"\n",
    "                         \n",
    "                         ], \\\n",
    "                         durations=[10, 60, 10, 60, 10, 60, \n",
    "                                    10, 60, 10, 60,\n",
    "                                    10, 60, 10, 60, 10, 60, \n",
    "                                    10, 60, 10, 60])"
   ]
  },
  {
   "cell_type": "code",
   "execution_count": 17,
   "metadata": {},
   "outputs": [
    {
     "data": {
      "text/plain": [
       "array([0.02])"
      ]
     },
     "execution_count": 17,
     "metadata": {},
     "output_type": "execute_result"
    }
   ],
   "source": [
    "np.linspace(.02, .02, 1)"
   ]
  },
  {
   "cell_type": "code",
   "execution_count": 8,
   "metadata": {},
   "outputs": [],
   "source": [
    "np.savez(images_folder + protocol_name,\\\n",
    "         TM=num, images=[\"OR1\", \"dark\",  \"OR1\", \"dark\",  \"OR1\", \"dark\",  \"OR1\", \"dark\",  \"OR1\", \"dark\",  \n",
    "                         \"OR2\", \"dark\", \"OR2\", \"dark\", \"OR2\", \"dark\", \"OR2\", \"dark\", \"OR2\", \"dark\",], \\\n",
    "                         durations=[30, 10, 30, 10, 30, 10, 30, 10, 30, 10, \\\n",
    "                                    30, 10, 30, 10, 30, 10, 30, 10, 30, 10])"
   ]
  },
  {
   "cell_type": "code",
   "execution_count": 5,
   "metadata": {},
   "outputs": [
    {
     "name": "stderr",
     "output_type": "stream",
     "text": [
      "C:\\Users\\Light Sheet User\\AppData\\Local\\Temp\\ipykernel_3572\\1460730158.py:4: DeprecationWarning: Starting with ImageIO v3 the behavior of this function will switch to that of iio.v3.imread. To keep the current behavior (and make this warning disappear) use `import imageio.v2 as imageio` or call `imageio.v2.imread` directly.\n",
      "  img1 = imageio.imread(masks_path + '\\\\mask_1.png')\n",
      "C:\\Users\\Light Sheet User\\AppData\\Local\\Temp\\ipykernel_3572\\1460730158.py:5: DeprecationWarning: Starting with ImageIO v3 the behavior of this function will switch to that of iio.v3.imread. To keep the current behavior (and make this warning disappear) use `import imageio.v2 as imageio` or call `imageio.v2.imread` directly.\n",
      "  img2 = imageio.imread(masks_path + '\\\\mask_2.png')\n"
     ]
    },
    {
     "name": "stdout",
     "output_type": "stream",
     "text": [
      "dmdpowerON\n"
     ]
    },
    {
     "name": "stderr",
     "output_type": "stream",
     "text": [
      "c:\\Users\\Light Sheet User\\anaconda3\\envs\\LS_2\\lib\\site-packages\\nidaqmx\\_library_interpreter.py:6034: DaqWarning: \n",
      "Warning 200015 occurred.\n",
      "\n",
      "While writing to the buffer during a regeneration, the actual data generated might have alternated between old data and new data. That is, while the driver was replacing the old pattern in the buffer with the new pattern, the device might have generated a portion of new data, then a portion of old data, and then a portion of new data again.\n",
      "\n",
      "Reduce the sample rate, use a larger buffer, or refer to documentation about DAQmx Write for information about other ways to avoid this warning.\n",
      "  warnings.warn(DaqWarning(error_string, error_code))\n"
     ]
    },
    {
     "ename": "DaqError",
     "evalue": "Specified operation cannot be performed while the task is running.\nTask Name: power\n\nStatus Code: -200479",
     "output_type": "error",
     "traceback": [
      "\u001b[1;31m---------------------------------------------------------------------------\u001b[0m",
      "\u001b[1;31mDaqError\u001b[0m                                  Traceback (most recent call last)",
      "Cell \u001b[1;32mIn[5], line 8\u001b[0m\n\u001b[0;32m      5\u001b[0m img2 \u001b[38;5;241m=\u001b[39m imageio\u001b[38;5;241m.\u001b[39mimread(masks_path \u001b[38;5;241m+\u001b[39m \u001b[38;5;124m'\u001b[39m\u001b[38;5;130;01m\\\\\u001b[39;00m\u001b[38;5;124mmask_2.png\u001b[39m\u001b[38;5;124m'\u001b[39m)\n\u001b[0;32m      7\u001b[0m tot \u001b[38;5;241m=\u001b[39m mirrors\u001b[38;5;241m.\u001b[39msum_patterns([img1, img2])\n\u001b[1;32m----> 8\u001b[0m \u001b[43mmirrors\u001b[49m\u001b[38;5;241;43m.\u001b[39;49m\u001b[43mproject_square_power\u001b[49m\u001b[43m(\u001b[49m\u001b[43mtot\u001b[49m\u001b[43m,\u001b[49m\u001b[43m \u001b[49m\u001b[38;5;241;43m10\u001b[39;49m\u001b[43m,\u001b[49m\u001b[43m \u001b[49m\u001b[38;5;241;43m0.05\u001b[39;49m\u001b[43m,\u001b[49m\u001b[43m \u001b[49m\u001b[38;5;241;43m0\u001b[39;49m\u001b[43m)\u001b[49m\n\u001b[0;32m      9\u001b[0m start \u001b[38;5;241m=\u001b[39m time\u001b[38;5;241m.\u001b[39mtime()\n\u001b[0;32m     11\u001b[0m \u001b[38;5;66;03m# The path to the current acquisition folder is needed in order to save the sequence of projections.\u001b[39;00m\n",
      "File \u001b[1;32mc:\\Users\\Light Sheet User\\Documents\\GitHub\\DMD\\dmd_with_power_control.py:151\u001b[0m, in \u001b[0;36mdmd.project_square_power\u001b[1;34m(self, pattern, frequency, V_max, V_min)\u001b[0m\n\u001b[0;32m    149\u001b[0m \u001b[38;5;28mself\u001b[39m\u001b[38;5;241m.\u001b[39mDMD\u001b[38;5;241m.\u001b[39mRun(loop\u001b[38;5;241m=\u001b[39m\u001b[38;5;28;01mTrue\u001b[39;00m)\n\u001b[0;32m    150\u001b[0m \u001b[38;5;28mself\u001b[39m\u001b[38;5;241m.\u001b[39mpower\u001b[38;5;241m.\u001b[39mdigital(\u001b[38;5;124m\"\u001b[39m\u001b[38;5;124mon\u001b[39m\u001b[38;5;124m\"\u001b[39m)\n\u001b[1;32m--> 151\u001b[0m \u001b[38;5;28;43mself\u001b[39;49m\u001b[38;5;241;43m.\u001b[39;49m\u001b[43mpower\u001b[49m\u001b[38;5;241;43m.\u001b[39;49m\u001b[43msquare\u001b[49m\u001b[43m(\u001b[49m\u001b[43mfrequency\u001b[49m\u001b[43m,\u001b[49m\u001b[43m \u001b[49m\u001b[43mV_max\u001b[49m\u001b[43m,\u001b[49m\u001b[43m \u001b[49m\u001b[43mV_min\u001b[49m\u001b[43m)\u001b[49m\n",
      "File \u001b[1;32mc:\\Users\\Light Sheet User\\Documents\\GitHub\\DMD\\laser_control_nidaqmx.py:73\u001b[0m, in \u001b[0;36manalogOut.square\u001b[1;34m(self, frequency, V_max, V_min, num_samples)\u001b[0m\n\u001b[0;32m     69\u001b[0m \u001b[38;5;28mself\u001b[39m\u001b[38;5;241m.\u001b[39mpower\u001b[38;5;241m.\u001b[39mtiming\u001b[38;5;241m.\u001b[39mcfg_samp_clk_timing(num_samples,\\\n\u001b[0;32m     70\u001b[0m             sample_mode\u001b[38;5;241m=\u001b[39mnidaqmx\u001b[38;5;241m.\u001b[39mconstants\u001b[38;5;241m.\u001b[39mAcquisitionType\u001b[38;5;241m.\u001b[39mCONTINUOUS,\n\u001b[0;32m     71\u001b[0m             samps_per_chan\u001b[38;5;241m=\u001b[39m num_samples)\n\u001b[0;32m     72\u001b[0m \u001b[38;5;28mself\u001b[39m\u001b[38;5;241m.\u001b[39mpower\u001b[38;5;241m.\u001b[39mwrite(\u001b[38;5;28mself\u001b[39m\u001b[38;5;241m.\u001b[39msignal)\n\u001b[1;32m---> 73\u001b[0m \u001b[38;5;28;43mself\u001b[39;49m\u001b[38;5;241;43m.\u001b[39;49m\u001b[43mpower\u001b[49m\u001b[38;5;241;43m.\u001b[39;49m\u001b[43mcontrol\u001b[49m\u001b[43m(\u001b[49m\u001b[43mnidaqmx\u001b[49m\u001b[38;5;241;43m.\u001b[39;49m\u001b[43mconstants\u001b[49m\u001b[38;5;241;43m.\u001b[39;49m\u001b[43mTaskMode\u001b[49m\u001b[38;5;241;43m.\u001b[39;49m\u001b[43mTASK_COMMIT\u001b[49m\u001b[43m)\u001b[49m\n\u001b[0;32m     74\u001b[0m \u001b[38;5;28mself\u001b[39m\u001b[38;5;241m.\u001b[39mdigital(\u001b[38;5;124m\"\u001b[39m\u001b[38;5;124mon\u001b[39m\u001b[38;5;124m\"\u001b[39m)\n\u001b[0;32m     75\u001b[0m \u001b[38;5;28mself\u001b[39m\u001b[38;5;241m.\u001b[39mpower\u001b[38;5;241m.\u001b[39mstart()\n",
      "File \u001b[1;32mc:\\Users\\Light Sheet User\\anaconda3\\envs\\LS_2\\lib\\site-packages\\nidaqmx\\task.py:388\u001b[0m, in \u001b[0;36mTask.control\u001b[1;34m(self, action)\u001b[0m\n\u001b[0;32m    380\u001b[0m \u001b[38;5;28;01mdef\u001b[39;00m \u001b[38;5;21mcontrol\u001b[39m(\u001b[38;5;28mself\u001b[39m, action):\n\u001b[0;32m    381\u001b[0m \u001b[38;5;250m    \u001b[39m\u001b[38;5;124;03m\"\"\"\u001b[39;00m\n\u001b[0;32m    382\u001b[0m \u001b[38;5;124;03m    Alters the state of a task according to the action you specify.\u001b[39;00m\n\u001b[0;32m    383\u001b[0m \n\u001b[1;32m   (...)\u001b[0m\n\u001b[0;32m    386\u001b[0m \u001b[38;5;124;03m            the task state.\u001b[39;00m\n\u001b[0;32m    387\u001b[0m \u001b[38;5;124;03m    \"\"\"\u001b[39;00m\n\u001b[1;32m--> 388\u001b[0m     \u001b[38;5;28;43mself\u001b[39;49m\u001b[38;5;241;43m.\u001b[39;49m\u001b[43m_interpreter\u001b[49m\u001b[38;5;241;43m.\u001b[39;49m\u001b[43mtask_control\u001b[49m\u001b[43m(\u001b[49m\u001b[38;5;28;43mself\u001b[39;49m\u001b[38;5;241;43m.\u001b[39;49m\u001b[43m_handle\u001b[49m\u001b[43m,\u001b[49m\u001b[43m \u001b[49m\u001b[43maction\u001b[49m\u001b[38;5;241;43m.\u001b[39;49m\u001b[43mvalue\u001b[49m\u001b[43m)\u001b[49m\n",
      "File \u001b[1;32mc:\\Users\\Light Sheet User\\anaconda3\\envs\\LS_2\\lib\\site-packages\\nidaqmx\\_library_interpreter.py:5427\u001b[0m, in \u001b[0;36mLibraryInterpreter.task_control\u001b[1;34m(self, task, action)\u001b[0m\n\u001b[0;32m   5422\u001b[0m             cfunc\u001b[38;5;241m.\u001b[39margtypes \u001b[38;5;241m=\u001b[39m [\n\u001b[0;32m   5423\u001b[0m                 lib_importer\u001b[38;5;241m.\u001b[39mtask_handle, ctypes\u001b[38;5;241m.\u001b[39mc_int]\n\u001b[0;32m   5425\u001b[0m error_code \u001b[38;5;241m=\u001b[39m cfunc(\n\u001b[0;32m   5426\u001b[0m     task, action)\n\u001b[1;32m-> 5427\u001b[0m \u001b[38;5;28;43mself\u001b[39;49m\u001b[38;5;241;43m.\u001b[39;49m\u001b[43mcheck_for_error\u001b[49m\u001b[43m(\u001b[49m\u001b[43merror_code\u001b[49m\u001b[43m)\u001b[49m\n",
      "File \u001b[1;32mc:\\Users\\Light Sheet User\\anaconda3\\envs\\LS_2\\lib\\site-packages\\nidaqmx\\_library_interpreter.py:6029\u001b[0m, in \u001b[0;36mLibraryInterpreter.check_for_error\u001b[1;34m(self, error_code, samps_per_chan_written, samps_per_chan_read)\u001b[0m\n\u001b[0;32m   6027\u001b[0m         \u001b[38;5;28;01mraise\u001b[39;00m DaqWriteError(extended_error_info, error_code, samps_per_chan_written)\n\u001b[0;32m   6028\u001b[0m     \u001b[38;5;28;01melse\u001b[39;00m:\n\u001b[1;32m-> 6029\u001b[0m         \u001b[38;5;28;01mraise\u001b[39;00m DaqError(extended_error_info, error_code)\n\u001b[0;32m   6031\u001b[0m \u001b[38;5;28;01melif\u001b[39;00m error_code \u001b[38;5;241m>\u001b[39m \u001b[38;5;241m0\u001b[39m:\n\u001b[0;32m   6032\u001b[0m     error_string \u001b[38;5;241m=\u001b[39m \u001b[38;5;28mself\u001b[39m\u001b[38;5;241m.\u001b[39mget_error_string(error_code)\n",
      "\u001b[1;31mDaqError\u001b[0m: Specified operation cannot be performed while the task is running.\nTask Name: power\n\nStatus Code: -200479"
     ]
    }
   ],
   "source": [
    "masks_path = \"D:\\\\Data\\\\KC_titration_2\\\\excitation_patterns\\\\2_1\"\n",
    "\n",
    "\n",
    "img1 = imageio.imread(masks_path + '\\\\mask_1.png')\n",
    "img2 = imageio.imread(masks_path + '\\\\mask_2.png')\n",
    "\n",
    "tot = mirrors.sum_patterns([img1, img2])\n",
    "mirrors.project_square_power(tot, 10, 0.05, 0)\n",
    "start = time.time()\n",
    "\n",
    "# The path to the current acquisition folder is needed in order to save the sequence of projections.\n",
    "current_acquisition = r'\\2_9_20240210_141832' # <-- HERE D:\\Data\\KC_titration_2\\D:\\Data\\KC_titration_2\\\n",
    "protocol_name = r\"/2_9\"\n",
    "images_folder = mirrors.xp_folder + current_acquisition \n",
    "\n",
    "# SAVE THE PROTOCOL\n",
    "filenames_camera_0 = r'\\SPC00_TM*_ANG000_CM0_CHN00_PH0.stack'\n",
    "all_volumes = sorted(glob(images_folder + filenames_camera_0))\n",
    "for num, volume in enumerate(all_volumes):\n",
    "    current = os.path.getctime(volume)\n",
    "    if current - start > 0:\n",
    "        break\n",
    "\n",
    "np.savez(images_folder + protocol_name,\\\n",
    "         TM=num, Hz=10)"
   ]
  },
  {
   "cell_type": "code",
   "execution_count": 6,
   "metadata": {},
   "outputs": [],
   "source": [
    "mirrors.idle()"
   ]
  },
  {
   "cell_type": "markdown",
   "metadata": {},
   "source": []
  },
  {
   "cell_type": "markdown",
   "metadata": {},
   "source": [
    "##### SUM protocol"
   ]
  },
  {
   "cell_type": "code",
   "execution_count": 11,
   "metadata": {},
   "outputs": [
    {
     "name": "stderr",
     "output_type": "stream",
     "text": [
      "C:\\Users\\Light Sheet User\\AppData\\Local\\Temp\\ipykernel_22100\\3663936598.py:6: DeprecationWarning: Starting with ImageIO v3 the behavior of this function will switch to that of iio.v3.imread. To keep the current behavior (and make this warning disappear) use `import imageio.v2 as imageio` or call `imageio.v2.imread` directly.\n",
      "  img1 = imageio.imread(mirrors.save_dir + '\\\\mask_1.png')\n",
      "C:\\Users\\Light Sheet User\\AppData\\Local\\Temp\\ipykernel_22100\\3663936598.py:7: DeprecationWarning: Starting with ImageIO v3 the behavior of this function will switch to that of iio.v3.imread. To keep the current behavior (and make this warning disappear) use `import imageio.v2 as imageio` or call `imageio.v2.imread` directly.\n",
      "  img2 = imageio.imread(mirrors.save_dir + '\\\\mask_2.png')\n",
      "C:\\Users\\Light Sheet User\\AppData\\Local\\Temp\\ipykernel_22100\\3663936598.py:8: DeprecationWarning: Starting with ImageIO v3 the behavior of this function will switch to that of iio.v3.imread. To keep the current behavior (and make this warning disappear) use `import imageio.v2 as imageio` or call `imageio.v2.imread` directly.\n",
      "  img3 = imageio.imread(mirrors.save_dir + '\\\\mask_3.png')\n"
     ]
    }
   ],
   "source": [
    "# The path to the current acquisition folder is needed in order to save the sequence of projections.\n",
    "current_acquisition = r'/9_2_20231027_160538' # <-- HERE: D:\\Data\\ramp\\\n",
    "protocol_name = r\"/9_1\"\n",
    "images_folder = mirrors.xp_folder + current_acquisition \n",
    "\n",
    "img1 = imageio.imread(mirrors.save_dir + '\\\\mask_1.png')\n",
    "img2 = imageio.imread(mirrors.save_dir + '\\\\mask_2.png')\n",
    "img3 = imageio.imread(mirrors.save_dir + '\\\\mask_3.png')\n",
    "\n",
    "img12 = mirrors.sum_patterns([img1, img2]) # the sum\n",
    "img13 = mirrors.sum_patterns([img1, img3])\n",
    "img23 = mirrors.sum_patterns([img2, img3])\n",
    "img123 = mirrors.sum_patterns([img1, img2, img3])\n",
    "\n",
    "img_seq = [img1, mirrors.dark, img3, mirrors.dark, img2, mirrors.dark,\n",
    "           img1, mirrors.dark, img3, mirrors.dark, img2, mirrors.dark,\n",
    "           img1, mirrors.dark, img3, mirrors.dark, img2, mirrors.dark,\n",
    "           img1, img12, img123, img23, img3, mirrors.dark,\n",
    "           img1, img12, img123, img23, img3, mirrors.dark,\n",
    "           img1, mirrors.dark, img3, mirrors.dark, img2, mirrors.dark,\n",
    "           img1, mirrors.dark, img3, mirrors.dark, img2, mirrors.dark,\n",
    "           img1, mirrors.dark, img3, mirrors.dark, img2, mirrors.dark\n",
    "           ]\n",
    "img_seq_names = ['1', 'd', '3', 'd', '2', 'd',\n",
    "                 '1', 'd', '3', 'd','2', 'd',\n",
    "                 '1', 'd', '3', 'd','2', 'd',\n",
    "                 '1', '12', '123', '23', '3', 'd',\n",
    "                 '1', '12', '123', '23', '3', 'd',\n",
    "                 '1', 'd', '3', 'd','2', 'd',\n",
    "                 '1', 'd', '3', 'd','2', 'd',\n",
    "                 '1', 'd', '3', 'd','2', 'd'\n",
    "                ]\n",
    "img_times = [10, 30, 10, 30, 10, 30,\n",
    "             10, 30, 10, 30,10, 30,\n",
    "             10, 30, 10, 30,10, 30,\n",
    "             10, 10, 10, 10, 10, 60,\n",
    "             10, 10, 10, 10, 10, 60,\n",
    "             10, 30, 10, 30,10, 30,\n",
    "             10, 30, 10, 30,10, 30,\n",
    "             10, 30, 10, 30, 10, 30\n",
    "             ]\n",
    "\n",
    "reps = 1 # whole sequence repetition\n",
    "start = time.time()\n",
    "mirrors.sequence_of_single_images(img_seq, img_times, reps)\n",
    "mirrors.idle()\n",
    "\n",
    "# SAVE THE PROTOCOL\n",
    "filenames_camera_0 = r'\\SPC00_TM*_ANG000_CM0_CHN00_PH0.stack'\n",
    "all_volumes = sorted(glob(images_folder + filenames_camera_0))\n",
    "for num, volume in enumerate(all_volumes):\n",
    "    current = os.path.getctime(volume)\n",
    "    if current - start > 0:\n",
    "        break\n",
    "\n",
    "np.savez(images_folder + protocol_name,\n",
    "         TM=num, images=img_seq_names, durations=img_times)"
   ]
  },
  {
   "cell_type": "code",
   "execution_count": 15,
   "metadata": {},
   "outputs": [],
   "source": [
    "mirrors.idle()"
   ]
  },
  {
   "cell_type": "code",
   "execution_count": 13,
   "metadata": {},
   "outputs": [
    {
     "name": "stderr",
     "output_type": "stream",
     "text": [
      "C:\\Users\\Light Sheet User\\AppData\\Local\\Temp\\ipykernel_21064\\613735808.py:6: DeprecationWarning: Starting with ImageIO v3 the behavior of this function will switch to that of iio.v3.imread. To keep the current behavior (and make this warning disappear) use `import imageio.v2 as imageio` or call `imageio.v2.imread` directly.\n",
      "  img1 = imageio.imread(mirrors.save_dir + '\\\\mask_1.png')\n"
     ]
    }
   ],
   "source": [
    "# The path to the current acquisition folder is needed in order to save the sequence of projections.\n",
    "current_acquisition = r'/test_filter_1_b__20231113_143548' # <-- HERE D:\\Data\\learning\\\n",
    "protocol_name = r\"/tst_filter_1_b\"\n",
    "images_folder = mirrors.xp_folder + current_acquisition\n",
    "\n",
    "img1 = imageio.imread(mirrors.save_dir + '\\\\mask_1.png')\n",
    "\n",
    "img_seq = [img1, mirrors.dark\n",
    "           ]\n",
    "img_seq_names = ['1', 'd'\n",
    "                ]\n",
    "img_times = [20, 20\n",
    "             ]\n",
    "\n",
    "reps = 5 # whole sequence repetition\n",
    "start = time.time()\n",
    "mirrors.sequence_of_single_images(img_seq, img_times, reps)\n",
    "mirrors.idle()\n",
    "\n",
    "# SAVE THE PROTOCOL\n",
    "filenames_camera_0 = r'\\SPC00_TM*_ANG000_CM0_CHN00_PH0.stack'\n",
    "all_volumes = sorted(glob(images_folder + filenames_camera_0))\n",
    "for num, volume in enumerate(all_volumes):\n",
    "    current = os.path.getctime(volume)\n",
    "    if current - start > 0:\n",
    "        break\n",
    "\n",
    "np.savez(images_folder + protocol_name,\n",
    "         TM=num, images=img_seq_names, durations=img_times)"
   ]
  },
  {
   "cell_type": "code",
   "execution_count": 12,
   "metadata": {},
   "outputs": [],
   "source": [
    "mirrors.project(img1)"
   ]
  },
  {
   "cell_type": "code",
   "execution_count": 22,
   "metadata": {},
   "outputs": [],
   "source": [
    "mirrors.idle()"
   ]
  },
  {
   "cell_type": "code",
   "execution_count": 10,
   "metadata": {},
   "outputs": [
    {
     "name": "stdout",
     "output_type": "stream",
     "text": [
      "\n",
      "DMD halted.\n",
      "DMD closed.\n",
      "\n"
     ]
    }
   ],
   "source": [
    "mirrors.close()"
   ]
  },
  {
   "cell_type": "markdown",
   "metadata": {},
   "source": [
    "#### Andre protocol"
   ]
  },
  {
   "cell_type": "code",
   "execution_count": 23,
   "metadata": {},
   "outputs": [
    {
     "name": "stderr",
     "output_type": "stream",
     "text": [
      "C:\\Users\\Light Sheet User\\AppData\\Local\\Temp\\ipykernel_3744\\1653027485.py:6: DeprecationWarning: Starting with ImageIO v3 the behavior of this function will switch to that of iio.v3.imread. To keep the current behavior (and make this warning disappear) use `import imageio.v2 as imageio` or call `imageio.v2.imread` directly.\n",
      "  img1 = imageio.imread(mirrors.save_dir + '\\\\mask_1.png')\n",
      "C:\\Users\\Light Sheet User\\AppData\\Local\\Temp\\ipykernel_3744\\1653027485.py:7: DeprecationWarning: Starting with ImageIO v3 the behavior of this function will switch to that of iio.v3.imread. To keep the current behavior (and make this warning disappear) use `import imageio.v2 as imageio` or call `imageio.v2.imread` directly.\n",
      "  img2 = imageio.imread(mirrors.save_dir + '\\\\mask_2.png')\n"
     ]
    }
   ],
   "source": [
    "# The path to the current acquisition folder is needed in order to save the sequence of projections.\n",
    "current_acquisition = r'\\5_2_20230926_165438' # <-- HERED:\\Data\\Or83b_KC__rGeeco_ChronomVenus\\5_2_20230926_165438\n",
    "protocol_name = r\"/5_2\"\n",
    "images_folder = mirrors.xp_folder + current_acquisition \n",
    "\n",
    "img1 = imageio.imread(mirrors.save_dir + '\\\\mask_1.png')\n",
    "img2 = imageio.imread(mirrors.save_dir + '\\\\mask_2.png')\n",
    "\n",
    "\n",
    "img_seq = [img1, img2, img1, img2, img1, img2, mirrors.dark,\n",
    "           img1, mirrors.dark, img1, mirrors.dark, img1, mirrors.dark, img1, mirrors.dark, img1, mirrors.dark,\n",
    "           img1,  mirrors.dark, img1,mirrors.dark, img1,mirrors.dark, img1,mirrors.dark,  img1, mirrors.dark,\n",
    "            img1, img2, img1, img2, img1, img2, mirrors.dark ]\n",
    "img_seq_names = ['1','2', '1','2', '1','2', 'dark',\n",
    "                 '1', 'dark','1', 'dark','1', 'dark','1', 'dark','1', 'dark',\n",
    "                 '1', 'dark','1', 'dark','1', 'dark','1', 'dark','1', 'dark',\n",
    "                 '1','2', '1','2', '1','2', 'dark'\n",
    "                 ]\n",
    "img_times = [30, 30, 30, 30, 30, 30, 60,\n",
    "             30, 10,30, 10,30, 10,30, 10,30, 10,30, 10,30, 10,30, 10,30, 10,30, 10,\n",
    "             30, 30, 30, 30, 30, 30, 60,]\n",
    "\n",
    "reps = 1 # whole sequence repetition\n",
    "start = time.time()\n",
    "mirrors.sequence_of_single_images(img_seq, img_times, reps)\n",
    "mirrors.idle()\n",
    "\n",
    "# SAVE THE PROTOCOL\n",
    "filenames_camera_0 = r'\\SPC00_TM*_ANG000_CM0_CHN00_PH0.stack'\n",
    "all_volumes = sorted(glob(images_folder + filenames_camera_0))\n",
    "for num, volume in enumerate(all_volumes):\n",
    "    current = os.path.getctime(volume)\n",
    "    if current - start > 0:\n",
    "        break\n",
    "np.savez(images_folder + protocol_name,\n",
    "         TM=num, images=img_seq_names, durations=img_times)"
   ]
  },
  {
   "cell_type": "markdown",
   "metadata": {},
   "source": [
    "#### Andre protocol (OLD)"
   ]
  },
  {
   "cell_type": "code",
   "execution_count": null,
   "metadata": {},
   "outputs": [],
   "source": [
    "# The path to the current acquisition folder is needed in order to save the sequence of projections.\n",
    "current_acquisition = r'\\5_1_20231215_115231' # <-- HERED:\\Data\\Or83b_KC__rGeeco_ChronomVenus\\5_2_20230926_165438\n",
    "protocol_name = r\"/5_1\"\n",
    "images_folder = mirrors.xp_folder + current_acquisition \n",
    "\n",
    "img1 = imageio.imread(mirrors.save_dir + '\\\\mask_1.png')\n",
    "img2 = imageio.imread(mirrors.save_dir + '\\\\mask_2.png')\n",
    "\n",
    "\n",
    "img_seq = [img1, mirrors.dark, img2,mirrors.dark, img1,mirrors.dark,\n",
    "            img2, mirrors.dark, img1,mirrors.dark, img2, mirrors.dark, # test\n",
    "\n",
    "           img1, mirrors.dark, img1, mirrors.dark, img1, mirrors.dark, img1, mirrors.dark, img1, mirrors.dark,\n",
    "           img1,  mirrors.dark, img1,mirrors.dark, img1,mirrors.dark, img1,mirrors.dark,  img1, mirrors.dark,\n",
    "           img1,  mirrors.dark, img1,mirrors.dark, img1,mirrors.dark, img1,mirrors.dark,  img1, mirrors.dark,\n",
    "           img1,  mirrors.dark, img1,mirrors.dark, \n",
    "           \n",
    "            img1, mirrors.dark, img2,mirrors.dark, img1,mirrors.dark,\n",
    "            img2, mirrors.dark, img1,mirrors.dark, img2, mirrors.dark] #test again\n",
    "\n",
    "img_seq_names = ['1', 'dark','2', 'dark', '1', 'dark','2', 'dark', '1', 'dark','2', 'dark',\n",
    "                 '1', 'dark','1', 'dark','1', 'dark','1', 'dark','1', 'dark',\n",
    "                 '1', 'dark','1', 'dark','1', 'dark','1', 'dark','1', 'dark',\n",
    "                  '1', 'dark','1', 'dark','1', 'dark','1', 'dark','1', 'dark',\n",
    "                   '1', 'dark','1', 'dark',\n",
    "                 '1', 'dark','2', 'dark', '1', 'dark','2', 'dark', '1', 'dark','2', 'dark'\n",
    "                 ]\n",
    "img_times = [10, 20, 10, 20, 10, 20, 10, 20, 10, 20, 10, 60,\n",
    "             10, 15, 10, 15, 10, 15, 10, 15, 10, 15, 10, 15, 10, 15, 10, 15, 10, 15, 10, 15,\n",
    "             10, 15, 10, 15, 10, 15, 10, 15, 10, 15, 10, 15, 10, 120, # 17 times \n",
    "             10, 20, 10, 20, 10, 20, 10, 20, 10, 20, 10, 60]\n",
    "\n",
    "reps = 1 # whole sequence repetition\n",
    "start = time.time()\n",
    "mirrors.sequence_of_single_images(img_seq, img_times, reps)\n",
    "mirrors.idle()\n",
    "\n",
    "# SAVE THE PROTOCOL\n",
    "filenames_camera_0 = r'\\SPC00_TM*_ANG000_CM0_CHN00_PH0.stack'\n",
    "all_volumes = sorted(glob(images_folder + filenames_camera_0))\n",
    "for num, volume in enumerate(all_volumes):\n",
    "    current = os.path.getctime(volume)\n",
    "    if current - start > 0:\n",
    "        break\n",
    "np.savez(images_folder + protocol_name,\n",
    "         TM=num, images=img_seq_names, durations=img_times)"
   ]
  },
  {
   "cell_type": "markdown",
   "metadata": {},
   "source": [
    "### MBON trainig protocol"
   ]
  },
  {
   "cell_type": "code",
   "execution_count": 6,
   "metadata": {},
   "outputs": [
    {
     "name": "stderr",
     "output_type": "stream",
     "text": [
      "C:\\Users\\Light Sheet User\\AppData\\Local\\Temp\\ipykernel_20820\\2777809818.py:6: DeprecationWarning: Starting with ImageIO v3 the behavior of this function will switch to that of iio.v3.imread. To keep the current behavior (and make this warning disappear) use `import imageio.v2 as imageio` or call `imageio.v2.imread` directly.\n",
      "  od1 = imageio.imread(mirrors.save_dir + '\\\\mask_1.png') # odour_1\n",
      "C:\\Users\\Light Sheet User\\AppData\\Local\\Temp\\ipykernel_20820\\2777809818.py:7: DeprecationWarning: Starting with ImageIO v3 the behavior of this function will switch to that of iio.v3.imread. To keep the current behavior (and make this warning disappear) use `import imageio.v2 as imageio` or call `imageio.v2.imread` directly.\n",
      "  od2 = imageio.imread(mirrors.save_dir + '\\\\mask_2.png') # odour_2\n",
      "C:\\Users\\Light Sheet User\\AppData\\Local\\Temp\\ipykernel_20820\\2777809818.py:8: DeprecationWarning: Starting with ImageIO v3 the behavior of this function will switch to that of iio.v3.imread. To keep the current behavior (and make this warning disappear) use `import imageio.v2 as imageio` or call `imageio.v2.imread` directly.\n",
      "  pun = imageio.imread(mirrors.save_dir + '\\\\mask_3.png') # punishment\n"
     ]
    },
    {
     "ename": "KeyboardInterrupt",
     "evalue": "",
     "output_type": "error",
     "traceback": [
      "\u001b[1;31m---------------------------------------------------------------------------\u001b[0m",
      "\u001b[1;31mKeyboardInterrupt\u001b[0m                         Traceback (most recent call last)",
      "\u001b[1;32mc:\\Users\\Light Sheet User\\Documents\\GitHub\\DMD\\dmd_protocol.ipynb Cell 30\u001b[0m line \u001b[0;36m5\n\u001b[0;32m     <a href='vscode-notebook-cell:/c%3A/Users/Light%20Sheet%20User/Documents/GitHub/DMD/dmd_protocol.ipynb#X41sZmlsZQ%3D%3D?line=52'>53</a>\u001b[0m reps \u001b[39m=\u001b[39m \u001b[39m1\u001b[39m \u001b[39m# whole sequence repetition\u001b[39;00m\n\u001b[0;32m     <a href='vscode-notebook-cell:/c%3A/Users/Light%20Sheet%20User/Documents/GitHub/DMD/dmd_protocol.ipynb#X41sZmlsZQ%3D%3D?line=53'>54</a>\u001b[0m start \u001b[39m=\u001b[39m time\u001b[39m.\u001b[39mtime()\n\u001b[1;32m---> <a href='vscode-notebook-cell:/c%3A/Users/Light%20Sheet%20User/Documents/GitHub/DMD/dmd_protocol.ipynb#X41sZmlsZQ%3D%3D?line=54'>55</a>\u001b[0m mirrors\u001b[39m.\u001b[39;49msequence_of_single_images(img_seq, img_times, reps)\n\u001b[0;32m     <a href='vscode-notebook-cell:/c%3A/Users/Light%20Sheet%20User/Documents/GitHub/DMD/dmd_protocol.ipynb#X41sZmlsZQ%3D%3D?line=55'>56</a>\u001b[0m mirrors\u001b[39m.\u001b[39midle()\n\u001b[0;32m     <a href='vscode-notebook-cell:/c%3A/Users/Light%20Sheet%20User/Documents/GitHub/DMD/dmd_protocol.ipynb#X41sZmlsZQ%3D%3D?line=57'>58</a>\u001b[0m \u001b[39m# SAVE THE PROTOCOL\u001b[39;00m\n",
      "File \u001b[1;32mc:\\Users\\Light Sheet User\\Documents\\GitHub\\DMD\\dmd_control.py:170\u001b[0m, in \u001b[0;36mdmd.sequence_of_single_images\u001b[1;34m(self, images, durations, repetitions)\u001b[0m\n\u001b[0;32m    168\u001b[0m         \u001b[39mself\u001b[39m\u001b[39m.\u001b[39mDMD\u001b[39m.\u001b[39mSeqPut(imgData \u001b[39m=\u001b[39m images[j])\n\u001b[0;32m    169\u001b[0m         \u001b[39mself\u001b[39m\u001b[39m.\u001b[39mDMD\u001b[39m.\u001b[39mRun(loop\u001b[39m=\u001b[39m\u001b[39mTrue\u001b[39;00m)\n\u001b[1;32m--> 170\u001b[0m         time\u001b[39m.\u001b[39;49msleep(durations[j])\n\u001b[0;32m    171\u001b[0m \u001b[39mself\u001b[39m\u001b[39m.\u001b[39mDMD\u001b[39m.\u001b[39mSeqAlloc(nbImg\u001b[39m=\u001b[39m\u001b[39m1\u001b[39m, bitDepth\u001b[39m=\u001b[39m\u001b[39m1\u001b[39m)\n\u001b[0;32m    172\u001b[0m \u001b[39mself\u001b[39m\u001b[39m.\u001b[39mDMD\u001b[39m.\u001b[39mSeqControl(\u001b[39m2104\u001b[39m, \u001b[39m2106\u001b[39m)\n",
      "\u001b[1;31mKeyboardInterrupt\u001b[0m: "
     ]
    }
   ],
   "source": [
    "# The path to the current acquisition folder is needed in order to save the sequence of projections.\n",
    "current_acquisition = r'\\1_1_20231030_105408' # <-- HEREDD:\\Data\\learning\\\n",
    "protocol_name = r\"/1_1\"\n",
    "images_folder = mirrors.xp_folder + current_acquisition \n",
    "\n",
    "od1 = imageio.imread(mirrors.save_dir + '\\\\mask_1.png') # odour_1\n",
    "od2 = imageio.imread(mirrors.save_dir + '\\\\mask_2.png') # odour_2\n",
    "pun = imageio.imread(mirrors.save_dir + '\\\\mask_3.png') # punishment\n",
    "\n",
    "img_seq = [\n",
    "           od1, mirrors.dark, od2, mirrors.dark,\n",
    "           od1, mirrors.dark, od2, mirrors.dark,\n",
    "           od1, mirrors.dark, od2, mirrors.dark,\n",
    "\n",
    "           od1, mirrors.dark, pun, mirrors.dark, od1, mirrors.dark, pun, mirrors.dark,\n",
    "           od1, mirrors.dark, pun, mirrors.dark, od1, mirrors.dark, pun, mirrors.dark,\n",
    "           od1, mirrors.dark, pun, mirrors.dark, od1, mirrors.dark, pun, mirrors.dark,\n",
    "           od1, mirrors.dark, pun, mirrors.dark, od1, mirrors.dark, pun, mirrors.dark,\n",
    "\n",
    "           od1, mirrors.dark, od2, mirrors.dark,\n",
    "           od1, mirrors.dark, od2, mirrors.dark,\n",
    "           od1, mirrors.dark, od2, mirrors.dark\n",
    "           ]\n",
    "img_seq_names = [\n",
    "                '1','dark', '2','dark',\n",
    "                 '1','dark', '2','dark',\n",
    "                 '1','dark', '2','dark',\n",
    "\n",
    "                 '1', 'dark', 'p', 'dark', '1', 'dark', 'p', 'dark',\n",
    "                 '1', 'dark', 'p', 'dark', '1', 'dark', 'p', 'dark',\n",
    "                 '1', 'dark', 'p', 'dark', '1', 'dark', 'p', 'dark',\n",
    "                 '1', 'dark', 'p', 'dark', '1', 'dark', 'p', 'dark',\n",
    "\n",
    "                 '1','dark', '2','dark',\n",
    "                 '1','dark', '2','dark',\n",
    "                 '1','dark', '2','dark'\n",
    "                 ]\n",
    "img_times = [\n",
    "            20, 45, 20, 45,\n",
    "             20, 45, 20, 45,\n",
    "             20, 45, 20, 45,\n",
    "\n",
    "             20, 5, 20, 60, 20, 5, 20, 60,\n",
    "             20, 5, 20, 60, 20, 5, 20, 60,\n",
    "             20, 5, 20, 60, 20, 5, 20, 60,\n",
    "             20, 5, 20, 60, 20, 5, 20, 60,\n",
    "             \n",
    "             20, 45, 20, 45,\n",
    "             20, 45, 20, 45,\n",
    "             20, 45, 20, 45\n",
    "             ]\n",
    "\n",
    "reps = 1 # whole sequence repetition\n",
    "start = time.time()\n",
    "mirrors.sequence_of_single_images(img_seq, img_times, reps)\n",
    "mirrors.idle()\n",
    "\n",
    "# SAVE THE PROTOCOL\n",
    "filenames_camera_0 = r'\\SPC00_TM*_ANG000_CM0_CHN00_PH0.stack'\n",
    "all_volumes = sorted(glob(images_folder + filenames_camera_0))\n",
    "for num, volume in enumerate(all_volumes):\n",
    "    current = os.path.getctime(volume)\n",
    "    if current - start > 0:\n",
    "        break\n",
    "np.savez(images_folder + protocol_name,\n",
    "         TM=num, images=img_seq_names, durations=img_times)"
   ]
  },
  {
   "cell_type": "markdown",
   "metadata": {},
   "source": [
    "SAM PROTOCOL WITH 2 ODOURS (30.3 mins)"
   ]
  },
  {
   "cell_type": "code",
   "execution_count": 6,
   "metadata": {},
   "outputs": [
    {
     "name": "stderr",
     "output_type": "stream",
     "text": [
      "C:\\Users\\Light Sheet User\\AppData\\Local\\Temp\\ipykernel_25436\\3812522150.py:7: DeprecationWarning: Starting with ImageIO v3 the behavior of this function will switch to that of iio.v3.imread. To keep the current behavior (and make this warning disappear) use `import imageio.v2 as imageio` or call `imageio.v2.imread` directly.\n",
      "  od1 = imageio.imread(mirrors.save_dir + '\\\\mask_1.png') # odour_1\n",
      "C:\\Users\\Light Sheet User\\AppData\\Local\\Temp\\ipykernel_25436\\3812522150.py:8: DeprecationWarning: Starting with ImageIO v3 the behavior of this function will switch to that of iio.v3.imread. To keep the current behavior (and make this warning disappear) use `import imageio.v2 as imageio` or call `imageio.v2.imread` directly.\n",
      "  od2 = imageio.imread(mirrors.save_dir + '\\\\mask_2.png') # odour_2\n",
      "C:\\Users\\Light Sheet User\\AppData\\Local\\Temp\\ipykernel_25436\\3812522150.py:9: DeprecationWarning: Starting with ImageIO v3 the behavior of this function will switch to that of iio.v3.imread. To keep the current behavior (and make this warning disappear) use `import imageio.v2 as imageio` or call `imageio.v2.imread` directly.\n",
      "  pun = imageio.imread(mirrors.save_dir + '\\\\mask_3.png') # punishment\n"
     ]
    }
   ],
   "source": [
    "# The path to the current acquisition folder is needed in order to save the sequence of projections.\n",
    "import time\n",
    "current_acquisition = r'\\2_1_20231115_150631' # <-- HERE D:\\Data\\lear\n",
    "protocol_name = r\"/2_1\"\n",
    "images_folder = mirrors.xp_folder + current_acquisition \n",
    "\n",
    "od1 = imageio.imread(mirrors.save_dir + '\\\\mask_1.png') # odour_1\n",
    "od2 = imageio.imread(mirrors.save_dir + '\\\\mask_2.png') # odour_2\n",
    "pun = imageio.imread(mirrors.save_dir + '\\\\mask_3.png') # punishment\n",
    "\n",
    "img_seq = [\n",
    "           od1, mirrors.dark, od2, mirrors.dark,\n",
    "           od1, mirrors.dark, od2, mirrors.dark,\n",
    "           od1, mirrors.dark, od2, mirrors.dark,\n",
    "\n",
    "           od1, mirrors.dark, pun, mirrors.dark, od2, mirrors.dark, od1, mirrors.dark, pun, mirrors.dark, od2, mirrors.dark,\n",
    "           od1, mirrors.dark, pun, mirrors.dark, od2, mirrors.dark, od1, mirrors.dark, pun, mirrors.dark, od2, mirrors.dark,\n",
    "           od1, mirrors.dark, pun, mirrors.dark, od2, mirrors.dark, od1, mirrors.dark, pun, mirrors.dark, od2, mirrors.dark,\n",
    "           od1, mirrors.dark, pun, mirrors.dark, od2, mirrors.dark, od1, mirrors.dark, pun, mirrors.dark, od2, mirrors.dark,\n",
    "\n",
    "           od1, mirrors.dark, od2, mirrors.dark,\n",
    "           od1, mirrors.dark, od2, mirrors.dark,\n",
    "           od1, mirrors.dark, od2, mirrors.dark\n",
    "           ]\n",
    "img_seq_names = [\n",
    "                '1','dark', '2','dark',\n",
    "                 '1','dark', '2','dark',\n",
    "                 '1','dark', '2','dark',\n",
    "\n",
    "                 '1', 'dark', 'p', 'dark','2','dark', '1', 'dark', 'p', 'dark','2','dark',\n",
    "                 '1', 'dark', 'p', 'dark','2','dark', '1', 'dark', 'p', 'dark','2','dark',\n",
    "                 '1', 'dark', 'p', 'dark','2','dark', '1', 'dark', 'p', 'dark','2','dark',\n",
    "                 '1', 'dark', 'p', 'dark', '2','dark','1', 'dark', 'p', 'dark','2','dark',\n",
    "\n",
    "                 '1','dark', '2','dark',\n",
    "                 '1','dark', '2','dark',\n",
    "                 '1','dark', '2','dark'\n",
    "                  ]\n",
    "img_times = [\n",
    "            20, 45, 20, 45,\n",
    "             20, 45, 20, 45,\n",
    "             20, 45, 20, 45,\n",
    "\n",
    "             20, 5, 20, 5, 20, 60, 20, 5, 20, 5, 20, 60,\n",
    "             20, 5, 20, 5, 20, 60, 20, 5, 20, 5, 20, 60,\n",
    "             20, 5, 20, 5, 20, 60, 20, 5, 20, 5, 20, 60,\n",
    "             20, 5, 20, 5, 20, 60, 20, 5, 20, 5, 20, 60,\n",
    "             \n",
    "             20, 45, 20, 45,\n",
    "             20, 45, 20, 45,\n",
    "             20, 45, 20, 45\n",
    "             ]\n",
    "\n",
    "reps = 1 # whole sequence repetition\n",
    "start = time.time()\n",
    "mirrors.sequence_of_single_images(img_seq, img_times, reps)\n",
    "mirrors.idle()\n",
    "\n",
    "# SAVE THE PROTOCOL\n",
    "filenames_camera_0 = r'\\SPC00_TM*_ANG000_CM0_CHN00_PH0.stack'\n",
    "all_volumes = sorted(glob(images_folder + filenames_camera_0))\n",
    "for num, volume in enumerate(all_volumes):\n",
    "    current = os.path.getctime(volume)\n",
    "    if current - start > 0:\n",
    "        break\n",
    "np.savez(images_folder + protocol_name,\n",
    "         TM=num, images=img_seq_names, durations=img_times)"
   ]
  },
  {
   "cell_type": "markdown",
   "metadata": {},
   "source": [
    "Sam's protocol (LONGER)"
   ]
  },
  {
   "cell_type": "code",
   "execution_count": 6,
   "metadata": {},
   "outputs": [
    {
     "name": "stderr",
     "output_type": "stream",
     "text": [
      "C:\\Users\\Light Sheet User\\AppData\\Local\\Temp\\ipykernel_26988\\4089100158.py:7: DeprecationWarning: Starting with ImageIO v3 the behavior of this function will switch to that of iio.v3.imread. To keep the current behavior (and make this warning disappear) use `import imageio.v2 as imageio` or call `imageio.v2.imread` directly.\n",
      "  od1 = imageio.imread(mirrors.save_dir + '\\\\mask_1.png') # odour_1\n",
      "C:\\Users\\Light Sheet User\\AppData\\Local\\Temp\\ipykernel_26988\\4089100158.py:8: DeprecationWarning: Starting with ImageIO v3 the behavior of this function will switch to that of iio.v3.imread. To keep the current behavior (and make this warning disappear) use `import imageio.v2 as imageio` or call `imageio.v2.imread` directly.\n",
      "  od2 = imageio.imread(mirrors.save_dir + '\\\\mask_2.png') # odour_2\n",
      "C:\\Users\\Light Sheet User\\AppData\\Local\\Temp\\ipykernel_26988\\4089100158.py:9: DeprecationWarning: Starting with ImageIO v3 the behavior of this function will switch to that of iio.v3.imread. To keep the current behavior (and make this warning disappear) use `import imageio.v2 as imageio` or call `imageio.v2.imread` directly.\n",
      "  pun = imageio.imread(mirrors.save_dir + '\\\\mask_3.png') # punishment\n"
     ]
    }
   ],
   "source": [
    "# The path to the current acquisition folder is needed in order to save the sequence of projections.\n",
    "import time\n",
    "current_acquisition = r'\\9_1_20231207_115657' # <-- D:\\Data\\57C10__Or83b_ppk__jRGECO_iRFP__\n",
    "protocol_name = r\"/9_1\"\n",
    "images_folder = mirrors.xp_folder + current_acquisition \n",
    "\n",
    "od1 = imageio.imread(mirrors.save_dir + '\\\\mask_1.png') # odour_1\n",
    "od2 = imageio.imread(mirrors.save_dir + '\\\\mask_2.png') # odour_2\n",
    "pun = imageio.imread(mirrors.save_dir + '\\\\mask_3.png') # punishment\n",
    "\n",
    "img_seq = [\n",
    "           od1, mirrors.dark, od2, mirrors.dark,\n",
    "           od1, mirrors.dark, od2, mirrors.dark,\n",
    "           od1, mirrors.dark, od2, mirrors.dark,\n",
    "\n",
    "           od1, mirrors.dark, pun, mirrors.dark, od2, mirrors.dark, od1, mirrors.dark, pun, mirrors.dark, od2, mirrors.dark,\n",
    "           od1, mirrors.dark, pun, mirrors.dark, od2, mirrors.dark, od1, mirrors.dark, pun, mirrors.dark, od2, mirrors.dark,\n",
    "           od1, mirrors.dark, pun, mirrors.dark, od2, mirrors.dark, od1, mirrors.dark, pun, mirrors.dark, od2, mirrors.dark,\n",
    "           od1, mirrors.dark, pun, mirrors.dark, od2, mirrors.dark, od1, mirrors.dark, pun, mirrors.dark, od2, mirrors.dark,\n",
    "           od1, mirrors.dark, pun, mirrors.dark, od2, mirrors.dark, od1, mirrors.dark, pun, mirrors.dark, od2, mirrors.dark,\n",
    "           od1, mirrors.dark, pun, mirrors.dark, od2, mirrors.dark, od1, mirrors.dark, pun, mirrors.dark, od2, mirrors.dark,\n",
    "           od1, mirrors.dark, pun, mirrors.dark, od2, mirrors.dark, od1, mirrors.dark, pun, mirrors.dark, od2, mirrors.dark,\n",
    "           od1, mirrors.dark, pun, mirrors.dark, od2, mirrors.dark, od1, mirrors.dark, pun, mirrors.dark, od2, mirrors.dark,\n",
    "           od1, mirrors.dark, pun, mirrors.dark, od2, mirrors.dark, od1, mirrors.dark, pun, mirrors.dark, od2, mirrors.dark,\n",
    "           od1, mirrors.dark, pun, mirrors.dark, od2, mirrors.dark, od1, mirrors.dark, pun, mirrors.dark, od2, mirrors.dark,\n",
    "           od1, mirrors.dark, pun, mirrors.dark, od2, mirrors.dark, od1, mirrors.dark, pun, mirrors.dark, od2, mirrors.dark,\n",
    "           od1, mirrors.dark, pun, mirrors.dark, od2, mirrors.dark, od1, mirrors.dark, pun, mirrors.dark, od2, mirrors.dark,\n",
    "\n",
    "           od1, mirrors.dark, od2, mirrors.dark,\n",
    "           od1, mirrors.dark, od2, mirrors.dark,\n",
    "           od1, mirrors.dark, od2, mirrors.dark\n",
    "           ]\n",
    "img_seq_names = [\n",
    "                '1','dark', '2','dark',\n",
    "                 '1','dark', '2','dark',\n",
    "                 '1','dark', '2','dark',\n",
    "\n",
    "                 '1', 'dark', 'p', 'dark','2','dark', '1', 'dark', 'p', 'dark','2','dark',\n",
    "                 '1', 'dark', 'p', 'dark','2','dark', '1', 'dark', 'p', 'dark','2','dark',\n",
    "                 '1', 'dark', 'p', 'dark','2','dark', '1', 'dark', 'p', 'dark','2','dark',\n",
    "                 '1', 'dark', 'p', 'dark', '2','dark','1', 'dark', 'p', 'dark','2','dark',\n",
    "                 '1', 'dark', 'p', 'dark','2','dark', '1', 'dark', 'p', 'dark','2','dark',\n",
    "                 '1', 'dark', 'p', 'dark','2','dark', '1', 'dark', 'p', 'dark','2','dark',\n",
    "                 '1', 'dark', 'p', 'dark','2','dark', '1', 'dark', 'p', 'dark','2','dark',\n",
    "                 '1', 'dark', 'p', 'dark', '2','dark','1', 'dark', 'p', 'dark','2','dark',\n",
    "                 '1', 'dark', 'p', 'dark','2','dark', '1', 'dark', 'p', 'dark','2','dark',\n",
    "                 '1', 'dark', 'p', 'dark','2','dark', '1', 'dark', 'p', 'dark','2','dark',\n",
    "                 '1', 'dark', 'p', 'dark','2','dark', '1', 'dark', 'p', 'dark','2','dark',\n",
    "                 '1', 'dark', 'p', 'dark', '2','dark','1', 'dark', 'p', 'dark','2','dark',\n",
    "\n",
    "                 '1','dark', '2','dark',\n",
    "                 '1','dark', '2','dark',\n",
    "                 '1','dark', '2','dark'\n",
    "                  ]\n",
    "img_times = [\n",
    "            20, 45, 20, 45,\n",
    "             20, 45, 20, 45,\n",
    "             20, 45, 20, 45,\n",
    "\n",
    "             20, 5, 20, 5, 20, 60, 20, 5, 20, 5, 20, 60,\n",
    "             20, 5, 20, 5, 20, 60, 20, 5, 20, 5, 20, 60,\n",
    "             20, 5, 20, 5, 20, 60, 20, 5, 20, 5, 20, 60,\n",
    "             20, 5, 20, 5, 20, 60, 20, 5, 20, 5, 20, 60,\n",
    "             20, 5, 20, 5, 20, 60, 20, 5, 20, 5, 20, 60,\n",
    "             20, 5, 20, 5, 20, 60, 20, 5, 20, 5, 20, 60,\n",
    "             20, 5, 20, 5, 20, 60, 20, 5, 20, 5, 20, 60,\n",
    "             20, 5, 20, 5, 20, 60, 20, 5, 20, 5, 20, 60,\n",
    "             20, 5, 20, 5, 20, 60, 20, 5, 20, 5, 20, 60,\n",
    "             20, 5, 20, 5, 20, 60, 20, 5, 20, 5, 20, 60,\n",
    "             20, 5, 20, 5, 20, 60, 20, 5, 20, 5, 20, 60,\n",
    "             20, 5, 20, 5, 20, 60, 20, 5, 20, 5, 20, 60,\n",
    "             \n",
    "             20, 45, 20, 45,\n",
    "             20, 45, 20, 45,\n",
    "             20, 45, 20, 45\n",
    "             ]\n",
    "\n",
    "reps = 1 # whole sequence repetition\n",
    "start = time.time()\n",
    "mirrors.sequence_of_single_images(img_seq, img_times, reps)\n",
    "mirrors.idle()\n",
    "\n",
    "# SAVE THE PROTOCOL\n",
    "filenames_camera_0 = r'\\SPC00_TM*_ANG000_CM0_CHN00_PH0.stack'\n",
    "all_volumes = sorted(glob(images_folder + filenames_camera_0))\n",
    "for num, volume in enumerate(all_volumes):\n",
    "    current = os.path.getctime(volume)\n",
    "    if current - start > 0:\n",
    "        break\n",
    "np.savez(images_folder + protocol_name,\n",
    "         TM=num, images=img_seq_names, durations=img_times)"
   ]
  },
  {
   "cell_type": "markdown",
   "metadata": {},
   "source": [
    "SAME TIME (Hadi's, 21mins)"
   ]
  },
  {
   "cell_type": "code",
   "execution_count": 6,
   "metadata": {},
   "outputs": [
    {
     "name": "stderr",
     "output_type": "stream",
     "text": [
      "C:\\Users\\Light Sheet User\\AppData\\Local\\Temp\\ipykernel_22436\\111115180.py:7: DeprecationWarning: Starting with ImageIO v3 the behavior of this function will switch to that of iio.v3.imread. To keep the current behavior (and make this warning disappear) use `import imageio.v2 as imageio` or call `imageio.v2.imread` directly.\n",
      "  od1 = imageio.imread(mirrors.save_dir + '\\\\mask_1.png') # odour_1\n",
      "C:\\Users\\Light Sheet User\\AppData\\Local\\Temp\\ipykernel_22436\\111115180.py:8: DeprecationWarning: Starting with ImageIO v3 the behavior of this function will switch to that of iio.v3.imread. To keep the current behavior (and make this warning disappear) use `import imageio.v2 as imageio` or call `imageio.v2.imread` directly.\n",
      "  od2 = imageio.imread(mirrors.save_dir + '\\\\mask_2.png') # odour_2\n",
      "C:\\Users\\Light Sheet User\\AppData\\Local\\Temp\\ipykernel_22436\\111115180.py:9: DeprecationWarning: Starting with ImageIO v3 the behavior of this function will switch to that of iio.v3.imread. To keep the current behavior (and make this warning disappear) use `import imageio.v2 as imageio` or call `imageio.v2.imread` directly.\n",
      "  pun = imageio.imread(mirrors.save_dir + '\\\\mask_3.png') # punishment\n"
     ]
    }
   ],
   "source": [
    "# The path to the current acquisition folder is needed in order to save the sequence of projections.\n",
    "import time\n",
    "current_acquisition = r'\\2_2_20231212_113818' # <-- HERE VD:\\D:\\DataurPostTest\\2\\\n",
    "protocol_name = r\"/2_2\"\n",
    "images_folder = mirrors.xp_folder + current_acquisition\n",
    "\n",
    "od1 = imageio.imread(mirrors.save_dir + '\\\\mask_1.png') # odour_1\n",
    "od2 = imageio.imread(mirrors.save_dir + '\\\\mask_2.png') # odour_2\n",
    "pun = imageio.imread(mirrors.save_dir + '\\\\mask_3.png') # punishment\n",
    "sum = mirrors.sum_patterns([od1, pun])\n",
    "\n",
    "img_seq = [\n",
    "           od1, mirrors.dark, od2, mirrors.dark,\n",
    "           od1, mirrors.dark, od2, mirrors.dark,\n",
    "           od1, mirrors.dark, od2, mirrors.dark,\n",
    "\n",
    "           sum, mirrors.dark, od2, mirrors.dark,\n",
    "           sum, mirrors.dark, od2, mirrors.dark,\n",
    "           sum, mirrors.dark, od2, mirrors.dark,\n",
    "           sum, mirrors.dark, od2, mirrors.dark,\n",
    "           sum, mirrors.dark, od2, mirrors.dark,\n",
    "           sum, mirrors.dark, od2, mirrors.dark,\n",
    "           sum, mirrors.dark, od2, mirrors.dark,\n",
    "           sum, mirrors.dark, od2, mirrors.dark,\n",
    "           sum, mirrors.dark, od2, mirrors.dark,\n",
    "           sum, mirrors.dark, od2, mirrors.dark,\n",
    "\n",
    "           od1, mirrors.dark, od2, mirrors.dark,\n",
    "           od1, mirrors.dark, od2, mirrors.dark,\n",
    "           od1, mirrors.dark, od2, mirrors.dark\n",
    "           ]\n",
    "img_seq_names = [\n",
    "                '1','dark', '2','dark',\n",
    "                 '1','dark', '2','dark',\n",
    "                 '1','dark', '2','dark',\n",
    "\n",
    "                 '1andP', 'dark', '2', 'dark',\n",
    "                 '1andP', 'dark', '2', 'dark',\n",
    "                 '1andP', 'dark', '2', 'dark',\n",
    "                 '1andP', 'dark', '2', 'dark',\n",
    "                 '1andP', 'dark', '2', 'dark',\n",
    "                 '1andP', 'dark', '2', 'dark',\n",
    "                 '1andP', 'dark', '2', 'dark',\n",
    "                 '1andP', 'dark', '2', 'dark',\n",
    "                 '1andP', 'dark', '2', 'dark',\n",
    "                 '1andP', 'dark', '2', 'dark',\n",
    "\n",
    "                 '1','dark', '2','dark',\n",
    "                 '1','dark', '2','dark',\n",
    "                 '1','dark', '2','dark'\n",
    "                  ]\n",
    "img_times = [\n",
    "             20, 45, 20, 45,\n",
    "             20, 45, 20, 45,\n",
    "             20, 45, 20, 45,\n",
    "\n",
    "             20, 5, 20, 5, 20, 5, 20, 5, 20, 5, 20, 5, 20, 5, 20, 5, 20, 5, 20, 5,\n",
    "             20, 5, 20, 5, 20, 5, 20, 5, 20, 5, 20, 5, 20, 5, 20, 5, 20, 5, 20, 5,\n",
    "             \n",
    "             20, 45, 20, 45,\n",
    "             20, 45, 20, 45,\n",
    "             20, 45, 20, 45\n",
    "             ]\n",
    "\n",
    "reps = 1 # whole sequence repetition\n",
    "start = time.time()\n",
    "mirrors.sequence_of_single_images(img_seq, img_times, reps)\n",
    "mirrors.idle()\n",
    "\n",
    "# SAVE THE PROTOCOL\n",
    "filenames_camera_0 = r'\\SPC00_TM*_ANG000_CM0_CHN00_PH0.stack'\n",
    "all_volumes = sorted(glob(images_folder + filenames_camera_0))\n",
    "for num, volume in enumerate(all_volumes):\n",
    "    current = os.path.getctime(volume)\n",
    "    if current - start > 0:\n",
    "        break\n",
    "np.savez(images_folder + protocol_name,\n",
    "         TM=num, images=img_seq_names, durations=img_times)"
   ]
  },
  {
   "cell_type": "code",
   "execution_count": 8,
   "metadata": {},
   "outputs": [
    {
     "name": "stdout",
     "output_type": "stream",
     "text": [
      "21.333333333333332\n"
     ]
    }
   ],
   "source": [
    "img_times = [\n",
    "             20, 45, 20, 45,\n",
    "             20, 45, 20, 45,\n",
    "             20, 45, 20, 45,\n",
    "\n",
    "             20, 5, 20, 5, 20, 5, 20, 5, 20, 5, 20, 5, 20, 5, 20, 5, 20, 5, 20, 5,\n",
    "             20, 5, 20, 5, 20, 5, 20, 5, 20, 5, 20, 5, 20, 5, 20, 5, 20, 5, 20, 5,\n",
    "             \n",
    "             20, 45, 20, 45,\n",
    "             20, 45, 20, 45,\n",
    "             20, 45, 20, 45\n",
    "             ]\n",
    "tot = 0\n",
    "for t in img_times:\n",
    "    tot +=t\n",
    "print(tot/60)"
   ]
  },
  {
   "cell_type": "markdown",
   "metadata": {},
   "source": [
    "Same time and FASTER (16 mins total)"
   ]
  },
  {
   "cell_type": "code",
   "execution_count": null,
   "metadata": {},
   "outputs": [],
   "source": [
    "# The path to the current acquisition folder is needed in order to save the sequence of projections.\n",
    "import time\n",
    "current_acquisition = r'\\8_1_20231206_112827' # <-- HERE D:\\Data\\57C10__Or83b_ppk__jRGECO_iRFP__ChronosmVenus__ChronosmVenus_repo-GFP\\3xOdourTest_24xOdour+ppk_3xOdourPostTest\\6\\\n",
    "protocol_name = r\"/8_1\"\n",
    "images_folder = mirrors.xp_folder + current_acquisition \n",
    "\n",
    "od1 = imageio.imread(mirrors.save_dir + '\\\\mask_1.png') # odour_1\n",
    "od2 = imageio.imread(mirrors.save_dir + '\\\\mask_2.png') # odour_2\n",
    "pun = imageio.imread(mirrors.save_dir + '\\\\mask_3.png') # punishment\n",
    "sum = mirrors.sum_patterns([od1, pun])\n",
    "\n",
    "img_seq = [\n",
    "           od1, mirrors.dark, od2, mirrors.dark,\n",
    "           od1, mirrors.dark, od2, mirrors.dark,\n",
    "           od1, mirrors.dark, od2, mirrors.dark,\n",
    "\n",
    "           sum, mirrors.dark, od2, mirrors.dark,\n",
    "           sum, mirrors.dark, od2, mirrors.dark,\n",
    "           sum, mirrors.dark, od2, mirrors.dark,\n",
    "           sum, mirrors.dark, od2, mirrors.dark,\n",
    "           sum, mirrors.dark, od2, mirrors.dark,\n",
    "           sum, mirrors.dark, od2, mirrors.dark,\n",
    "           sum, mirrors.dark, od2, mirrors.dark,\n",
    "           sum, mirrors.dark, od2, mirrors.dark,\n",
    "           sum, mirrors.dark, od2, mirrors.dark,\n",
    "\n",
    "           od1, mirrors.dark, od2, mirrors.dark,\n",
    "           od1, mirrors.dark, od2, mirrors.dark,\n",
    "           od1, mirrors.dark, od2, mirrors.dark\n",
    "           ]\n",
    "img_seq_names = [\n",
    "                '1','dark', '2','dark',\n",
    "                 '1','dark', '2','dark',\n",
    "                 '1','dark', '2','dark',\n",
    "\n",
    "                 '1andP', 'dark', '2', 'dark',\n",
    "                 '1andP', 'dark', '2', 'dark',\n",
    "                 '1andP', 'dark', '2', 'dark',\n",
    "                 '1andP', 'dark', '2', 'dark',\n",
    "                 '1andP', 'dark', '2', 'dark',\n",
    "                 '1andP', 'dark', '2', 'dark',\n",
    "                 '1andP', 'dark', '2', 'dark',\n",
    "                 '1andP', 'dark', '2', 'dark',\n",
    "                 '1andP', 'dark', '2', 'dark',\n",
    "                 '1andP', 'dark', '2', 'dark',\n",
    "\n",
    "                 '1','dark', '2','dark',\n",
    "                 '1','dark', '2','dark',\n",
    "                 '1','dark', '2','dark'\n",
    "                  ]\n",
    "img_times = [\n",
    "             10, 45, 10, 45,\n",
    "             10, 45, 10, 45,\n",
    "             10, 45, 10, 45,\n",
    "\n",
    "             10, 5, 10, 5, 10, 5, 10, 5, 10, 5, 10, 5, 10, 5, 10, 5, 10, 5, 10, 5, \n",
    "             10, 5, 10, 5, 10, 5, 10, 5, 10, 5, 10, 5, 10, 5, 10, 5, 10, 5, 10, 5, \n",
    "             \n",
    "             10, 45, 10, 45,\n",
    "             10, 45, 10, 45,\n",
    "             10, 45, 10, 45\n",
    "             ]\n",
    "\n",
    "reps = 1 # whole sequence repetition\n",
    "start = time.time()\n",
    "mirrors.sequence_of_single_images(img_seq, img_times, reps)\n",
    "mirrors.idle()\n",
    "\n",
    "# SAVE THE PROTOCOL\n",
    "filenames_camera_0 = r'\\SPC00_TM*_ANG000_CM0_CHN00_PH0.stack'\n",
    "all_volumes = sorted(glob(images_folder + filenames_camera_0))\n",
    "for num, volume in enumerate(all_volumes):\n",
    "    current = os.path.getctime(volume)\n",
    "    if current - start > 0:\n",
    "        break\n",
    "np.savez(images_folder + protocol_name,\n",
    "         TM=num, images=img_seq_names, durations=img_times)"
   ]
  },
  {
   "cell_type": "code",
   "execution_count": 7,
   "metadata": {},
   "outputs": [
    {
     "name": "stdout",
     "output_type": "stream",
     "text": [
      "21.333333333333332\n"
     ]
    }
   ],
   "source": [
    "img_times = [\n",
    "             20, 45, 20, 45,\n",
    "             20, 45, 20, 45,\n",
    "             20, 45, 20, 45,\n",
    "\n",
    "             20, 5, 20, 5, 20, 5, 20, 5, 20, 5, 20, 5, 20, 5, 20, 5, 20, 5, 20, 5,\n",
    "             20, 5, 20, 5, 20, 5, 20, 5, 20, 5, 20, 5, 20, 5, 20, 5, 20, 5, 20, 5,\n",
    "             \n",
    "             20, 45, 20, 45,\n",
    "             20, 45, 20, 45,\n",
    "             20, 45, 20, 45\n",
    "             ]\n",
    "\n",
    "tot = 0\n",
    "for time in img_times:\n",
    "    tot += time\n",
    "\n",
    "print(tot/60)"
   ]
  },
  {
   "cell_type": "code",
   "execution_count": 3,
   "metadata": {},
   "outputs": [
    {
     "name": "stdout",
     "output_type": "stream",
     "text": [
      "65.0\n"
     ]
    }
   ],
   "source": [
    "img_times = [\n",
    "            20, 45, 20, 45,\n",
    "             20, 45, 20, 45,\n",
    "             20, 45, 20, 45,\n",
    "\n",
    "             20, 5, 20, 5, 20, 60, 20, 5, 20, 5, 20, 60,\n",
    "             20, 5, 20, 5, 20, 60, 20, 5, 20, 5, 20, 60,\n",
    "             20, 5, 20, 5, 20, 60, 20, 5, 20, 5, 20, 60,\n",
    "             20, 5, 20, 5, 20, 60, 20, 5, 20, 5, 20, 60,\n",
    "             20, 5, 20, 5, 20, 60, 20, 5, 20, 5, 20, 60,\n",
    "             20, 5, 20, 5, 20, 60, 20, 5, 20, 5, 20, 60,\n",
    "             20, 5, 20, 5, 20, 60, 20, 5, 20, 5, 20, 60,\n",
    "             20, 5, 20, 5, 20, 60, 20, 5, 20, 5, 20, 60,\n",
    "             20, 5, 20, 5, 20, 60, 20, 5, 20, 5, 20, 60,\n",
    "             20, 5, 20, 5, 20, 60, 20, 5, 20, 5, 20, 60,\n",
    "             20, 5, 20, 5, 20, 60, 20, 5, 20, 5, 20, 60,\n",
    "             20, 5, 20, 5, 20, 60, 20, 5, 20, 5, 20, 60,\n",
    "             \n",
    "             20, 45, 20, 45,\n",
    "             20, 45, 20, 45,\n",
    "             20, 45, 20, 45\n",
    "             ]\n",
    "tot = 0\n",
    "for time in img_times:\n",
    "    tot += time\n",
    "print(tot/60)"
   ]
  },
  {
   "cell_type": "code",
   "execution_count": 8,
   "metadata": {},
   "outputs": [
    {
     "data": {
      "text/plain": [
       "30.333333333333332"
      ]
     },
     "execution_count": 8,
     "metadata": {},
     "output_type": "execute_result"
    }
   ],
   "source": [
    "img_times = [\n",
    "            20, 45, 20, 45,\n",
    "             20, 45, 20, 45,\n",
    "             20, 45, 20, 45,\n",
    "\n",
    "             20, 5, 20, 5, 20, 60, 20, 5, 20, 5, 20, 60,\n",
    "             20, 5, 20, 5, 20, 60, 20, 5, 20, 5, 20, 60,\n",
    "             20, 5, 20, 5, 20, 60, 20, 5, 20, 5, 20, 60,\n",
    "             20, 5, 20, 5, 20, 60, 20, 5, 20, 5, 20, 60,\n",
    "             \n",
    "             20, 45, 20, 45,\n",
    "             20, 45, 20, 45,\n",
    "             20, 45, 20, 45\n",
    "             ]\n",
    "tot = 0\n",
    "for time in img_times:\n",
    "    tot+= time\n",
    "tot/60"
   ]
  },
  {
   "cell_type": "code",
   "execution_count": 9,
   "metadata": {},
   "outputs": [
    {
     "name": "stdout",
     "output_type": "stream",
     "text": [
      "TM\n",
      "558\n",
      "images\n",
      "['od1' 'dark' 'od2' 'dark' 'od3' 'dark' 'od4' 'dark' 'od3' 'dark' 'od1'\n",
      " 'dark']\n",
      "durations\n",
      "[5 5 5 5 5 5 5 5 5 5 5 5]\n"
     ]
    }
   ],
   "source": [
    "# how to read the dmd triggers file\n",
    "a = np.load(images_folder + \"triggers_numpy.npz\")\n",
    "lst = a.files\n",
    "for item in lst:\n",
    "    print(item)\n",
    "    print(a[item])"
   ]
  },
  {
   "cell_type": "markdown",
   "metadata": {},
   "source": []
  },
  {
   "cell_type": "markdown",
   "metadata": {},
   "source": [
    "### Close the DMD when done."
   ]
  },
  {
   "cell_type": "code",
   "execution_count": 16,
   "metadata": {},
   "outputs": [
    {
     "name": "stdout",
     "output_type": "stream",
     "text": [
      "\n",
      "DMD halted.\n",
      "DMD closed.\n",
      "\n"
     ]
    }
   ],
   "source": [
    "mirrors.close()"
   ]
  },
  {
   "cell_type": "code",
   "execution_count": null,
   "metadata": {},
   "outputs": [],
   "source": []
  },
  {
   "cell_type": "code",
   "execution_count": 16,
   "metadata": {},
   "outputs": [
    {
     "name": "stdout",
     "output_type": "stream",
     "text": [
      "TM\n",
      "94\n",
      "images\n",
      "['1' 'dark' '1' 'dark' '1' 'dark' '1' 'dark' '1' 'dark' '1' 'dark' '1'\n",
      " 'dark' '1' 'dark' '1' 'dark' '1' 'dark' '1' 'dark' '1' 'dark' '1' 'dark'\n",
      " '1' 'dark' '1' 'dark' '1' 'dark']\n",
      "durations\n",
      "[10 50 10 50 10 50 10 50 10 50 10 50 10 50 10 50 10 50 10 50 10 50 10 50\n",
      " 10 50 10 50 10 50 10 50]\n"
     ]
    }
   ],
   "source": [
    "import numpy as np\n",
    "a = np.load(r'D:\\Data\\KC_speed_tests\\1_1_20240216_142207\\1_1.npz')\n",
    "lst = a.files\n",
    "for item in lst:\n",
    "    print(item)\n",
    "    print(a[item])"
   ]
  }
 ],
 "metadata": {
  "kernelspec": {
   "display_name": "light-sheet",
   "language": "python",
   "name": "python3"
  },
  "language_info": {
   "codemirror_mode": {
    "name": "ipython",
    "version": 3
   },
   "file_extension": ".py",
   "mimetype": "text/x-python",
   "name": "python",
   "nbconvert_exporter": "python",
   "pygments_lexer": "ipython3",
   "version": "3.9.7"
  },
  "orig_nbformat": 4
 },
 "nbformat": 4,
 "nbformat_minor": 2
}
