{
 "cells": [
  {
   "cell_type": "code",
   "execution_count": 1,
   "metadata": {},
   "outputs": [],
   "source": [
    "from dmd_control import dmd\n",
    "import imageio\n",
    "import numpy as np\n",
    "import time\n",
    "from glob import glob\n",
    "import os\n",
    "from datetime import datetime"
   ]
  },
  {
   "cell_type": "code",
   "execution_count": 2,
   "metadata": {},
   "outputs": [],
   "source": [
    "XP_FOLDER = r'D:\\Data\\Or42b_57C10__Chronos-mVenus_rGECO'\n",
    "TARGET_FOLDER = XP_FOLDER + r'\\2_488_20230829_164410'\n",
    "GENERAL_PARAMETERS = r'C:\\\\Users\\\\Light Sheet User\\\\Desktop\\\\DMD_parameters.pickled'"
   ]
  },
  {
   "cell_type": "code",
   "execution_count": 3,
   "metadata": {},
   "outputs": [
    {
     "name": "stdout",
     "output_type": "stream",
     "text": [
      "Loading library: C:/Program Files/ALP-4.3/ALP-4.3 API/x64/alp4395.dll\n",
      "DMD found, resolution = 1920 x 1200.\n",
      "DMD patterns folder already exists.\n"
     ]
    }
   ],
   "source": [
    "mirrors = dmd(XP_FOLDER, TARGET_FOLDER, GENERAL_PARAMETERS)"
   ]
  },
  {
   "cell_type": "markdown",
   "metadata": {},
   "source": [
    "##### Calibration procedure:\n",
    "- project the *calibration_mask*\n",
    "- save the image through the Labview code\n",
    "- run the *find_affine* method\n",
    "The affine transorm parameters are save or future use."
   ]
  },
  {
   "cell_type": "code",
   "execution_count": 4,
   "metadata": {},
   "outputs": [],
   "source": [
    "mirrors.project(mirrors.calibration_mask)"
   ]
  },
  {
   "cell_type": "markdown",
   "metadata": {},
   "source": [
    "Save the calibration image. Usually choosing the same folder as **mirrors.parameters['params_folder']** is a good choice to keep things tidy.\n",
    "Then plug it in the following method and run it to compute the afffine transform parameters."
   ]
  },
  {
   "cell_type": "code",
   "execution_count": null,
   "metadata": {},
   "outputs": [],
   "source": [
    "calibration_image = r'C:\\Users\\Light Sheet User\\Documents\\GitHub\\DMD\\camera_DMD_calibration.png'\n",
    "mirrors.find_affine(calibration_image)"
   ]
  },
  {
   "cell_type": "code",
   "execution_count": null,
   "metadata": {},
   "outputs": [],
   "source": [
    "mirrors.parameters['params_folder']"
   ]
  },
  {
   "cell_type": "markdown",
   "metadata": {},
   "source": [
    "#### ROI selection\n",
    "Use the following method to select ROIs to be stimulated by the DMD.\n",
    "It is supposed to read sqaure ROIs, where you start drawing from top left corner to bottom right corner of the ROI. Different geometries are not implemented and may result in random or no pattern at all."
   ]
  },
  {
   "cell_type": "code",
   "execution_count": 26,
   "metadata": {},
   "outputs": [],
   "source": [
    "mirrors.select_ROIs()"
   ]
  },
  {
   "cell_type": "code",
   "execution_count": 27,
   "metadata": {},
   "outputs": [
    {
     "name": "stdout",
     "output_type": "stream",
     "text": [
      "Found 2 ROI(s)\n",
      "Target ROI(s) folder already exists.\n",
      "offsets [[0. 0.]]\n",
      "offsets [[0. 0.]]\n"
     ]
    }
   ],
   "source": [
    "mirrors.import_N_rois(exp='2_test')"
   ]
  },
  {
   "cell_type": "code",
   "execution_count": 42,
   "metadata": {},
   "outputs": [
    {
     "name": "stderr",
     "output_type": "stream",
     "text": [
      "C:\\Users\\Light Sheet User\\AppData\\Local\\Temp\\ipykernel_16472\\150084632.py:1: DeprecationWarning: Starting with ImageIO v3 the behavior of this function will switch to that of iio.v3.imread. To keep the current behavior (and make this warning disappear) use `import imageio.v2 as imageio` or call `imageio.v2.imread` directly.\n",
      "  img1 = imageio.imread(mirrors.save_dir + '\\\\mask_1.png')\n",
      "C:\\Users\\Light Sheet User\\AppData\\Local\\Temp\\ipykernel_16472\\150084632.py:2: DeprecationWarning: Starting with ImageIO v3 the behavior of this function will switch to that of iio.v3.imread. To keep the current behavior (and make this warning disappear) use `import imageio.v2 as imageio` or call `imageio.v2.imread` directly.\n",
      "  img2 = imageio.imread(mirrors.save_dir + '\\\\mask_2.png')\n"
     ]
    }
   ],
   "source": [
    "img1 = imageio.imread(mirrors.save_dir + '\\\\mask_1.png')\n",
    "img2 = imageio.imread(mirrors.save_dir + '\\\\mask_2.png')\n",
    "\n",
    "def sum_patterns(patterns):\n",
    "    total = np.ones((patterns[0].shape), dtype=np.uint16)\n",
    "    for pattern in patterns:\n",
    "        total *= pattern\n",
    "        total[total[:, :] > 1] = 255\n",
    "    total = np.asarray(total, dtype=np.uint8)\n",
    "    return total\n",
    "\n",
    "tot = sum_patterns([img1, img2])\n",
    "mirrors.project(tot)"
   ]
  },
  {
   "cell_type": "markdown",
   "metadata": {},
   "source": [
    "### PROTOCOL:\n",
    "Load the images you want to use, and input how long each image should be displayed."
   ]
  },
  {
   "cell_type": "code",
   "execution_count": 23,
   "metadata": {},
   "outputs": [
    {
     "name": "stderr",
     "output_type": "stream",
     "text": [
      "C:\\Users\\Light Sheet User\\AppData\\Local\\Temp\\ipykernel_16472\\1259979119.py:1: DeprecationWarning: Starting with ImageIO v3 the behavior of this function will switch to that of iio.v3.imread. To keep the current behavior (and make this warning disappear) use `import imageio.v2 as imageio` or call `imageio.v2.imread` directly.\n",
      "  img1 = imageio.imread(mirrors.save_dir + '\\\\mask_1.png')\n"
     ]
    }
   ],
   "source": [
    "img1 = imageio.imread(mirrors.save_dir + '\\\\mask_1.png')\n",
    "\n",
    "img_seq = [img1, mirrors.dark, img1, mirrors.dark]\n",
    "img_seq_names = ['od1', 'dark', 'od1', 'dark'] # for saving later\n",
    "img_times = [5, 5, 5, 10] # in seconds\n",
    "reps = 3 # whole sequence repetition\n",
    "start = time.time()\n",
    "mirrors.sequence_of_single_images(img_seq, img_times, reps)\n",
    "mirrors.idle()\n",
    "\n",
    "# SAVE THE PROTOCOL\n",
    "images_folder = mirrors.xp_folder + r'\\2_2_20230829_171405'\n",
    "filenames_camera_0 = r'\\SPC00_TM*_ANG000_CM0_CHN00_PH0.stack'\n",
    "all_volumes = sorted(glob(images_folder + filenames_camera_0))\n",
    "for num, volume in enumerate(all_volumes):\n",
    "    current = os.path.getctime(volume)\n",
    "    if current - start > 0:\n",
    "        break\n",
    "\n",
    "np.savez(images_folder + \"triggers_numpy\", \n",
    "         TM=num, images=img_seq_names, durations=img_times)\n",
    "\n",
    "# HOW TO READ IT:\n",
    "# a = np.load(images_folder + \"triggers_numpy.npz\")\n",
    "# lst = a.files\n",
    "# for item in lst:\n",
    "#     print(item)\n",
    "#     print(a[item])"
   ]
  },
  {
   "cell_type": "code",
   "execution_count": 25,
   "metadata": {},
   "outputs": [
    {
     "name": "stdout",
     "output_type": "stream",
     "text": [
      "TM\n",
      "<class 'str'>\n",
      "558\n",
      "images\n",
      "<class 'str'>\n",
      "['od1' 'dark' 'od1' 'dark']\n",
      "durations\n",
      "<class 'str'>\n",
      "[ 5  5  5 10]\n"
     ]
    }
   ],
   "source": [
    "a = np.load(images_folder + \"triggers_numpy.npz\")\n",
    "lst = a.files\n",
    "for item in lst:\n",
    "    print(item)\n",
    "    print(type(item))\n",
    "    print(a[item])"
   ]
  },
  {
   "cell_type": "markdown",
   "metadata": {},
   "source": [
    "Close the DMD when done."
   ]
  },
  {
   "cell_type": "code",
   "execution_count": null,
   "metadata": {},
   "outputs": [],
   "source": [
    "mirrors.close()"
   ]
  }
 ],
 "metadata": {
  "kernelspec": {
   "display_name": "LS_2",
   "language": "python",
   "name": "python3"
  },
  "language_info": {
   "codemirror_mode": {
    "name": "ipython",
    "version": 3
   },
   "file_extension": ".py",
   "mimetype": "text/x-python",
   "name": "python",
   "nbconvert_exporter": "python",
   "pygments_lexer": "ipython3",
   "version": "3.10.12"
  },
  "orig_nbformat": 4
 },
 "nbformat": 4,
 "nbformat_minor": 2
}
