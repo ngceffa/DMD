{
 "cells": [
  {
   "cell_type": "code",
   "execution_count": 1,
   "metadata": {},
   "outputs": [
    {
     "name": "stdout",
     "output_type": "stream",
     "text": [
      "Loading library: C:/Program Files/ALP-4.3/ALP-4.3 API/x64/alp4395.dll\n",
      "DMD found, resolution = 1920 x 1200.\n",
      "DMD patterns folder already exists.\n"
     ]
    }
   ],
   "source": [
    "from dmd_control import dmd\n",
    "import imageio\n",
    "import numpy as np\n",
    "import time\n",
    "from glob import glob\n",
    "import os\n",
    "from datetime import datetime\n",
    "\n",
    "mirrors = dmd()\n",
    "# %matplotlib qt\n",
    "# p = mirrors.find_affine(r'C:\\Users\\Light Sheet User\\Desktop\\dmd_2\\camera_calib.png', show=False)"
   ]
  },
  {
   "cell_type": "code",
   "execution_count": 3,
   "metadata": {},
   "outputs": [],
   "source": [
    "mirrors.project(mirrors.calibration_mask)"
   ]
  },
  {
   "cell_type": "code",
   "execution_count": 2,
   "metadata": {},
   "outputs": [
    {
     "name": "stdout",
     "output_type": "stream",
     "text": [
      "1421.8 1265.6\n",
      "626.0 940.0\n"
     ]
    }
   ],
   "source": [
    "mirrors.find_affine(r'C:\\Users\\Light Sheet User\\Desktop\\dmd_2\\test_calib.png')"
   ]
  },
  {
   "cell_type": "code",
   "execution_count": 3,
   "metadata": {},
   "outputs": [
    {
     "ename": "AttributeError",
     "evalue": "'dmd' object has no attribute 'viewer'",
     "output_type": "error",
     "traceback": [
      "\u001b[1;31m---------------------------------------------------------------------------\u001b[0m",
      "\u001b[1;31mAttributeError\u001b[0m                            Traceback (most recent call last)",
      "Cell \u001b[1;32mIn[3], line 1\u001b[0m\n\u001b[1;32m----> 1\u001b[0m mirrors\u001b[39m.\u001b[39;49mimport_N_rois(exp\u001b[39m=\u001b[39;49m\u001b[39m'\u001b[39;49m\u001b[39mparam_2\u001b[39;49m\u001b[39m'\u001b[39;49m)\n",
      "File \u001b[1;32mc:\\Users\\Light Sheet User\\Desktop\\dmd_2\\dmd_control.py:151\u001b[0m, in \u001b[0;36mdmd.import_N_rois\u001b[1;34m(self, exp)\u001b[0m\n\u001b[0;32m    147\u001b[0m \u001b[39m\u001b[39m\u001b[39m\"\"\"Call after select_ROIs.\u001b[39;00m\n\u001b[0;32m    148\u001b[0m \u001b[39mi-th excitation pattern is saved as mask_i.png\u001b[39;00m\n\u001b[0;32m    149\u001b[0m \u001b[39min a subfolder called as the exp parameter\"\"\"\u001b[39;00m\n\u001b[0;32m    150\u001b[0m \u001b[39mself\u001b[39m\u001b[39m.\u001b[39mrois \u001b[39m=\u001b[39m []\n\u001b[1;32m--> 151\u001b[0m \u001b[39mif\u001b[39;00m \u001b[39mlen\u001b[39m(\u001b[39mself\u001b[39;49m\u001b[39m.\u001b[39;49mviewer\u001b[39m.\u001b[39mlayers) \u001b[39m==\u001b[39m \u001b[39m1\u001b[39m:\n\u001b[0;32m    152\u001b[0m     \u001b[39mprint\u001b[39m(\u001b[39m'\u001b[39m\u001b[39mNo ROIs drawn. Nothing is done.\u001b[39m\u001b[39m\\n\u001b[39;00m\u001b[39m'\u001b[39m)\n\u001b[0;32m    153\u001b[0m     \u001b[39mreturn\u001b[39;00m \u001b[39m0\u001b[39m\n",
      "\u001b[1;31mAttributeError\u001b[0m: 'dmd' object has no attribute 'viewer'"
     ]
    }
   ],
   "source": [
    "mirrors.import_N_rois(exp='param_2')"
   ]
  },
  {
   "cell_type": "code",
   "execution_count": 2,
   "metadata": {},
   "outputs": [
    {
     "name": "stderr",
     "output_type": "stream",
     "text": [
      "C:\\Users\\Light Sheet User\\AppData\\Local\\Temp\\ipykernel_1328\\2082645734.py:1: DeprecationWarning: Starting with ImageIO v3 the behavior of this function will switch to that of iio.v3.imread. To keep the current behavior (and make this warning disappear) use `import imageio.v2 as imageio` or call `imageio.v2.imread` directly.\n",
      "  img1 = imageio.imread(r'D:\\Data\\Orb3b_ppk_72F11_57C10__Chronos-mVenus_Chronos-mVenus_Chronos-mVenus_rGeco-iRFP\\excitation_patterns\\param_2\\mask_1.png')\n"
     ]
    },
    {
     "ename": "FileNotFoundError",
     "evalue": "[Errno 2] No such file or directory: 'D:\\\\Data\\\\Orb3b_ppk_72F11_ 57C10__Chronos-mVenus_Chronos-mVenus_Chronos-mVenus_rGeco-iRFP\\\\3_488_20230824_143022/ch0.xml'",
     "output_type": "error",
     "traceback": [
      "\u001b[1;31m---------------------------------------------------------------------------\u001b[0m",
      "\u001b[1;31mFileNotFoundError\u001b[0m                         Traceback (most recent call last)",
      "Cell \u001b[1;32mIn[2], line 3\u001b[0m\n\u001b[0;32m      1\u001b[0m img1 \u001b[39m=\u001b[39m imageio\u001b[39m.\u001b[39mimread(\u001b[39mr\u001b[39m\u001b[39m'\u001b[39m\u001b[39mD:\u001b[39m\u001b[39m\\\u001b[39m\u001b[39mData\u001b[39m\u001b[39m\\\u001b[39m\u001b[39mOrb3b_ppk_72F11_57C10__Chronos-mVenus_Chronos-mVenus_Chronos-mVenus_rGeco-iRFP\u001b[39m\u001b[39m\\\u001b[39m\u001b[39mexcitation_patterns\u001b[39m\u001b[39m\\\u001b[39m\u001b[39mparam_2\u001b[39m\u001b[39m\\\u001b[39m\u001b[39mmask_1.png\u001b[39m\u001b[39m'\u001b[39m)\n\u001b[0;32m      2\u001b[0m \u001b[39m# img2 = imageio.imread(mirrors.folder + '\\\\' + 'test_mask_2.png')\u001b[39;00m\n\u001b[1;32m----> 3\u001b[0m mirrors\u001b[39m.\u001b[39;49mapply_affine(img1[:, :], mirrors\u001b[39m.\u001b[39;49mxp_folder \u001b[39m+\u001b[39;49m \u001b[39mr\u001b[39;49m\u001b[39m'\u001b[39;49m\u001b[39m\\\u001b[39;49m\u001b[39m1.png\u001b[39;49m\u001b[39m'\u001b[39;49m)\n\u001b[0;32m      4\u001b[0m \u001b[39m# mirrors.apply_affine(img2[:, :], mirrors.folder + '\\\\2.png')\u001b[39;00m\n",
      "File \u001b[1;32mc:\\Users\\Light Sheet User\\Desktop\\dmd_2\\dmd_control.py:337\u001b[0m, in \u001b[0;36mdmd.apply_affine\u001b[1;34m(self, image, output_name)\u001b[0m\n\u001b[0;32m    335\u001b[0m mask_vectors \u001b[39m=\u001b[39m mt\u001b[39m.\u001b[39mfind_all_max(image)\n\u001b[0;32m    336\u001b[0m \u001b[39m# find the top-left corner of the ROI (usually we crop a lot to increase acquisition speed)\u001b[39;00m\n\u001b[1;32m--> 337\u001b[0m \u001b[39mwith\u001b[39;00m (\u001b[39mopen\u001b[39;49m(\u001b[39mself\u001b[39;49m\u001b[39m.\u001b[39;49mtarget_folder \u001b[39m+\u001b[39;49m \u001b[39m'\u001b[39;49m\u001b[39m/ch0.xml\u001b[39;49m\u001b[39m'\u001b[39;49m)) \u001b[39mas\u001b[39;00m file:\n\u001b[0;32m    338\u001b[0m     \u001b[39mfor\u001b[39;00m line \u001b[39min\u001b[39;00m file:\n\u001b[0;32m    339\u001b[0m         dims \u001b[39m=\u001b[39m re\u001b[39m.\u001b[39mmatch(\u001b[39m'\u001b[39m\u001b[39m^<info camera_roi\u001b[39m\u001b[39m'\u001b[39m, line)\n",
      "\u001b[1;31mFileNotFoundError\u001b[0m: [Errno 2] No such file or directory: 'D:\\\\Data\\\\Orb3b_ppk_72F11_ 57C10__Chronos-mVenus_Chronos-mVenus_Chronos-mVenus_rGeco-iRFP\\\\3_488_20230824_143022/ch0.xml'"
     ]
    }
   ],
   "source": [
    "img1 = imageio.imread(r'D:\\Data\\Orb3b_ppk_72F11_57C10__Chronos-mVenus_Chronos-mVenus_Chronos-mVenus_rGeco-iRFP\\excitation_patterns\\param_2\\mask_1.png')\n",
    "# img2 = imageio.imread(mirrors.folder + '\\\\' + 'test_mask_2.png')\n",
    "mirrors.apply_affine(img1[:, :], mirrors.xp_folder + r'\\1.png')\n",
    "# mirrors.apply_affine(img2[:, :], mirrors.folder + '\\\\2.png')"
   ]
  },
  {
   "cell_type": "code",
   "execution_count": 6,
   "metadata": {},
   "outputs": [
    {
     "name": "stderr",
     "output_type": "stream",
     "text": [
      "C:\\Users\\Light Sheet User\\AppData\\Local\\Temp\\ipykernel_16144\\2488379926.py:1: DeprecationWarning: Starting with ImageIO v3 the behavior of this function will switch to that of iio.v3.imread. To keep the current behavior (and make this warning disappear) use `import imageio.v2 as imageio` or call `imageio.v2.imread` directly.\n",
      "  img1 = imageio.imread(mirrors.folder + '\\\\1.png')\n",
      "C:\\Users\\Light Sheet User\\AppData\\Local\\Temp\\ipykernel_16144\\2488379926.py:2: DeprecationWarning: Starting with ImageIO v3 the behavior of this function will switch to that of iio.v3.imread. To keep the current behavior (and make this warning disappear) use `import imageio.v2 as imageio` or call `imageio.v2.imread` directly.\n",
      "  img2 = imageio.imread(mirrors.folder + '\\\\2.png')\n"
     ]
    }
   ],
   "source": [
    "img1 = imageio.imread(mirrors.folder + '\\\\1.png')\n",
    "img2 = imageio.imread(mirrors.folder + '\\\\2.png')\n",
    "mirrors.project(img1[:, :])"
   ]
  },
  {
   "cell_type": "markdown",
   "metadata": {},
   "source": [
    "Access the DMD:"
   ]
  },
  {
   "cell_type": "code",
   "execution_count": 2,
   "metadata": {},
   "outputs": [
    {
     "name": "stdout",
     "output_type": "stream",
     "text": [
      "Loading library: C:/Program Files/ALP-4.3/ALP-4.3 API/x64/alp4395.dll\n",
      "DMD found, resolution = 1920 x 1200.\n"
     ]
    }
   ],
   "source": [
    "mirrors = dmd()"
   ]
  },
  {
   "cell_type": "code",
   "execution_count": null,
   "metadata": {},
   "outputs": [],
   "source": []
  },
  {
   "cell_type": "code",
   "execution_count": null,
   "metadata": {},
   "outputs": [],
   "source": []
  },
  {
   "cell_type": "code",
   "execution_count": null,
   "metadata": {},
   "outputs": [],
   "source": []
  },
  {
   "cell_type": "markdown",
   "metadata": {},
   "source": [
    "Load target images:"
   ]
  },
  {
   "cell_type": "code",
   "execution_count": 55,
   "metadata": {},
   "outputs": [
    {
     "name": "stderr",
     "output_type": "stream",
     "text": [
      "C:\\Users\\Light Sheet User\\AppData\\Local\\Temp\\ipykernel_21620\\2550790356.py:2: DeprecationWarning: Starting with ImageIO v3 the behavior of this function will switch to that of iio.v3.imread. To keep the current behavior (and make this warning disappear) use `import imageio.v2 as imageio` or call `imageio.v2.imread` directly.\n",
      "  odour_1 = imageio.imread(folder + r'\\000__odour_1.png')\n",
      "C:\\Users\\Light Sheet User\\AppData\\Local\\Temp\\ipykernel_21620\\2550790356.py:3: DeprecationWarning: Starting with ImageIO v3 the behavior of this function will switch to that of iio.v3.imread. To keep the current behavior (and make this warning disappear) use `import imageio.v2 as imageio` or call `imageio.v2.imread` directly.\n",
      "  odour_2 = imageio.imread(folder + r'\\000__sum_punish.png')\n"
     ]
    },
    {
     "data": {
      "text/plain": [
       "255"
      ]
     },
     "execution_count": 55,
     "metadata": {},
     "output_type": "execute_result"
    }
   ],
   "source": [
    "folder = r'C:\\Users\\Light Sheet User\\Documents\\SiMView Configuration\\DMD Images'\n",
    "odour_1 = imageio.imread(folder + r'\\000__odour_1.png')\n",
    "odour_2 = imageio.imread(folder + r'\\000__sum_punish.png')\n",
    "# punishment = imageio.imread('')"
   ]
  },
  {
   "cell_type": "markdown",
   "metadata": {},
   "source": [
    "Apply the protocol, using the stored \"dark\" attribute for dead times:"
   ]
  },
  {
   "cell_type": "code",
   "execution_count": 57,
   "metadata": {},
   "outputs": [],
   "source": [
    "img_seq = [odour_1, mirrors.dark, odour_2, mirrors.dark]\n",
    "img_seq_names = ['od_1', 'dark', 'od2', 'dark']\n",
    "img_times = [5, 5, 5, 10]\n",
    "reps = 3\n",
    "start = time.time()\n",
    "mirrors.sequence_of_single_images(img_seq, img_times, reps)"
   ]
  },
  {
   "cell_type": "markdown",
   "metadata": {},
   "source": [
    "Save the protocol:"
   ]
  },
  {
   "cell_type": "code",
   "execution_count": 139,
   "metadata": {},
   "outputs": [],
   "source": [
    "start = time.time()\n",
    "images_folder = r'D:\\Data\\PAN_2\\2_3_20230818_150426'\n",
    "filenames_camera_0 = r'\\SPC00_TM*_ANG000_CM0_CHN00_PH0.stack'\n",
    "all_volumes = sorted(glob(images_folder + filenames_camera_0))\n",
    "for num, volume in enumerate(all_volumes):\n",
    "    current = os.path.getctime(volume)\n",
    "    if current - start > 0:\n",
    "        break\n",
    "\n",
    "np.savez(images_folder + \"triggers_numpy\", TM=num, images=img_seq_names, durations=img_times)\n",
    "a = np.load(images_folder + \"triggers_numpy.npz\")\n",
    "# HOW TO READ IT:\n",
    "# lst = a.files\n",
    "# for item in lst:\n",
    "#     print(item)\n",
    "#     print(a[item])"
   ]
  },
  {
   "cell_type": "markdown",
   "metadata": {},
   "source": [
    "Once finished, close the DMD:"
   ]
  },
  {
   "cell_type": "code",
   "execution_count": 10,
   "metadata": {},
   "outputs": [
    {
     "name": "stdout",
     "output_type": "stream",
     "text": [
      "\n",
      "DMD halted.\n",
      "DMD closed.\n",
      "\n"
     ]
    }
   ],
   "source": [
    "mirrors.close()"
   ]
  },
  {
   "cell_type": "code",
   "execution_count": 49,
   "metadata": {},
   "outputs": [
    {
     "name": "stderr",
     "output_type": "stream",
     "text": [
      "C:\\Users\\Light Sheet User\\AppData\\Local\\Temp\\ipykernel_21620\\2860581520.py:1: DeprecationWarning: Starting with ImageIO v3 the behavior of this function will switch to that of iio.v3.imread. To keep the current behavior (and make this warning disappear) use `import imageio.v2 as imageio` or call `imageio.v2.imread` directly.\n",
      "  image = imageio.imread(folder + r'\\000__odour_1.png')\n"
     ]
    }
   ],
   "source": [
    "image = imageio.imread(folder + r'\\000__odour_1.png')"
   ]
  },
  {
   "cell_type": "code",
   "execution_count": 62,
   "metadata": {},
   "outputs": [
    {
     "name": "stdout",
     "output_type": "stream",
     "text": [
      "Mon Aug 21 14:37:13 2023\n"
     ]
    }
   ],
   "source": [
    "import time\n",
    "start = time.ctime()\n",
    "print(start)"
   ]
  },
  {
   "cell_type": "code",
   "execution_count": 72,
   "metadata": {},
   "outputs": [
    {
     "data": {
      "text/plain": [
       "['14', '37', '13']"
      ]
     },
     "execution_count": 72,
     "metadata": {},
     "output_type": "execute_result"
    }
   ],
   "source": [
    "start.split(' ')[3].split(':')"
   ]
  },
  {
   "cell_type": "code",
   "execution_count": 1,
   "metadata": {},
   "outputs": [
    {
     "data": {
      "text/plain": [
       "str"
      ]
     },
     "execution_count": 1,
     "metadata": {},
     "output_type": "execute_result"
    }
   ],
   "source": [
    "ciao = 'o'\n",
    "type(ciao)"
   ]
  }
 ],
 "metadata": {
  "kernelspec": {
   "display_name": "LS_2",
   "language": "python",
   "name": "python3"
  },
  "language_info": {
   "codemirror_mode": {
    "name": "ipython",
    "version": 3
   },
   "file_extension": ".py",
   "mimetype": "text/x-python",
   "name": "python",
   "nbconvert_exporter": "python",
   "pygments_lexer": "ipython3",
   "version": "3.10.12"
  },
  "orig_nbformat": 4
 },
 "nbformat": 4,
 "nbformat_minor": 2
}
