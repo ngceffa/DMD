{
 "cells": [
  {
   "cell_type": "code",
   "execution_count": 55,
   "metadata": {},
   "outputs": [],
   "source": [
    "import numpy as np\n",
    "import matplotlib.pyplot as plt\n",
    "from scipy.signal import argrelextrema"
   ]
  },
  {
   "cell_type": "code",
   "execution_count": 114,
   "metadata": {},
   "outputs": [
    {
     "name": "stdout",
     "output_type": "stream",
     "text": [
      "TM\n",
      "54\n",
      "images\n",
      "['1' 'd']\n",
      "durations\n",
      "[20 20]\n"
     ]
    }
   ],
   "source": [
    "filename = r'C:\\Users\\Light Sheet User\\Desktop\\speed\\filter_1.csv'\n",
    "data = np.genfromtxt(filename, delimiter=',')\n",
    "TMs = data[1:, 0]\n",
    "intensity = data[1:, 1]\n",
    "intensity[intensity[:] < 200] = 0\n",
    "intensity[intensity[:] >= 200] = 1\n",
    "\n",
    "step = (101 * 4.1 + 89 ) * .001 # ms\n",
    "\n",
    "\n",
    "a = np.load(r'C:\\Users\\Light Sheet User\\Desktop\\speed\\tst_filter_1.npz')\n",
    "lst = a.files\n",
    "for item in lst:\n",
    "    print(item)\n",
    "    print(a[item])\n",
    "\n",
    "start = 54 * step \n",
    "jumps = [54 * step]\n",
    "for i in range(9):\n",
    "    jumps.append(jumps[-1]+20)\n",
    "dmd = np.zeros((len(intensity)))\n",
    "t = np.arange(0, len(intensity), step)\n",
    "for jump in jumps:\n",
    "    pass\n",
    "\n"
   ]
  },
  {
   "cell_type": "code",
   "execution_count": 143,
   "metadata": {},
   "outputs": [
    {
     "name": "stdout",
     "output_type": "stream",
     "text": [
      "[array([ 53,  54, 130, 131, 206, 207, 283, 284, 359, 360], dtype=int64)] [array([ 93,  94, 169, 170, 246, 247, 322, 323, 399, 400], dtype=int64)]\n",
      "0.12399999999999523\n"
     ]
    },
    {
     "data": {
      "image/png": "[encoded data removed]",
      "text/plain": [
       "<Figure size 640x480 with 1 Axes>"
      ]
     },
     "metadata": {},
     "output_type": "display_data"
    }
   ],
   "source": [
    "# plt.plot(TMs*step,intensity)\n",
    "# plt.plot(TMs*step,np.gradient(intensity), 'bo')\n",
    "grad = np.gradient(intensity)\n",
    "# for local maxima\n",
    "maxs = np.asarray(np.where(grad>0.2))\n",
    "mins = np.where(grad<-0.2)\n",
    "# for local minima\n",
    "newmax = []\n",
    "for i in range(len(maxs)):\n",
    "    newmax.append(maxs[i] + maxs[i] // 50)\n",
    "newmin = []\n",
    "for i in range(len(mins)):\n",
    "    newmin.append(mins[i] + mins[i] // 50)\n",
    "print(newmax, newmin)\n",
    "changes = [54, 94, 131, 169, 207, 247, 284, 323, 359, 400]\n",
    "changesec = []\n",
    "for change in changes:\n",
    "    changesec.append(change * step)\n",
    "\n",
    "\n",
    "#every 50\n",
    "plt.plot(changesec, 'o-', alpha=.2)\n",
    "plt.plot(jumps, 's-', alpha=.2)\n",
    "\n",
    "print(changesec[1] - jumps[1])\n",
    "\n",
    "\n"
   ]
  },
  {
   "cell_type": "code",
   "execution_count": 85,
   "metadata": {},
   "outputs": [
    {
     "data": {
      "text/plain": [
       "array([[ 52,  53, 128, 129, 202, 203, 278, 279, 352, 353]], dtype=int64)"
      ]
     },
     "execution_count": 85,
     "metadata": {},
     "output_type": "execute_result"
    }
   ],
   "source": [
    "cut = maxs[::3]\n",
    "cut"
   ]
  },
  {
   "cell_type": "code",
   "execution_count": 130,
   "metadata": {},
   "outputs": [
    {
     "data": {
      "text/plain": [
       "2"
      ]
     },
     "execution_count": 130,
     "metadata": {},
     "output_type": "execute_result"
    }
   ],
   "source": [
    "100 // 50"
   ]
  },
  {
   "cell_type": "code",
   "execution_count": 76,
   "metadata": {},
   "outputs": [
    {
     "data": {
      "text/plain": [
       "(array([ 92,  93, 166, 167, 242, 243, 316, 317, 392, 393], dtype=int64),)"
      ]
     },
     "execution_count": 76,
     "metadata": {},
     "output_type": "execute_result"
    }
   ],
   "source": [
    "mins"
   ]
  },
  {
   "cell_type": "code",
   "execution_count": 80,
   "metadata": {},
   "outputs": [
    {
     "data": {
      "text/plain": [
       "tuple"
      ]
     },
     "execution_count": 80,
     "metadata": {},
     "output_type": "execute_result"
    }
   ],
   "source": [
    "type(mins)"
   ]
  },
  {
   "cell_type": "code",
   "execution_count": null,
   "metadata": {},
   "outputs": [],
   "source": []
  }
 ],
 "metadata": {
  "kernelspec": {
   "display_name": "LS_2",
   "language": "python",
   "name": "python3"
  },
  "language_info": {
   "codemirror_mode": {
    "name": "ipython",
    "version": 3
   },
   "file_extension": ".py",
   "mimetype": "text/x-python",
   "name": "python",
   "nbconvert_exporter": "python",
   "pygments_lexer": "ipython3",
   "version": "3.10.12"
  }
 },
 "nbformat": 4,
 "nbformat_minor": 2
}
